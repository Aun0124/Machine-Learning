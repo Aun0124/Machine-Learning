{
  "nbformat": 4,
  "nbformat_minor": 0,
  "metadata": {
    "colab": {
      "name": "machine learning.ipynb",
      "provenance": [],
      "authorship_tag": "ABX9TyOk2H5byFpvct1rv+p1os2M",
      "include_colab_link": true
    },
    "kernelspec": {
      "name": "python3",
      "display_name": "Python 3"
    }
  },
  "cells": [
    {
      "cell_type": "markdown",
      "metadata": {
        "id": "view-in-github",
        "colab_type": "text"
      },
      "source": [
        "<a href=\"https://colab.research.google.com/github/TANKIANAUN/ML-learning/blob/master/machine_learning.ipynb\" target=\"_parent\"><img src=\"https://colab.research.google.com/assets/colab-badge.svg\" alt=\"Open In Colab\"/></a>"
      ]
    },
    {
      "cell_type": "code",
      "metadata": {
        "id": "r871rwjH2WXE",
        "colab_type": "code",
        "colab": {}
      },
      "source": [
        "e=2.1718281828\n",
        "answer=42\n",
        "message='Hello World'"
      ],
      "execution_count": 0,
      "outputs": []
    },
    {
      "cell_type": "code",
      "metadata": {
        "id": "joR3-qi7ZH59",
        "colab_type": "code",
        "outputId": "5d37c6e7-dba1-4452-bb00-9e04cffdbc93",
        "colab": {
          "base_uri": "https://localhost:8080/",
          "height": 35
        }
      },
      "source": [
        "import numpy as np\n",
        "a=np.array([1,2,3,4,5])\n",
        "a[::4]\n",
        "a"
      ],
      "execution_count": 0,
      "outputs": [
        {
          "output_type": "execute_result",
          "data": {
            "text/plain": [
              "array([1, 2, 3, 4, 5])"
            ]
          },
          "metadata": {
            "tags": []
          },
          "execution_count": 6
        }
      ]
    },
    {
      "cell_type": "code",
      "metadata": {
        "id": "xB8w2gMv27sp",
        "colab_type": "code",
        "outputId": "7c970600-a12a-49d5-ec31-30b2856dc174",
        "colab": {
          "base_uri": "https://localhost:8080/",
          "height": 69
        }
      },
      "source": [
        "print('%.10f'%e)\n",
        "print('%d'%answer)\n",
        "print('%s'%message)"
      ],
      "execution_count": 0,
      "outputs": [
        {
          "output_type": "stream",
          "text": [
            "2.1718281828\n",
            "42\n",
            "Hello World\n"
          ],
          "name": "stdout"
        }
      ]
    },
    {
      "cell_type": "code",
      "metadata": {
        "id": "3if9Stbs6QKc",
        "colab_type": "code",
        "outputId": "9cc125aa-8430-4637-8d86-81ba3e1f36c7",
        "colab": {
          "base_uri": "https://localhost:8080/",
          "height": 69
        }
      },
      "source": [
        "print('{}'.format(e))\n",
        "print('{}'.format(answer))\n",
        "print('{}'.format(message))"
      ],
      "execution_count": 0,
      "outputs": [
        {
          "output_type": "stream",
          "text": [
            "2.1718281828\n",
            "42\n",
            "Hello World\n"
          ],
          "name": "stdout"
        }
      ]
    },
    {
      "cell_type": "code",
      "metadata": {
        "id": "dgMXVTFvPGnR",
        "colab_type": "code",
        "colab": {}
      },
      "source": [
        "vector_a=[1,2]\n",
        "vector_b=[2,2]"
      ],
      "execution_count": 0,
      "outputs": []
    },
    {
      "cell_type": "code",
      "metadata": {
        "id": "jyZbRcB7PtDb",
        "colab_type": "code",
        "colab": {}
      },
      "source": [
        "sum=0\n",
        "for i in range(len(vector_a)):\n",
        "  sum=sum+vector_a[i]*vector_b[i]\n"
      ],
      "execution_count": 0,
      "outputs": []
    },
    {
      "cell_type": "code",
      "metadata": {
        "id": "k87JVTVTxN_E",
        "colab_type": "code",
        "colab": {}
      },
      "source": [
        "x=np.array([1,2,3,4,5,6,7,8,9])"
      ],
      "execution_count": 0,
      "outputs": []
    },
    {
      "cell_type": "code",
      "metadata": {
        "id": "y1h7v4dNxf5Q",
        "colab_type": "code",
        "colab": {}
      },
      "source": [
        "x1=x.reshape(len(x),1)"
      ],
      "execution_count": 0,
      "outputs": []
    },
    {
      "cell_type": "code",
      "metadata": {
        "id": "OqN9tWEtxl-e",
        "colab_type": "code",
        "outputId": "7b34d467-a410-498c-e20d-5be5aa8bb6fc",
        "colab": {
          "base_uri": "https://localhost:8080/",
          "height": 173
        }
      },
      "source": [
        "print(x1)"
      ],
      "execution_count": 0,
      "outputs": [
        {
          "output_type": "stream",
          "text": [
            "[[1]\n",
            " [2]\n",
            " [3]\n",
            " [4]\n",
            " [5]\n",
            " [6]\n",
            " [7]\n",
            " [8]\n",
            " [9]]\n"
          ],
          "name": "stdout"
        }
      ]
    },
    {
      "cell_type": "code",
      "metadata": {
        "id": "QB_5lrgXRSml",
        "colab_type": "code",
        "outputId": "cfd58136-522c-4c38-ee82-bcb59ef3d5d3",
        "colab": {
          "base_uri": "https://localhost:8080/",
          "height": 35
        }
      },
      "source": [
        "print('dot product = %.2f'%sum)"
      ],
      "execution_count": 0,
      "outputs": [
        {
          "output_type": "stream",
          "text": [
            "dot product = 6.00\n"
          ],
          "name": "stdout"
        }
      ]
    },
    {
      "cell_type": "code",
      "metadata": {
        "id": "BCOIHJ9r03Lr",
        "colab_type": "code",
        "colab": {}
      },
      "source": [
        "b11=np.array([[1],[2]])\n",
        "b11"
      ],
      "execution_count": 0,
      "outputs": []
    },
    {
      "cell_type": "code",
      "metadata": {
        "id": "Bxctn9xH1kBh",
        "colab_type": "code",
        "colab": {}
      },
      "source": [
        "(a11,b22)=b11"
      ],
      "execution_count": 0,
      "outputs": []
    },
    {
      "cell_type": "code",
      "metadata": {
        "id": "65sKeqQ510cN",
        "colab_type": "code",
        "outputId": "38172a44-1cc2-476b-83b8-e49b25a74c0f",
        "colab": {
          "base_uri": "https://localhost:8080/",
          "height": 35
        }
      },
      "source": [
        "a11\n"
      ],
      "execution_count": 0,
      "outputs": [
        {
          "output_type": "execute_result",
          "data": {
            "text/plain": [
              "array([1])"
            ]
          },
          "metadata": {
            "tags": []
          },
          "execution_count": 25
        }
      ]
    },
    {
      "cell_type": "code",
      "metadata": {
        "id": "6g7kQpv719kK",
        "colab_type": "code",
        "outputId": "c697a3f1-92fb-4143-a1a9-b14cfb7a310b",
        "colab": {
          "base_uri": "https://localhost:8080/",
          "height": 35
        }
      },
      "source": [
        "b22"
      ],
      "execution_count": 0,
      "outputs": [
        {
          "output_type": "execute_result",
          "data": {
            "text/plain": [
              "array([2])"
            ]
          },
          "metadata": {
            "tags": []
          },
          "execution_count": 26
        }
      ]
    }
  ]
}