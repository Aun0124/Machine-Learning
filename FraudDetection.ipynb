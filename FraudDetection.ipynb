{
  "nbformat": 4,
  "nbformat_minor": 0,
  "metadata": {
    "colab": {
      "name": "FraudDetection.ipynb",
      "provenance": [],
      "authorship_tag": "ABX9TyP7r0Nj8Y2gMOoJMpQ2UVtw",
      "include_colab_link": true
    },
    "kernelspec": {
      "name": "python3",
      "display_name": "Python 3"
    },
    "accelerator": "GPU"
  },
  "cells": [
    {
      "cell_type": "markdown",
      "metadata": {
        "id": "view-in-github",
        "colab_type": "text"
      },
      "source": [
        "<a href=\"https://colab.research.google.com/github/TANKIANAUN/Learning/blob/master/FraudDetection.ipynb\" target=\"_parent\"><img src=\"https://colab.research.google.com/assets/colab-badge.svg\" alt=\"Open In Colab\"/></a>"
      ]
    },
    {
      "cell_type": "code",
      "metadata": {
        "id": "H8n3xOrHgEAs",
        "colab_type": "code",
        "colab": {}
      },
      "source": [
        "import pandas as pd\n",
        "import numpy as np\n",
        "import matplotlib.pyplot as plt\n",
        "import seaborn as sns\n",
        "from sklearn.model_selection import train_test_split\n",
        "from sklearn.preprocessing import StandardScaler\n",
        "from keras.models import Sequential, load_model\n",
        "from keras.layers import Dense\n",
        "from keras.callbacks import ModelCheckpoint\n",
        "from keras import regularizers\n",
        "from sklearn.metrics import confusion_matrix"
      ],
      "execution_count": 0,
      "outputs": []
    },
    {
      "cell_type": "code",
      "metadata": {
        "id": "acrlxF9ulB1w",
        "colab_type": "code",
        "colab": {}
      },
      "source": [
        "data=pd.read_csv(\"310_23498_compressed_creditcard.csv.zip\")"
      ],
      "execution_count": 0,
      "outputs": []
    },
    {
      "cell_type": "code",
      "metadata": {
        "id": "puDTB6q4mROw",
        "colab_type": "code",
        "colab": {}
      },
      "source": [
        "data=data.head(50000)\n"
      ],
      "execution_count": 0,
      "outputs": []
    },
    {
      "cell_type": "code",
      "metadata": {
        "id": "nsnNQcUm5jD2",
        "colab_type": "code",
        "colab": {
          "base_uri": "https://localhost:8080/",
          "height": 35
        },
        "outputId": "110d4b85-a863-45f4-f827-e9b40f60dd9d"
      },
      "source": [
        "data.shape"
      ],
      "execution_count": 45,
      "outputs": [
        {
          "output_type": "execute_result",
          "data": {
            "text/plain": [
              "(50000, 31)"
            ]
          },
          "metadata": {
            "tags": []
          },
          "execution_count": 45
        }
      ]
    },
    {
      "cell_type": "code",
      "metadata": {
        "id": "uqN27M5h5nQ6",
        "colab_type": "code",
        "colab": {
          "base_uri": "https://localhost:8080/",
          "height": 222
        },
        "outputId": "f436cf09-478b-4da3-b8ce-4f17d95a1913"
      },
      "source": [
        "data.head()"
      ],
      "execution_count": 46,
      "outputs": [
        {
          "output_type": "execute_result",
          "data": {
            "text/html": [
              "<div>\n",
              "<style scoped>\n",
              "    .dataframe tbody tr th:only-of-type {\n",
              "        vertical-align: middle;\n",
              "    }\n",
              "\n",
              "    .dataframe tbody tr th {\n",
              "        vertical-align: top;\n",
              "    }\n",
              "\n",
              "    .dataframe thead th {\n",
              "        text-align: right;\n",
              "    }\n",
              "</style>\n",
              "<table border=\"1\" class=\"dataframe\">\n",
              "  <thead>\n",
              "    <tr style=\"text-align: right;\">\n",
              "      <th></th>\n",
              "      <th>Time</th>\n",
              "      <th>V1</th>\n",
              "      <th>V2</th>\n",
              "      <th>V3</th>\n",
              "      <th>V4</th>\n",
              "      <th>V5</th>\n",
              "      <th>V6</th>\n",
              "      <th>V7</th>\n",
              "      <th>V8</th>\n",
              "      <th>V9</th>\n",
              "      <th>V10</th>\n",
              "      <th>V11</th>\n",
              "      <th>V12</th>\n",
              "      <th>V13</th>\n",
              "      <th>V14</th>\n",
              "      <th>V15</th>\n",
              "      <th>V16</th>\n",
              "      <th>V17</th>\n",
              "      <th>V18</th>\n",
              "      <th>V19</th>\n",
              "      <th>V20</th>\n",
              "      <th>V21</th>\n",
              "      <th>V22</th>\n",
              "      <th>V23</th>\n",
              "      <th>V24</th>\n",
              "      <th>V25</th>\n",
              "      <th>V26</th>\n",
              "      <th>V27</th>\n",
              "      <th>V28</th>\n",
              "      <th>Amount</th>\n",
              "      <th>Class</th>\n",
              "    </tr>\n",
              "  </thead>\n",
              "  <tbody>\n",
              "    <tr>\n",
              "      <th>0</th>\n",
              "      <td>0.0</td>\n",
              "      <td>-1.359807</td>\n",
              "      <td>-0.072781</td>\n",
              "      <td>2.536347</td>\n",
              "      <td>1.378155</td>\n",
              "      <td>-0.338321</td>\n",
              "      <td>0.462388</td>\n",
              "      <td>0.239599</td>\n",
              "      <td>0.098698</td>\n",
              "      <td>0.363787</td>\n",
              "      <td>0.090794</td>\n",
              "      <td>-0.551600</td>\n",
              "      <td>-0.617801</td>\n",
              "      <td>-0.991390</td>\n",
              "      <td>-0.311169</td>\n",
              "      <td>1.468177</td>\n",
              "      <td>-0.470401</td>\n",
              "      <td>0.207971</td>\n",
              "      <td>0.025791</td>\n",
              "      <td>0.403993</td>\n",
              "      <td>0.251412</td>\n",
              "      <td>-0.018307</td>\n",
              "      <td>0.277838</td>\n",
              "      <td>-0.110474</td>\n",
              "      <td>0.066928</td>\n",
              "      <td>0.128539</td>\n",
              "      <td>-0.189115</td>\n",
              "      <td>0.133558</td>\n",
              "      <td>-0.021053</td>\n",
              "      <td>149.62</td>\n",
              "      <td>0</td>\n",
              "    </tr>\n",
              "    <tr>\n",
              "      <th>1</th>\n",
              "      <td>0.0</td>\n",
              "      <td>1.191857</td>\n",
              "      <td>0.266151</td>\n",
              "      <td>0.166480</td>\n",
              "      <td>0.448154</td>\n",
              "      <td>0.060018</td>\n",
              "      <td>-0.082361</td>\n",
              "      <td>-0.078803</td>\n",
              "      <td>0.085102</td>\n",
              "      <td>-0.255425</td>\n",
              "      <td>-0.166974</td>\n",
              "      <td>1.612727</td>\n",
              "      <td>1.065235</td>\n",
              "      <td>0.489095</td>\n",
              "      <td>-0.143772</td>\n",
              "      <td>0.635558</td>\n",
              "      <td>0.463917</td>\n",
              "      <td>-0.114805</td>\n",
              "      <td>-0.183361</td>\n",
              "      <td>-0.145783</td>\n",
              "      <td>-0.069083</td>\n",
              "      <td>-0.225775</td>\n",
              "      <td>-0.638672</td>\n",
              "      <td>0.101288</td>\n",
              "      <td>-0.339846</td>\n",
              "      <td>0.167170</td>\n",
              "      <td>0.125895</td>\n",
              "      <td>-0.008983</td>\n",
              "      <td>0.014724</td>\n",
              "      <td>2.69</td>\n",
              "      <td>0</td>\n",
              "    </tr>\n",
              "    <tr>\n",
              "      <th>2</th>\n",
              "      <td>1.0</td>\n",
              "      <td>-1.358354</td>\n",
              "      <td>-1.340163</td>\n",
              "      <td>1.773209</td>\n",
              "      <td>0.379780</td>\n",
              "      <td>-0.503198</td>\n",
              "      <td>1.800499</td>\n",
              "      <td>0.791461</td>\n",
              "      <td>0.247676</td>\n",
              "      <td>-1.514654</td>\n",
              "      <td>0.207643</td>\n",
              "      <td>0.624501</td>\n",
              "      <td>0.066084</td>\n",
              "      <td>0.717293</td>\n",
              "      <td>-0.165946</td>\n",
              "      <td>2.345865</td>\n",
              "      <td>-2.890083</td>\n",
              "      <td>1.109969</td>\n",
              "      <td>-0.121359</td>\n",
              "      <td>-2.261857</td>\n",
              "      <td>0.524980</td>\n",
              "      <td>0.247998</td>\n",
              "      <td>0.771679</td>\n",
              "      <td>0.909412</td>\n",
              "      <td>-0.689281</td>\n",
              "      <td>-0.327642</td>\n",
              "      <td>-0.139097</td>\n",
              "      <td>-0.055353</td>\n",
              "      <td>-0.059752</td>\n",
              "      <td>378.66</td>\n",
              "      <td>0</td>\n",
              "    </tr>\n",
              "    <tr>\n",
              "      <th>3</th>\n",
              "      <td>1.0</td>\n",
              "      <td>-0.966272</td>\n",
              "      <td>-0.185226</td>\n",
              "      <td>1.792993</td>\n",
              "      <td>-0.863291</td>\n",
              "      <td>-0.010309</td>\n",
              "      <td>1.247203</td>\n",
              "      <td>0.237609</td>\n",
              "      <td>0.377436</td>\n",
              "      <td>-1.387024</td>\n",
              "      <td>-0.054952</td>\n",
              "      <td>-0.226487</td>\n",
              "      <td>0.178228</td>\n",
              "      <td>0.507757</td>\n",
              "      <td>-0.287924</td>\n",
              "      <td>-0.631418</td>\n",
              "      <td>-1.059647</td>\n",
              "      <td>-0.684093</td>\n",
              "      <td>1.965775</td>\n",
              "      <td>-1.232622</td>\n",
              "      <td>-0.208038</td>\n",
              "      <td>-0.108300</td>\n",
              "      <td>0.005274</td>\n",
              "      <td>-0.190321</td>\n",
              "      <td>-1.175575</td>\n",
              "      <td>0.647376</td>\n",
              "      <td>-0.221929</td>\n",
              "      <td>0.062723</td>\n",
              "      <td>0.061458</td>\n",
              "      <td>123.50</td>\n",
              "      <td>0</td>\n",
              "    </tr>\n",
              "    <tr>\n",
              "      <th>4</th>\n",
              "      <td>2.0</td>\n",
              "      <td>-1.158233</td>\n",
              "      <td>0.877737</td>\n",
              "      <td>1.548718</td>\n",
              "      <td>0.403034</td>\n",
              "      <td>-0.407193</td>\n",
              "      <td>0.095921</td>\n",
              "      <td>0.592941</td>\n",
              "      <td>-0.270533</td>\n",
              "      <td>0.817739</td>\n",
              "      <td>0.753074</td>\n",
              "      <td>-0.822843</td>\n",
              "      <td>0.538196</td>\n",
              "      <td>1.345852</td>\n",
              "      <td>-1.119670</td>\n",
              "      <td>0.175121</td>\n",
              "      <td>-0.451449</td>\n",
              "      <td>-0.237033</td>\n",
              "      <td>-0.038195</td>\n",
              "      <td>0.803487</td>\n",
              "      <td>0.408542</td>\n",
              "      <td>-0.009431</td>\n",
              "      <td>0.798278</td>\n",
              "      <td>-0.137458</td>\n",
              "      <td>0.141267</td>\n",
              "      <td>-0.206010</td>\n",
              "      <td>0.502292</td>\n",
              "      <td>0.219422</td>\n",
              "      <td>0.215153</td>\n",
              "      <td>69.99</td>\n",
              "      <td>0</td>\n",
              "    </tr>\n",
              "  </tbody>\n",
              "</table>\n",
              "</div>"
            ],
            "text/plain": [
              "   Time        V1        V2        V3  ...       V27       V28  Amount  Class\n",
              "0   0.0 -1.359807 -0.072781  2.536347  ...  0.133558 -0.021053  149.62      0\n",
              "1   0.0  1.191857  0.266151  0.166480  ... -0.008983  0.014724    2.69      0\n",
              "2   1.0 -1.358354 -1.340163  1.773209  ... -0.055353 -0.059752  378.66      0\n",
              "3   1.0 -0.966272 -0.185226  1.792993  ...  0.062723  0.061458  123.50      0\n",
              "4   2.0 -1.158233  0.877737  1.548718  ...  0.219422  0.215153   69.99      0\n",
              "\n",
              "[5 rows x 31 columns]"
            ]
          },
          "metadata": {
            "tags": []
          },
          "execution_count": 46
        }
      ]
    },
    {
      "cell_type": "code",
      "metadata": {
        "id": "PW9tjQ7P6HIE",
        "colab_type": "code",
        "colab": {
          "base_uri": "https://localhost:8080/",
          "height": 161
        },
        "outputId": "5da71730-0619-4a7d-f82e-efbae2e85b30"
      },
      "source": [
        "data.groupby(['Class']).count()"
      ],
      "execution_count": 47,
      "outputs": [
        {
          "output_type": "execute_result",
          "data": {
            "text/html": [
              "<div>\n",
              "<style scoped>\n",
              "    .dataframe tbody tr th:only-of-type {\n",
              "        vertical-align: middle;\n",
              "    }\n",
              "\n",
              "    .dataframe tbody tr th {\n",
              "        vertical-align: top;\n",
              "    }\n",
              "\n",
              "    .dataframe thead th {\n",
              "        text-align: right;\n",
              "    }\n",
              "</style>\n",
              "<table border=\"1\" class=\"dataframe\">\n",
              "  <thead>\n",
              "    <tr style=\"text-align: right;\">\n",
              "      <th></th>\n",
              "      <th>Time</th>\n",
              "      <th>V1</th>\n",
              "      <th>V2</th>\n",
              "      <th>V3</th>\n",
              "      <th>V4</th>\n",
              "      <th>V5</th>\n",
              "      <th>V6</th>\n",
              "      <th>V7</th>\n",
              "      <th>V8</th>\n",
              "      <th>V9</th>\n",
              "      <th>V10</th>\n",
              "      <th>V11</th>\n",
              "      <th>V12</th>\n",
              "      <th>V13</th>\n",
              "      <th>V14</th>\n",
              "      <th>V15</th>\n",
              "      <th>V16</th>\n",
              "      <th>V17</th>\n",
              "      <th>V18</th>\n",
              "      <th>V19</th>\n",
              "      <th>V20</th>\n",
              "      <th>V21</th>\n",
              "      <th>V22</th>\n",
              "      <th>V23</th>\n",
              "      <th>V24</th>\n",
              "      <th>V25</th>\n",
              "      <th>V26</th>\n",
              "      <th>V27</th>\n",
              "      <th>V28</th>\n",
              "      <th>Amount</th>\n",
              "    </tr>\n",
              "    <tr>\n",
              "      <th>Class</th>\n",
              "      <th></th>\n",
              "      <th></th>\n",
              "      <th></th>\n",
              "      <th></th>\n",
              "      <th></th>\n",
              "      <th></th>\n",
              "      <th></th>\n",
              "      <th></th>\n",
              "      <th></th>\n",
              "      <th></th>\n",
              "      <th></th>\n",
              "      <th></th>\n",
              "      <th></th>\n",
              "      <th></th>\n",
              "      <th></th>\n",
              "      <th></th>\n",
              "      <th></th>\n",
              "      <th></th>\n",
              "      <th></th>\n",
              "      <th></th>\n",
              "      <th></th>\n",
              "      <th></th>\n",
              "      <th></th>\n",
              "      <th></th>\n",
              "      <th></th>\n",
              "      <th></th>\n",
              "      <th></th>\n",
              "      <th></th>\n",
              "      <th></th>\n",
              "      <th></th>\n",
              "    </tr>\n",
              "  </thead>\n",
              "  <tbody>\n",
              "    <tr>\n",
              "      <th>0</th>\n",
              "      <td>49852</td>\n",
              "      <td>49852</td>\n",
              "      <td>49852</td>\n",
              "      <td>49852</td>\n",
              "      <td>49852</td>\n",
              "      <td>49852</td>\n",
              "      <td>49852</td>\n",
              "      <td>49852</td>\n",
              "      <td>49852</td>\n",
              "      <td>49852</td>\n",
              "      <td>49852</td>\n",
              "      <td>49852</td>\n",
              "      <td>49852</td>\n",
              "      <td>49852</td>\n",
              "      <td>49852</td>\n",
              "      <td>49852</td>\n",
              "      <td>49852</td>\n",
              "      <td>49852</td>\n",
              "      <td>49852</td>\n",
              "      <td>49852</td>\n",
              "      <td>49852</td>\n",
              "      <td>49852</td>\n",
              "      <td>49852</td>\n",
              "      <td>49852</td>\n",
              "      <td>49852</td>\n",
              "      <td>49852</td>\n",
              "      <td>49852</td>\n",
              "      <td>49852</td>\n",
              "      <td>49852</td>\n",
              "      <td>49852</td>\n",
              "    </tr>\n",
              "    <tr>\n",
              "      <th>1</th>\n",
              "      <td>148</td>\n",
              "      <td>148</td>\n",
              "      <td>148</td>\n",
              "      <td>148</td>\n",
              "      <td>148</td>\n",
              "      <td>148</td>\n",
              "      <td>148</td>\n",
              "      <td>148</td>\n",
              "      <td>148</td>\n",
              "      <td>148</td>\n",
              "      <td>148</td>\n",
              "      <td>148</td>\n",
              "      <td>148</td>\n",
              "      <td>148</td>\n",
              "      <td>148</td>\n",
              "      <td>148</td>\n",
              "      <td>148</td>\n",
              "      <td>148</td>\n",
              "      <td>148</td>\n",
              "      <td>148</td>\n",
              "      <td>148</td>\n",
              "      <td>148</td>\n",
              "      <td>148</td>\n",
              "      <td>148</td>\n",
              "      <td>148</td>\n",
              "      <td>148</td>\n",
              "      <td>148</td>\n",
              "      <td>148</td>\n",
              "      <td>148</td>\n",
              "      <td>148</td>\n",
              "    </tr>\n",
              "  </tbody>\n",
              "</table>\n",
              "</div>"
            ],
            "text/plain": [
              "        Time     V1     V2     V3     V4  ...    V25    V26    V27    V28  Amount\n",
              "Class                                     ...                                    \n",
              "0      49852  49852  49852  49852  49852  ...  49852  49852  49852  49852   49852\n",
              "1        148    148    148    148    148  ...    148    148    148    148     148\n",
              "\n",
              "[2 rows x 30 columns]"
            ]
          },
          "metadata": {
            "tags": []
          },
          "execution_count": 47
        }
      ]
    },
    {
      "cell_type": "code",
      "metadata": {
        "id": "D62qFAFd6TUv",
        "colab_type": "code",
        "colab": {}
      },
      "source": [
        "#data engineering"
      ],
      "execution_count": 0,
      "outputs": []
    },
    {
      "cell_type": "code",
      "metadata": {
        "id": "rXtXnIiQ6fA4",
        "colab_type": "code",
        "colab": {}
      },
      "source": [
        "data=data.drop(['Time'],axis=1)"
      ],
      "execution_count": 0,
      "outputs": []
    },
    {
      "cell_type": "code",
      "metadata": {
        "id": "LHmRF6Ef6uTE",
        "colab_type": "code",
        "colab": {}
      },
      "source": [
        "data['Amount']=StandardScaler().fit_transform(data['Amount'].values.reshape(-1,1))"
      ],
      "execution_count": 0,
      "outputs": []
    },
    {
      "cell_type": "code",
      "metadata": {
        "id": "daiONfPu768v",
        "colab_type": "code",
        "colab": {}
      },
      "source": [
        "x_train,x_test=train_test_split(data,test_size=0.2,random_state=0)"
      ],
      "execution_count": 0,
      "outputs": []
    },
    {
      "cell_type": "code",
      "metadata": {
        "id": "0DUCif7R8nu-",
        "colab_type": "code",
        "colab": {}
      },
      "source": [
        "x_train=x_train.drop(['Class'],axis=1)"
      ],
      "execution_count": 0,
      "outputs": []
    },
    {
      "cell_type": "code",
      "metadata": {
        "id": "xBi9A4Ip9l8-",
        "colab_type": "code",
        "colab": {}
      },
      "source": [
        "y_test=x_test['Class']"
      ],
      "execution_count": 0,
      "outputs": []
    },
    {
      "cell_type": "code",
      "metadata": {
        "id": "iNfB6ZhO9xqg",
        "colab_type": "code",
        "colab": {}
      },
      "source": [
        "x_test=x_test.drop(['Class'],axis=1)"
      ],
      "execution_count": 0,
      "outputs": []
    },
    {
      "cell_type": "code",
      "metadata": {
        "id": "4rP7AywX98fq",
        "colab_type": "code",
        "colab": {}
      },
      "source": [
        "x_train=x_train.values"
      ],
      "execution_count": 0,
      "outputs": []
    },
    {
      "cell_type": "code",
      "metadata": {
        "id": "4VLc1ath-CNF",
        "colab_type": "code",
        "colab": {}
      },
      "source": [
        "x_test=x_test.values"
      ],
      "execution_count": 0,
      "outputs": []
    },
    {
      "cell_type": "code",
      "metadata": {
        "id": "hmpyJoA1-HSm",
        "colab_type": "code",
        "colab": {
          "base_uri": "https://localhost:8080/",
          "height": 35
        },
        "outputId": "5dc212f1-f514-4967-b208-0ed7fb82fea9"
      },
      "source": [
        "x_train.shape,x_test.shape"
      ],
      "execution_count": 57,
      "outputs": [
        {
          "output_type": "execute_result",
          "data": {
            "text/plain": [
              "((40000, 29), (10000, 29))"
            ]
          },
          "metadata": {
            "tags": []
          },
          "execution_count": 57
        }
      ]
    },
    {
      "cell_type": "code",
      "metadata": {
        "id": "QkTl3X2S-SPi",
        "colab_type": "code",
        "colab": {}
      },
      "source": [
        "#autoencoder model"
      ],
      "execution_count": 0,
      "outputs": []
    },
    {
      "cell_type": "code",
      "metadata": {
        "id": "8lPxffZb-WSa",
        "colab_type": "code",
        "colab": {}
      },
      "source": [
        "input_dim=x_train.shape[1]\n",
        "encoding_dim=15"
      ],
      "execution_count": 0,
      "outputs": []
    },
    {
      "cell_type": "code",
      "metadata": {
        "id": "uzAH7jlY-i6y",
        "colab_type": "code",
        "colab": {}
      },
      "source": [
        "model=Sequential()"
      ],
      "execution_count": 0,
      "outputs": []
    },
    {
      "cell_type": "code",
      "metadata": {
        "id": "z1nwSRxj_oE-",
        "colab_type": "code",
        "colab": {
          "base_uri": "https://localhost:8080/",
          "height": 399
        },
        "outputId": "7e99b7b2-683b-443a-b54f-5e125ca2f4a8"
      },
      "source": [
        "model.add(Dense(encoding_dim, activation=\"tanh\", input_shape=(input_dim,)))\n",
        "model.add(Dense(int(encoding_dim / 2), activation=\"relu\"))\n",
        "model.add(Dense(int(encoding_dim / 2), activation='tanh'))\n",
        "model.add(Dense(input_dim, activation='relu'))\n",
        "\n",
        "model.summary()"
      ],
      "execution_count": 67,
      "outputs": [
        {
          "output_type": "stream",
          "text": [
            "Model: \"sequential_2\"\n",
            "_________________________________________________________________\n",
            "Layer (type)                 Output Shape              Param #   \n",
            "=================================================================\n",
            "dense_1 (Dense)              (None, 15)                450       \n",
            "_________________________________________________________________\n",
            "dense_2 (Dense)              (None, 15)                240       \n",
            "_________________________________________________________________\n",
            "dense_3 (Dense)              (None, 15)                240       \n",
            "_________________________________________________________________\n",
            "dense_4 (Dense)              (None, 15)                240       \n",
            "_________________________________________________________________\n",
            "dense_5 (Dense)              (None, 7)                 112       \n",
            "_________________________________________________________________\n",
            "dense_6 (Dense)              (None, 7)                 56        \n",
            "_________________________________________________________________\n",
            "dense_7 (Dense)              (None, 29)                232       \n",
            "=================================================================\n",
            "Total params: 1,570\n",
            "Trainable params: 1,570\n",
            "Non-trainable params: 0\n",
            "_________________________________________________________________\n"
          ],
          "name": "stdout"
        }
      ]
    },
    {
      "cell_type": "code",
      "metadata": {
        "id": "CS580br3BZK3",
        "colab_type": "code",
        "colab": {}
      },
      "source": [
        "#model training"
      ],
      "execution_count": 0,
      "outputs": []
    },
    {
      "cell_type": "code",
      "metadata": {
        "id": "SmauFnjjBgV-",
        "colab_type": "code",
        "colab": {
          "base_uri": "https://localhost:8080/",
          "height": 1000
        },
        "outputId": "1af4fc4b-003e-449e-ded9-3059d606246c"
      },
      "source": [
        "n_epoch=40\n",
        "batch_size=32\n",
        "model.compile(optimizer='adam', loss='mean_squared_error', metrics=['acc'])\n",
        "history = model.fit(x_train, x_train,\n",
        "                    epochs=n_epoch,\n",
        "                    batch_size=batch_size,\n",
        "                    validation_data=(x_test, x_test),\n",
        "                    verbose=1)\n",
        "\n",
        "autoencoder = model"
      ],
      "execution_count": 70,
      "outputs": [
        {
          "output_type": "stream",
          "text": [
            "Train on 40000 samples, validate on 10000 samples\n",
            "Epoch 1/40\n",
            "40000/40000 [==============================] - 9s 216us/step - loss: 1.0205 - acc: 0.4374 - val_loss: 0.9871 - val_acc: 0.5254\n",
            "Epoch 2/40\n",
            "40000/40000 [==============================] - 7s 175us/step - loss: 0.9250 - acc: 0.5628 - val_loss: 0.9374 - val_acc: 0.5884\n",
            "Epoch 3/40\n",
            "40000/40000 [==============================] - 7s 175us/step - loss: 0.8944 - acc: 0.5947 - val_loss: 0.9160 - val_acc: 0.6014\n",
            "Epoch 4/40\n",
            "40000/40000 [==============================] - 7s 175us/step - loss: 0.8764 - acc: 0.6134 - val_loss: 0.9027 - val_acc: 0.6259\n",
            "Epoch 5/40\n",
            "40000/40000 [==============================] - 7s 177us/step - loss: 0.8648 - acc: 0.6346 - val_loss: 0.8924 - val_acc: 0.6500\n",
            "Epoch 6/40\n",
            "40000/40000 [==============================] - 7s 175us/step - loss: 0.8563 - acc: 0.6528 - val_loss: 0.8856 - val_acc: 0.6537\n",
            "Epoch 7/40\n",
            "40000/40000 [==============================] - 7s 176us/step - loss: 0.8454 - acc: 0.6633 - val_loss: 0.8720 - val_acc: 0.6642\n",
            "Epoch 8/40\n",
            "40000/40000 [==============================] - 7s 176us/step - loss: 0.8356 - acc: 0.6737 - val_loss: 0.8670 - val_acc: 0.6794\n",
            "Epoch 9/40\n",
            "40000/40000 [==============================] - 7s 176us/step - loss: 0.8306 - acc: 0.6753 - val_loss: 0.8617 - val_acc: 0.6784\n",
            "Epoch 10/40\n",
            "40000/40000 [==============================] - 7s 179us/step - loss: 0.8265 - acc: 0.6779 - val_loss: 0.8601 - val_acc: 0.6688\n",
            "Epoch 11/40\n",
            "40000/40000 [==============================] - 7s 172us/step - loss: 0.8238 - acc: 0.6789 - val_loss: 0.8564 - val_acc: 0.6883\n",
            "Epoch 12/40\n",
            "40000/40000 [==============================] - 7s 174us/step - loss: 0.8218 - acc: 0.6810 - val_loss: 0.8539 - val_acc: 0.6762\n",
            "Epoch 13/40\n",
            "40000/40000 [==============================] - 7s 172us/step - loss: 0.8197 - acc: 0.6830 - val_loss: 0.8532 - val_acc: 0.6913\n",
            "Epoch 14/40\n",
            "40000/40000 [==============================] - 7s 173us/step - loss: 0.8181 - acc: 0.6895 - val_loss: 0.8525 - val_acc: 0.6939\n",
            "Epoch 15/40\n",
            "40000/40000 [==============================] - 7s 174us/step - loss: 0.8168 - acc: 0.6884 - val_loss: 0.8499 - val_acc: 0.6919\n",
            "Epoch 16/40\n",
            "40000/40000 [==============================] - 7s 176us/step - loss: 0.8149 - acc: 0.6930 - val_loss: 0.8474 - val_acc: 0.6999\n",
            "Epoch 17/40\n",
            "40000/40000 [==============================] - 7s 184us/step - loss: 0.8133 - acc: 0.6934 - val_loss: 0.8479 - val_acc: 0.6935\n",
            "Epoch 18/40\n",
            "40000/40000 [==============================] - 7s 177us/step - loss: 0.8133 - acc: 0.6942 - val_loss: 0.8463 - val_acc: 0.6883\n",
            "Epoch 19/40\n",
            "40000/40000 [==============================] - 7s 173us/step - loss: 0.8111 - acc: 0.6968 - val_loss: 0.8440 - val_acc: 0.7000\n",
            "Epoch 20/40\n",
            "40000/40000 [==============================] - 7s 173us/step - loss: 0.8101 - acc: 0.6989 - val_loss: 0.8450 - val_acc: 0.6911\n",
            "Epoch 21/40\n",
            "40000/40000 [==============================] - 7s 173us/step - loss: 0.8103 - acc: 0.6969 - val_loss: 0.8414 - val_acc: 0.7056\n",
            "Epoch 22/40\n",
            "40000/40000 [==============================] - 7s 174us/step - loss: 0.8089 - acc: 0.7001 - val_loss: 0.8411 - val_acc: 0.6992\n",
            "Epoch 23/40\n",
            "40000/40000 [==============================] - 7s 175us/step - loss: 0.8083 - acc: 0.7002 - val_loss: 0.8403 - val_acc: 0.6969\n",
            "Epoch 24/40\n",
            "40000/40000 [==============================] - 7s 174us/step - loss: 0.8082 - acc: 0.6997 - val_loss: 0.8403 - val_acc: 0.6941\n",
            "Epoch 25/40\n",
            "40000/40000 [==============================] - 7s 173us/step - loss: 0.8075 - acc: 0.7015 - val_loss: 0.8394 - val_acc: 0.7044\n",
            "Epoch 26/40\n",
            "40000/40000 [==============================] - 7s 175us/step - loss: 0.8070 - acc: 0.7020 - val_loss: 0.8436 - val_acc: 0.6961\n",
            "Epoch 27/40\n",
            "40000/40000 [==============================] - 7s 174us/step - loss: 0.8064 - acc: 0.7024 - val_loss: 0.8383 - val_acc: 0.6971\n",
            "Epoch 28/40\n",
            "40000/40000 [==============================] - 7s 174us/step - loss: 0.8053 - acc: 0.7052 - val_loss: 0.8408 - val_acc: 0.7001\n",
            "Epoch 29/40\n",
            "40000/40000 [==============================] - 7s 174us/step - loss: 0.8051 - acc: 0.7055 - val_loss: 0.8405 - val_acc: 0.6948\n",
            "Epoch 30/40\n",
            "40000/40000 [==============================] - 7s 174us/step - loss: 0.8047 - acc: 0.7073 - val_loss: 0.8385 - val_acc: 0.7074\n",
            "Epoch 31/40\n",
            "40000/40000 [==============================] - 7s 173us/step - loss: 0.8045 - acc: 0.7052 - val_loss: 0.8373 - val_acc: 0.7102\n",
            "Epoch 32/40\n",
            "40000/40000 [==============================] - 7s 173us/step - loss: 0.8040 - acc: 0.7081 - val_loss: 0.8356 - val_acc: 0.7146\n",
            "Epoch 33/40\n",
            "40000/40000 [==============================] - 7s 176us/step - loss: 0.8033 - acc: 0.7077 - val_loss: 0.8359 - val_acc: 0.7134\n",
            "Epoch 34/40\n",
            "40000/40000 [==============================] - 7s 176us/step - loss: 0.8027 - acc: 0.7110 - val_loss: 0.8359 - val_acc: 0.7025\n",
            "Epoch 35/40\n",
            "40000/40000 [==============================] - 7s 174us/step - loss: 0.8032 - acc: 0.7085 - val_loss: 0.8367 - val_acc: 0.7035\n",
            "Epoch 36/40\n",
            "40000/40000 [==============================] - 7s 175us/step - loss: 0.8024 - acc: 0.7107 - val_loss: 0.8354 - val_acc: 0.7048\n",
            "Epoch 37/40\n",
            "40000/40000 [==============================] - 7s 176us/step - loss: 0.8024 - acc: 0.7091 - val_loss: 0.8356 - val_acc: 0.7064\n",
            "Epoch 38/40\n",
            "40000/40000 [==============================] - 7s 178us/step - loss: 0.8021 - acc: 0.7113 - val_loss: 0.8374 - val_acc: 0.7103\n",
            "Epoch 39/40\n",
            "40000/40000 [==============================] - 7s 177us/step - loss: 0.8014 - acc: 0.7077 - val_loss: 0.8378 - val_acc: 0.7056\n",
            "Epoch 40/40\n",
            "40000/40000 [==============================] - 7s 175us/step - loss: 0.8016 - acc: 0.7099 - val_loss: 0.8341 - val_acc: 0.7132\n"
          ],
          "name": "stdout"
        }
      ]
    },
    {
      "cell_type": "code",
      "metadata": {
        "id": "toruU0FNDHlS",
        "colab_type": "code",
        "colab": {
          "base_uri": "https://localhost:8080/",
          "height": 295
        },
        "outputId": "a63be1a6-2b01-41be-8cb9-0db6cd1907fc"
      },
      "source": [
        "plt.plot(history.history['acc'])\n",
        "plt.plot(history.history['val_acc'])\n",
        "plt.title('Model Accuracy')\n",
        "plt.ylabel('accuracy')\n",
        "plt.xlabel('epochs')\n",
        "plt.legend(['Train','Test'],loc='upper left')\n",
        "plt.show()"
      ],
      "execution_count": 74,
      "outputs": [
        {
          "output_type": "display_data",
          "data": {
            "image/png": "[encoded data removed]",
            "text/plain": [
              "<Figure size 432x288 with 1 Axes>"
            ]
          },
          "metadata": {
            "tags": [],
            "needs_background": "light"
          }
        }
      ]
    },
    {
      "cell_type": "code",
      "metadata": {
        "id": "PcTCG7QzDRKW",
        "colab_type": "code",
        "colab": {}
      },
      "source": [
        "#prediction"
      ],
      "execution_count": 0,
      "outputs": []
    },
    {
      "cell_type": "code",
      "metadata": {
        "id": "qxS2LLRwDwgk",
        "colab_type": "code",
        "colab": {}
      },
      "source": [
        "prediction=autoencoder.predict(x_test)\n",
        "mse=np.mean(np.power(x_test-prediction,2),axis=1)\n",
        "error_df=pd.DataFrame({'reconstruction_error':mse,'true_class':y_test})"
      ],
      "execution_count": 0,
      "outputs": []
    },
    {
      "cell_type": "code",
      "metadata": {
        "id": "UDYHCOSoFGXX",
        "colab_type": "code",
        "colab": {
          "base_uri": "https://localhost:8080/",
          "height": 202
        },
        "outputId": "8d77dc96-8e79-4415-bcda-4c9be910746d"
      },
      "source": [
        "error_df.head()"
      ],
      "execution_count": 87,
      "outputs": [
        {
          "output_type": "execute_result",
          "data": {
            "text/html": [
              "<div>\n",
              "<style scoped>\n",
              "    .dataframe tbody tr th:only-of-type {\n",
              "        vertical-align: middle;\n",
              "    }\n",
              "\n",
              "    .dataframe tbody tr th {\n",
              "        vertical-align: top;\n",
              "    }\n",
              "\n",
              "    .dataframe thead th {\n",
              "        text-align: right;\n",
              "    }\n",
              "</style>\n",
              "<table border=\"1\" class=\"dataframe\">\n",
              "  <thead>\n",
              "    <tr style=\"text-align: right;\">\n",
              "      <th></th>\n",
              "      <th>reconstruction_error</th>\n",
              "      <th>true_class</th>\n",
              "    </tr>\n",
              "  </thead>\n",
              "  <tbody>\n",
              "    <tr>\n",
              "      <th>11841</th>\n",
              "      <td>72.718721</td>\n",
              "      <td>1</td>\n",
              "    </tr>\n",
              "    <tr>\n",
              "      <th>19602</th>\n",
              "      <td>0.667606</td>\n",
              "      <td>0</td>\n",
              "    </tr>\n",
              "    <tr>\n",
              "      <th>45519</th>\n",
              "      <td>0.499657</td>\n",
              "      <td>0</td>\n",
              "    </tr>\n",
              "    <tr>\n",
              "      <th>25747</th>\n",
              "      <td>0.252386</td>\n",
              "      <td>0</td>\n",
              "    </tr>\n",
              "    <tr>\n",
              "      <th>42642</th>\n",
              "      <td>0.154635</td>\n",
              "      <td>0</td>\n",
              "    </tr>\n",
              "  </tbody>\n",
              "</table>\n",
              "</div>"
            ],
            "text/plain": [
              "       reconstruction_error  true_class\n",
              "11841             72.718721           1\n",
              "19602              0.667606           0\n",
              "45519              0.499657           0\n",
              "25747              0.252386           0\n",
              "42642              0.154635           0"
            ]
          },
          "metadata": {
            "tags": []
          },
          "execution_count": 87
        }
      ]
    },
    {
      "cell_type": "code",
      "metadata": {
        "id": "KiuzEhRsF6SG",
        "colab_type": "code",
        "colab": {
          "base_uri": "https://localhost:8080/",
          "height": 495
        },
        "outputId": "414662f9-4a95-49a8-d666-d3b1845c47eb"
      },
      "source": [
        "threshold = 10.0\n",
        "\n",
        "groups = error_df.groupby('true_class')\n",
        "fig, ax = plt.subplots(figsize=(12, 8))\n",
        "\n",
        "for name, group in groups:\n",
        "    ax.plot(group.index, group.reconstruction_error, marker='o', ms=2.0, linestyle='',\n",
        "            label = \"Fraud\" if name == 1 else \"Normal\",\n",
        "            color = \"red\" if name == 1 else \"blue\")\n",
        "ax.hlines(threshold, ax.get_xlim()[0], ax.get_xlim()[1], colors=\"green\", zorder=100, label='Threshold')\n",
        "ax.legend()\n",
        "plt.title(\"Reconstruction error for different classes\")\n",
        "plt.ylabel(\"Reconstruction error\")\n",
        "plt.xlabel(\"Data point index\")\n",
        "plt.show();"
      ],
      "execution_count": 91,
      "outputs": [
        {
          "output_type": "display_data",
          "data": {
            "image/png": "[encoded data removed]",
            "text/plain": [
              "<Figure size 864x576 with 1 Axes>"
            ]
          },
          "metadata": {
            "tags": [],
            "needs_background": "light"
          }
        }
      ]
    },
    {
      "cell_type": "code",
      "metadata": {
        "id": "qg1RJV9hHO-6",
        "colab_type": "code",
        "colab": {
          "base_uri": "https://localhost:8080/",
          "height": 35
        },
        "outputId": "df44d22f-7a1f-4fbe-a096-b60dc09582ed"
      },
      "source": [
        "normal = error_df[error_df.true_class == 0]\n",
        "fraud = error_df[error_df.true_class == 1]\n",
        "\n",
        "print('Normal transactions: %d, fraud transactions: %d' % (len(normal), len(fraud)))"
      ],
      "execution_count": 92,
      "outputs": [
        {
          "output_type": "stream",
          "text": [
            "Normal transactions: 9967, fraud transactions: 33\n"
          ],
          "name": "stdout"
        }
      ]
    },
    {
      "cell_type": "code",
      "metadata": {
        "id": "uIHdxEFgG6xn",
        "colab_type": "code",
        "colab": {
          "base_uri": "https://localhost:8080/",
          "height": 52
        },
        "outputId": "4577b9b2-0fd1-4840-e63c-b9dbffb33de0"
      },
      "source": [
        "true_positives = len(fraud[fraud.reconstruction_error >= threshold])\n",
        "false_positives = len(normal[normal.reconstruction_error >= threshold])\n",
        "\n",
        "true_negatives = len(normal[normal.reconstruction_error < threshold])\n",
        "false_negatives = len(fraud[fraud.reconstruction_error < threshold])\n",
        "\n",
        "print('True positives: %d, true negatives: %d' % (true_positives, true_negatives))\n",
        "print('False positives: %d, false negatives: %d' % (false_positives, false_negatives))"
      ],
      "execution_count": 93,
      "outputs": [
        {
          "output_type": "stream",
          "text": [
            "True positives: 23, true negatives: 9902\n",
            "False positives: 65, false negatives: 10\n"
          ],
          "name": "stdout"
        }
      ]
    },
    {
      "cell_type": "code",
      "metadata": {
        "id": "24jrat9gJvuq",
        "colab_type": "code",
        "colab": {
          "base_uri": "https://localhost:8080/",
          "height": 350
        },
        "outputId": "7b5467ca-407f-4a1a-a524-cc53af814ce2"
      },
      "source": [
        "#confusion matrix\n",
        "labels = [\"Normal\", \"Fraud\"]\n",
        "\n",
        "y_pred = [1 if e > threshold else 0 for e in error_df.reconstruction_error.values]\n",
        "conf_matrix = confusion_matrix(error_df.true_class, y_pred)\n",
        "\n",
        "plt.figure(figsize=(6, 5))\n",
        "sns.heatmap(conf_matrix, xticklabels=labels, yticklabels=labels, annot=True, fmt=\"d\");\n",
        "plt.title(\"Confusion matrix\")\n",
        "plt.ylabel('True class')\n",
        "plt.xlabel('Predicted class')\n",
        "plt.show()"
      ],
      "execution_count": 94,
      "outputs": [
        {
          "output_type": "display_data",
          "data": {
            "image/png": "[encoded data removed]",
            "text/plain": [
              "<Figure size 432x360 with 2 Axes>"
            ]
          },
          "metadata": {
            "tags": [],
            "needs_background": "light"
          }
        }
      ]
    }
  ]
}