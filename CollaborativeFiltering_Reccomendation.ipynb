{
  "nbformat": 4,
  "nbformat_minor": 0,
  "metadata": {
    "colab": {
      "name": "Reccomendation.ipynb",
      "provenance": [],
      "authorship_tag": "ABX9TyPyMIg+/pjMVgCB2lwmR01G",
      "include_colab_link": true
    },
    "kernelspec": {
      "name": "python3",
      "display_name": "Python 3"
    },
    "accelerator": "GPU"
  },
  "cells": [
    {
      "cell_type": "markdown",
      "metadata": {
        "id": "view-in-github",
        "colab_type": "text"
      },
      "source": [
        "<a href=\"https://colab.research.google.com/github/TANKIANAUN/Machine-Learning/blob/master/Reccomendation.ipynb\" target=\"_parent\"><img src=\"https://colab.research.google.com/assets/colab-badge.svg\" alt=\"Open In Colab\"/></a>"
      ]
    },
    {
      "cell_type": "code",
      "metadata": {
        "id": "zmYKyQyEuG0c",
        "colab_type": "code",
        "colab": {}
      },
      "source": [
        "import pandas as pd\n",
        "import numpy as np\n",
        "import matplotlib.pyplot as plt\n",
        "from sklearn.model_selection import train_test_split\n",
        "from sklearn.preprocessing import StandardScaler\n",
        "from tensorflow.keras.layers import Input, Embedding, Flatten, Dot, Dense, Add, Dropout\n",
        "from tensorflow.keras.models import Model\n",
        "from tensorflow.keras.optimizers import Adam\n",
        "from sklearn.preprocessing import LabelEncoder"
      ],
      "execution_count": 0,
      "outputs": []
    },
    {
      "cell_type": "code",
      "metadata": {
        "id": "fkw8s23Iul2X",
        "colab_type": "code",
        "outputId": "206fb4b0-cf76-47f3-8fce-9692beb051e5",
        "colab": {
          "base_uri": "https://localhost:8080/",
          "height": 228
        }
      },
      "source": [
        "!wget http://files.grouplens.org/datasets/movielens/ml-latest-small.zip\n"
      ],
      "execution_count": 0,
      "outputs": [
        {
          "output_type": "stream",
          "text": [
            "--2020-06-07 10:29:42--  http://files.grouplens.org/datasets/movielens/ml-latest-small.zip\n",
            "Resolving files.grouplens.org (files.grouplens.org)... 128.101.65.152\n",
            "Connecting to files.grouplens.org (files.grouplens.org)|128.101.65.152|:80... connected.\n",
            "HTTP request sent, awaiting response... 200 OK\n",
            "Length: 978202 (955K) [application/zip]\n",
            "Saving to: ‘ml-latest-small.zip.1’\n",
            "\n",
            "ml-latest-small.zip 100%[===================>] 955.28K   815KB/s    in 1.2s    \n",
            "\n",
            "2020-06-07 10:29:43 (815 KB/s) - ‘ml-latest-small.zip.1’ saved [978202/978202]\n",
            "\n"
          ],
          "name": "stdout"
        }
      ]
    },
    {
      "cell_type": "code",
      "metadata": {
        "id": "LwFc7aB6urmB",
        "colab_type": "code",
        "outputId": "51606a82-97b4-4b2e-c878-68dd9e64eb2b",
        "colab": {
          "base_uri": "https://localhost:8080/",
          "height": 139
        }
      },
      "source": [
        "!unzip ml-latest-small.zip"
      ],
      "execution_count": 0,
      "outputs": [
        {
          "output_type": "stream",
          "text": [
            "Archive:  ml-latest-small.zip\n",
            "   creating: ml-latest-small/\n",
            "  inflating: ml-latest-small/links.csv  \n",
            "  inflating: ml-latest-small/tags.csv  \n",
            "  inflating: ml-latest-small/ratings.csv  \n",
            "  inflating: ml-latest-small/README.txt  \n",
            "  inflating: ml-latest-small/movies.csv  \n"
          ],
          "name": "stdout"
        }
      ]
    },
    {
      "cell_type": "code",
      "metadata": {
        "id": "7qweZVJjvCze",
        "colab_type": "code",
        "outputId": "c5915336-bb93-49f0-86d4-62f5ddcea160",
        "colab": {
          "base_uri": "https://localhost:8080/",
          "height": 202
        }
      },
      "source": [
        "movies = pd.read_csv('ml-latest-small/movies.csv')\n",
        "movies.head()"
      ],
      "execution_count": 0,
      "outputs": [
        {
          "output_type": "execute_result",
          "data": {
            "text/html": [
              "<div>\n",
              "<style scoped>\n",
              "    .dataframe tbody tr th:only-of-type {\n",
              "        vertical-align: middle;\n",
              "    }\n",
              "\n",
              "    .dataframe tbody tr th {\n",
              "        vertical-align: top;\n",
              "    }\n",
              "\n",
              "    .dataframe thead th {\n",
              "        text-align: right;\n",
              "    }\n",
              "</style>\n",
              "<table border=\"1\" class=\"dataframe\">\n",
              "  <thead>\n",
              "    <tr style=\"text-align: right;\">\n",
              "      <th></th>\n",
              "      <th>movieId</th>\n",
              "      <th>title</th>\n",
              "      <th>genres</th>\n",
              "    </tr>\n",
              "  </thead>\n",
              "  <tbody>\n",
              "    <tr>\n",
              "      <th>0</th>\n",
              "      <td>1</td>\n",
              "      <td>Toy Story (1995)</td>\n",
              "      <td>Adventure|Animation|Children|Comedy|Fantasy</td>\n",
              "    </tr>\n",
              "    <tr>\n",
              "      <th>1</th>\n",
              "      <td>2</td>\n",
              "      <td>Jumanji (1995)</td>\n",
              "      <td>Adventure|Children|Fantasy</td>\n",
              "    </tr>\n",
              "    <tr>\n",
              "      <th>2</th>\n",
              "      <td>3</td>\n",
              "      <td>Grumpier Old Men (1995)</td>\n",
              "      <td>Comedy|Romance</td>\n",
              "    </tr>\n",
              "    <tr>\n",
              "      <th>3</th>\n",
              "      <td>4</td>\n",
              "      <td>Waiting to Exhale (1995)</td>\n",
              "      <td>Comedy|Drama|Romance</td>\n",
              "    </tr>\n",
              "    <tr>\n",
              "      <th>4</th>\n",
              "      <td>5</td>\n",
              "      <td>Father of the Bride Part II (1995)</td>\n",
              "      <td>Comedy</td>\n",
              "    </tr>\n",
              "  </tbody>\n",
              "</table>\n",
              "</div>"
            ],
            "text/plain": [
              "   movieId  ...                                       genres\n",
              "0        1  ...  Adventure|Animation|Children|Comedy|Fantasy\n",
              "1        2  ...                   Adventure|Children|Fantasy\n",
              "2        3  ...                               Comedy|Romance\n",
              "3        4  ...                         Comedy|Drama|Romance\n",
              "4        5  ...                                       Comedy\n",
              "\n",
              "[5 rows x 3 columns]"
            ]
          },
          "metadata": {
            "tags": []
          },
          "execution_count": 4
        }
      ]
    },
    {
      "cell_type": "code",
      "metadata": {
        "id": "ulgJ0lIovNxZ",
        "colab_type": "code",
        "outputId": "3adaffa9-a61e-4d5a-df55-abd16882d3cb",
        "colab": {
          "base_uri": "https://localhost:8080/",
          "height": 202
        }
      },
      "source": [
        "ratings = pd.read_csv('ml-latest-small/ratings.csv')\n",
        "ratings.head()"
      ],
      "execution_count": 0,
      "outputs": [
        {
          "output_type": "execute_result",
          "data": {
            "text/html": [
              "<div>\n",
              "<style scoped>\n",
              "    .dataframe tbody tr th:only-of-type {\n",
              "        vertical-align: middle;\n",
              "    }\n",
              "\n",
              "    .dataframe tbody tr th {\n",
              "        vertical-align: top;\n",
              "    }\n",
              "\n",
              "    .dataframe thead th {\n",
              "        text-align: right;\n",
              "    }\n",
              "</style>\n",
              "<table border=\"1\" class=\"dataframe\">\n",
              "  <thead>\n",
              "    <tr style=\"text-align: right;\">\n",
              "      <th></th>\n",
              "      <th>userId</th>\n",
              "      <th>movieId</th>\n",
              "      <th>rating</th>\n",
              "      <th>timestamp</th>\n",
              "    </tr>\n",
              "  </thead>\n",
              "  <tbody>\n",
              "    <tr>\n",
              "      <th>0</th>\n",
              "      <td>1</td>\n",
              "      <td>1</td>\n",
              "      <td>4.0</td>\n",
              "      <td>964982703</td>\n",
              "    </tr>\n",
              "    <tr>\n",
              "      <th>1</th>\n",
              "      <td>1</td>\n",
              "      <td>3</td>\n",
              "      <td>4.0</td>\n",
              "      <td>964981247</td>\n",
              "    </tr>\n",
              "    <tr>\n",
              "      <th>2</th>\n",
              "      <td>1</td>\n",
              "      <td>6</td>\n",
              "      <td>4.0</td>\n",
              "      <td>964982224</td>\n",
              "    </tr>\n",
              "    <tr>\n",
              "      <th>3</th>\n",
              "      <td>1</td>\n",
              "      <td>47</td>\n",
              "      <td>5.0</td>\n",
              "      <td>964983815</td>\n",
              "    </tr>\n",
              "    <tr>\n",
              "      <th>4</th>\n",
              "      <td>1</td>\n",
              "      <td>50</td>\n",
              "      <td>5.0</td>\n",
              "      <td>964982931</td>\n",
              "    </tr>\n",
              "  </tbody>\n",
              "</table>\n",
              "</div>"
            ],
            "text/plain": [
              "   userId  movieId  rating  timestamp\n",
              "0       1        1     4.0  964982703\n",
              "1       1        3     4.0  964981247\n",
              "2       1        6     4.0  964982224\n",
              "3       1       47     5.0  964983815\n",
              "4       1       50     5.0  964982931"
            ]
          },
          "metadata": {
            "tags": []
          },
          "execution_count": 5
        }
      ]
    },
    {
      "cell_type": "code",
      "metadata": {
        "id": "5v9UAKQLvjPN",
        "colab_type": "code",
        "outputId": "441fe261-6abe-417e-95f8-d04ce7e4cb39",
        "colab": {
          "base_uri": "https://localhost:8080/",
          "height": 35
        }
      },
      "source": [
        "movies['movieId'].count()"
      ],
      "execution_count": 0,
      "outputs": [
        {
          "output_type": "execute_result",
          "data": {
            "text/plain": [
              "9742"
            ]
          },
          "metadata": {
            "tags": []
          },
          "execution_count": 6
        }
      ]
    },
    {
      "cell_type": "code",
      "metadata": {
        "id": "KI6M1cLxwzXF",
        "colab_type": "code",
        "outputId": "f1114cab-b863-49e6-fb4e-978a66a134e2",
        "colab": {
          "base_uri": "https://localhost:8080/",
          "height": 52
        }
      },
      "source": [
        "print(len(movies['movieId']))\n",
        "print(len(ratings['userId'].unique()))"
      ],
      "execution_count": 0,
      "outputs": [
        {
          "output_type": "stream",
          "text": [
            "9742\n",
            "610\n"
          ],
          "name": "stdout"
        }
      ]
    },
    {
      "cell_type": "code",
      "metadata": {
        "id": "e0EllUOO1YAB",
        "colab_type": "code",
        "colab": {}
      },
      "source": [
        "ratings=ratings.merge(movies,on='movieId').drop(['genres','timestamp'],axis=1)"
      ],
      "execution_count": 0,
      "outputs": []
    },
    {
      "cell_type": "code",
      "metadata": {
        "id": "6CotaeMc2hvt",
        "colab_type": "code",
        "outputId": "4f752d7f-05cf-4ed3-d79e-7b6c7bec5ba9",
        "colab": {
          "base_uri": "https://localhost:8080/",
          "height": 202
        }
      },
      "source": [
        "ratings.head()"
      ],
      "execution_count": 0,
      "outputs": [
        {
          "output_type": "execute_result",
          "data": {
            "text/html": [
              "<div>\n",
              "<style scoped>\n",
              "    .dataframe tbody tr th:only-of-type {\n",
              "        vertical-align: middle;\n",
              "    }\n",
              "\n",
              "    .dataframe tbody tr th {\n",
              "        vertical-align: top;\n",
              "    }\n",
              "\n",
              "    .dataframe thead th {\n",
              "        text-align: right;\n",
              "    }\n",
              "</style>\n",
              "<table border=\"1\" class=\"dataframe\">\n",
              "  <thead>\n",
              "    <tr style=\"text-align: right;\">\n",
              "      <th></th>\n",
              "      <th>userId</th>\n",
              "      <th>movieId</th>\n",
              "      <th>rating</th>\n",
              "      <th>title</th>\n",
              "    </tr>\n",
              "  </thead>\n",
              "  <tbody>\n",
              "    <tr>\n",
              "      <th>0</th>\n",
              "      <td>1</td>\n",
              "      <td>1</td>\n",
              "      <td>4.0</td>\n",
              "      <td>Toy Story (1995)</td>\n",
              "    </tr>\n",
              "    <tr>\n",
              "      <th>1</th>\n",
              "      <td>5</td>\n",
              "      <td>1</td>\n",
              "      <td>4.0</td>\n",
              "      <td>Toy Story (1995)</td>\n",
              "    </tr>\n",
              "    <tr>\n",
              "      <th>2</th>\n",
              "      <td>7</td>\n",
              "      <td>1</td>\n",
              "      <td>4.5</td>\n",
              "      <td>Toy Story (1995)</td>\n",
              "    </tr>\n",
              "    <tr>\n",
              "      <th>3</th>\n",
              "      <td>15</td>\n",
              "      <td>1</td>\n",
              "      <td>2.5</td>\n",
              "      <td>Toy Story (1995)</td>\n",
              "    </tr>\n",
              "    <tr>\n",
              "      <th>4</th>\n",
              "      <td>17</td>\n",
              "      <td>1</td>\n",
              "      <td>4.5</td>\n",
              "      <td>Toy Story (1995)</td>\n",
              "    </tr>\n",
              "  </tbody>\n",
              "</table>\n",
              "</div>"
            ],
            "text/plain": [
              "   userId  movieId  rating             title\n",
              "0       1        1     4.0  Toy Story (1995)\n",
              "1       5        1     4.0  Toy Story (1995)\n",
              "2       7        1     4.5  Toy Story (1995)\n",
              "3      15        1     2.5  Toy Story (1995)\n",
              "4      17        1     4.5  Toy Story (1995)"
            ]
          },
          "metadata": {
            "tags": []
          },
          "execution_count": 9
        }
      ]
    },
    {
      "cell_type": "code",
      "metadata": {
        "id": "ZZ6gxa-w2lBx",
        "colab_type": "code",
        "outputId": "7b5e6012-19d6-49e2-f703-44482bb42131",
        "colab": {
          "base_uri": "https://localhost:8080/",
          "height": 202
        }
      },
      "source": [
        "\n",
        "user_enc = LabelEncoder()\n",
        "ratings['userSeq'] = user_enc.fit_transform(ratings['userId'].values)\n",
        "\n",
        "item_enc = LabelEncoder()\n",
        "ratings['movieSeq'] = item_enc.fit_transform(ratings['movieId'].values)\n",
        "\n",
        "ratings.head()"
      ],
      "execution_count": 0,
      "outputs": [
        {
          "output_type": "execute_result",
          "data": {
            "text/html": [
              "<div>\n",
              "<style scoped>\n",
              "    .dataframe tbody tr th:only-of-type {\n",
              "        vertical-align: middle;\n",
              "    }\n",
              "\n",
              "    .dataframe tbody tr th {\n",
              "        vertical-align: top;\n",
              "    }\n",
              "\n",
              "    .dataframe thead th {\n",
              "        text-align: right;\n",
              "    }\n",
              "</style>\n",
              "<table border=\"1\" class=\"dataframe\">\n",
              "  <thead>\n",
              "    <tr style=\"text-align: right;\">\n",
              "      <th></th>\n",
              "      <th>userId</th>\n",
              "      <th>movieId</th>\n",
              "      <th>rating</th>\n",
              "      <th>title</th>\n",
              "      <th>userSeq</th>\n",
              "      <th>movieSeq</th>\n",
              "    </tr>\n",
              "  </thead>\n",
              "  <tbody>\n",
              "    <tr>\n",
              "      <th>0</th>\n",
              "      <td>1</td>\n",
              "      <td>1</td>\n",
              "      <td>4.0</td>\n",
              "      <td>Toy Story (1995)</td>\n",
              "      <td>0</td>\n",
              "      <td>0</td>\n",
              "    </tr>\n",
              "    <tr>\n",
              "      <th>1</th>\n",
              "      <td>5</td>\n",
              "      <td>1</td>\n",
              "      <td>4.0</td>\n",
              "      <td>Toy Story (1995)</td>\n",
              "      <td>4</td>\n",
              "      <td>0</td>\n",
              "    </tr>\n",
              "    <tr>\n",
              "      <th>2</th>\n",
              "      <td>7</td>\n",
              "      <td>1</td>\n",
              "      <td>4.5</td>\n",
              "      <td>Toy Story (1995)</td>\n",
              "      <td>6</td>\n",
              "      <td>0</td>\n",
              "    </tr>\n",
              "    <tr>\n",
              "      <th>3</th>\n",
              "      <td>15</td>\n",
              "      <td>1</td>\n",
              "      <td>2.5</td>\n",
              "      <td>Toy Story (1995)</td>\n",
              "      <td>14</td>\n",
              "      <td>0</td>\n",
              "    </tr>\n",
              "    <tr>\n",
              "      <th>4</th>\n",
              "      <td>17</td>\n",
              "      <td>1</td>\n",
              "      <td>4.5</td>\n",
              "      <td>Toy Story (1995)</td>\n",
              "      <td>16</td>\n",
              "      <td>0</td>\n",
              "    </tr>\n",
              "  </tbody>\n",
              "</table>\n",
              "</div>"
            ],
            "text/plain": [
              "   userId  movieId  rating             title  userSeq  movieSeq\n",
              "0       1        1     4.0  Toy Story (1995)        0         0\n",
              "1       5        1     4.0  Toy Story (1995)        4         0\n",
              "2       7        1     4.5  Toy Story (1995)        6         0\n",
              "3      15        1     2.5  Toy Story (1995)       14         0\n",
              "4      17        1     4.5  Toy Story (1995)       16         0"
            ]
          },
          "metadata": {
            "tags": []
          },
          "execution_count": 18
        }
      ]
    },
    {
      "cell_type": "code",
      "metadata": {
        "id": "CYo7igu44D8t",
        "colab_type": "code",
        "outputId": "5469cb65-ce7f-4516-f0de-0c716d0865d4",
        "colab": {
          "base_uri": "https://localhost:8080/",
          "height": 52
        }
      },
      "source": [
        "train_unused, test = train_test_split(ratings, test_size=0.20, random_state=0)\n",
        "\n",
        "# All data is used for training\n",
        "train = ratings\n",
        "\n",
        "numUsers = len(train.userSeq.unique())\n",
        "numMovies = len(train.movieSeq.unique())\n",
        "print((numUsers, numMovies))\n",
        "print((len(train), len(test)))"
      ],
      "execution_count": 0,
      "outputs": [
        {
          "output_type": "stream",
          "text": [
            "(610, 9724)\n",
            "(100836, 20168)\n"
          ],
          "name": "stdout"
        }
      ]
    },
    {
      "cell_type": "code",
      "metadata": {
        "id": "R1O5cfiV52JO",
        "colab_type": "code",
        "outputId": "bcfd16c6-0395-4b52-f9e6-eee06624e2e8",
        "colab": {
          "base_uri": "https://localhost:8080/",
          "height": 713
        }
      },
      "source": [
        "numFeatures = 50\n",
        "dropout = 0.0\n",
        "\n",
        "user_input = Input(shape=(1,))\n",
        "user_emb = Embedding(numUsers, numFeatures)(user_input)\n",
        "flat_user = Flatten()(user_emb)\n",
        "user_dropout = Dropout(dropout)(flat_user)\n",
        "\n",
        "movie_input = Input(shape=(1,))\n",
        "movie_emb = Embedding(numMovies, numFeatures)(movie_input)\n",
        "flat_movie = Flatten()(movie_emb)\n",
        "movie_dropout = Dropout(dropout)(flat_movie)\n",
        "\n",
        "dotProduct = Dot(axes=1)([user_dropout, movie_dropout])\n",
        "\n",
        "user_bias = Embedding(numUsers, 1)(user_input)\n",
        "movie_bias = Embedding(numMovies, 1)(movie_input)\n",
        "sum = Add()([dotProduct, user_bias, movie_bias])\n",
        "flat_sum = Flatten()(sum)\n",
        "output = Dropout(dropout)(flat_sum)\n",
        "\n",
        "model = Model([user_input, movie_input], output)\n",
        "\n",
        "model.summary()\n"
      ],
      "execution_count": 0,
      "outputs": [
        {
          "output_type": "stream",
          "text": [
            "Model: \"model_2\"\n",
            "__________________________________________________________________________________________________\n",
            "Layer (type)                    Output Shape         Param #     Connected to                     \n",
            "==================================================================================================\n",
            "input_5 (InputLayer)            [(None, 1)]          0                                            \n",
            "__________________________________________________________________________________________________\n",
            "input_6 (InputLayer)            [(None, 1)]          0                                            \n",
            "__________________________________________________________________________________________________\n",
            "embedding_8 (Embedding)         (None, 1, 50)        30500       input_5[0][0]                    \n",
            "__________________________________________________________________________________________________\n",
            "embedding_9 (Embedding)         (None, 1, 50)        486200      input_6[0][0]                    \n",
            "__________________________________________________________________________________________________\n",
            "flatten_6 (Flatten)             (None, 50)           0           embedding_8[0][0]                \n",
            "__________________________________________________________________________________________________\n",
            "flatten_7 (Flatten)             (None, 50)           0           embedding_9[0][0]                \n",
            "__________________________________________________________________________________________________\n",
            "dropout_6 (Dropout)             (None, 50)           0           flatten_6[0][0]                  \n",
            "__________________________________________________________________________________________________\n",
            "dropout_7 (Dropout)             (None, 50)           0           flatten_7[0][0]                  \n",
            "__________________________________________________________________________________________________\n",
            "dot_2 (Dot)                     (None, 1)            0           dropout_6[0][0]                  \n",
            "                                                                 dropout_7[0][0]                  \n",
            "__________________________________________________________________________________________________\n",
            "embedding_10 (Embedding)        (None, 1, 1)         610         input_5[0][0]                    \n",
            "__________________________________________________________________________________________________\n",
            "embedding_11 (Embedding)        (None, 1, 1)         9724        input_6[0][0]                    \n",
            "__________________________________________________________________________________________________\n",
            "add_2 (Add)                     (None, 1, 1)         0           dot_2[0][0]                      \n",
            "                                                                 embedding_10[0][0]               \n",
            "                                                                 embedding_11[0][0]               \n",
            "__________________________________________________________________________________________________\n",
            "flatten_8 (Flatten)             (None, 1)            0           add_2[0][0]                      \n",
            "__________________________________________________________________________________________________\n",
            "dropout_8 (Dropout)             (None, 1)            0           flatten_8[0][0]                  \n",
            "==================================================================================================\n",
            "Total params: 527,034\n",
            "Trainable params: 527,034\n",
            "Non-trainable params: 0\n",
            "__________________________________________________________________________________________________\n"
          ],
          "name": "stdout"
        }
      ]
    },
    {
      "cell_type": "code",
      "metadata": {
        "id": "KUAuzpX8Z9Do",
        "colab_type": "code",
        "outputId": "532adff6-54d9-4bb3-ed09-2d3a18211ceb",
        "colab": {
          "base_uri": "https://localhost:8080/",
          "height": 662
        }
      },
      "source": [
        "model.compile(loss='mean_squared_error', optimizer=Adam())\n",
        "history = model.fit([train.userSeq, train.movieSeq], train.rating,\n",
        "                    batch_size=32, epochs=10, verbose=1,\n",
        "                    validation_data=([test.userSeq, test.movieSeq], test.rating))\n",
        "\n",
        "plt.plot(history.history['loss'])\n",
        "plt.plot(history.history['val_loss'])\n",
        "plt.title('Model accuracy')\n",
        "plt.ylabel('Accuracy')\n",
        "plt.xlabel('Epoch')\n",
        "plt.legend(['Train', 'Test'], loc='upper left')\n",
        "plt.show()"
      ],
      "execution_count": 0,
      "outputs": [
        {
          "output_type": "stream",
          "text": [
            "Epoch 1/10\n",
            "3152/3152 [==============================] - 19s 6ms/step - loss: 0.1871 - val_loss: 0.1374\n",
            "Epoch 2/10\n",
            "3152/3152 [==============================] - 19s 6ms/step - loss: 0.1564 - val_loss: 0.1164\n",
            "Epoch 3/10\n",
            "3152/3152 [==============================] - 18s 6ms/step - loss: 0.1343 - val_loss: 0.1011\n",
            "Epoch 4/10\n",
            "3152/3152 [==============================] - 19s 6ms/step - loss: 0.1163 - val_loss: 0.0870\n",
            "Epoch 5/10\n",
            "3152/3152 [==============================] - 18s 6ms/step - loss: 0.1035 - val_loss: 0.0780\n",
            "Epoch 6/10\n",
            "3152/3152 [==============================] - 19s 6ms/step - loss: 0.0932 - val_loss: 0.0711\n",
            "Epoch 7/10\n",
            "3152/3152 [==============================] - 18s 6ms/step - loss: 0.0853 - val_loss: 0.0666\n",
            "Epoch 8/10\n",
            "3152/3152 [==============================] - 19s 6ms/step - loss: 0.0785 - val_loss: 0.0613\n",
            "Epoch 9/10\n",
            "3152/3152 [==============================] - 19s 6ms/step - loss: 0.0733 - val_loss: 0.0583\n",
            "Epoch 10/10\n",
            "3152/3152 [==============================] - 19s 6ms/step - loss: 0.0690 - val_loss: 0.0549\n"
          ],
          "name": "stdout"
        },
        {
          "output_type": "display_data",
          "data": {
            "image/png": "[encoded data removed]",
            "text/plain": [
              "<Figure size 432x288 with 1 Axes>"
            ]
          },
          "metadata": {
            "tags": [],
            "needs_background": "light"
          }
        }
      ]
    },
    {
      "cell_type": "markdown",
      "metadata": {
        "id": "pYkDg5x5jV7A",
        "colab_type": "text"
      },
      "source": [
        "pretty small variance only 0.02, low lost about 0.0something"
      ]
    },
    {
      "cell_type": "code",
      "metadata": {
        "id": "s86_XpE2jUgE",
        "colab_type": "code",
        "outputId": "e07d074b-c9c0-42c5-d8bb-364df8580410",
        "colab": {
          "base_uri": "https://localhost:8080/",
          "height": 494
        }
      },
      "source": [
        "# The user for whom we want to make recommendations\n",
        "userNumber = 0\n",
        "\n",
        "uniqueMovies = ratings.drop_duplicates(subset=['movieSeq'])\n",
        "\n",
        "movie_vector = uniqueMovies.movieSeq.values\n",
        "user_vector = np.ones((len(uniqueMovies),)) * userNumber\n",
        "predictions = model.predict([user_vector, movie_vector])\n",
        "pSeries = pd.Series([a[0] for a in predictions])\n",
        "predictedDF = uniqueMovies.copy()\n",
        "predictedDF['Predictions'] = pSeries\n",
        "\n",
        "predictedDF.sort_values(by='Predictions', ascending=False).head(10)"
      ],
      "execution_count": 0,
      "outputs": [
        {
          "output_type": "execute_result",
          "data": {
            "text/html": [
              "<div>\n",
              "<style scoped>\n",
              "    .dataframe tbody tr th:only-of-type {\n",
              "        vertical-align: middle;\n",
              "    }\n",
              "\n",
              "    .dataframe tbody tr th {\n",
              "        vertical-align: top;\n",
              "    }\n",
              "\n",
              "    .dataframe thead th {\n",
              "        text-align: right;\n",
              "    }\n",
              "</style>\n",
              "<table border=\"1\" class=\"dataframe\">\n",
              "  <thead>\n",
              "    <tr style=\"text-align: right;\">\n",
              "      <th></th>\n",
              "      <th>userId</th>\n",
              "      <th>movieId</th>\n",
              "      <th>rating</th>\n",
              "      <th>title</th>\n",
              "      <th>userSeq</th>\n",
              "      <th>movieSeq</th>\n",
              "      <th>Predictions</th>\n",
              "    </tr>\n",
              "  </thead>\n",
              "  <tbody>\n",
              "    <tr>\n",
              "      <th>4121</th>\n",
              "      <td>1</td>\n",
              "      <td>592</td>\n",
              "      <td>4.0</td>\n",
              "      <td>Batman (1989)</td>\n",
              "      <td>0</td>\n",
              "      <td>509</td>\n",
              "      <td>6.420135</td>\n",
              "    </tr>\n",
              "    <tr>\n",
              "      <th>5770</th>\n",
              "      <td>1</td>\n",
              "      <td>1025</td>\n",
              "      <td>5.0</td>\n",
              "      <td>Sword in the Stone, The (1963)</td>\n",
              "      <td>0</td>\n",
              "      <td>783</td>\n",
              "      <td>6.004246</td>\n",
              "    </tr>\n",
              "    <tr>\n",
              "      <th>6127</th>\n",
              "      <td>1</td>\n",
              "      <td>1080</td>\n",
              "      <td>5.0</td>\n",
              "      <td>Monty Python's Life of Brian (1979)</td>\n",
              "      <td>0</td>\n",
              "      <td>819</td>\n",
              "      <td>5.660475</td>\n",
              "    </tr>\n",
              "    <tr>\n",
              "      <th>2316</th>\n",
              "      <td>1</td>\n",
              "      <td>349</td>\n",
              "      <td>4.0</td>\n",
              "      <td>Clear and Present Danger (1994)</td>\n",
              "      <td>0</td>\n",
              "      <td>307</td>\n",
              "      <td>5.631418</td>\n",
              "    </tr>\n",
              "    <tr>\n",
              "      <th>4830</th>\n",
              "      <td>1</td>\n",
              "      <td>648</td>\n",
              "      <td>3.0</td>\n",
              "      <td>Mission: Impossible (1996)</td>\n",
              "      <td>0</td>\n",
              "      <td>546</td>\n",
              "      <td>5.359643</td>\n",
              "    </tr>\n",
              "    <tr>\n",
              "      <th>4992</th>\n",
              "      <td>1</td>\n",
              "      <td>661</td>\n",
              "      <td>5.0</td>\n",
              "      <td>James and the Giant Peach (1996)</td>\n",
              "      <td>0</td>\n",
              "      <td>551</td>\n",
              "      <td>5.348831</td>\n",
              "    </tr>\n",
              "    <tr>\n",
              "      <th>369</th>\n",
              "      <td>1</td>\n",
              "      <td>47</td>\n",
              "      <td>5.0</td>\n",
              "      <td>Seven (a.k.a. Se7en) (1995)</td>\n",
              "      <td>0</td>\n",
              "      <td>43</td>\n",
              "      <td>5.080683</td>\n",
              "    </tr>\n",
              "    <tr>\n",
              "      <th>6347</th>\n",
              "      <td>1</td>\n",
              "      <td>1090</td>\n",
              "      <td>4.0</td>\n",
              "      <td>Platoon (1986)</td>\n",
              "      <td>0</td>\n",
              "      <td>828</td>\n",
              "      <td>5.077992</td>\n",
              "    </tr>\n",
              "    <tr>\n",
              "      <th>6457</th>\n",
              "      <td>1</td>\n",
              "      <td>1097</td>\n",
              "      <td>5.0</td>\n",
              "      <td>E.T. the Extra-Terrestrial (1982)</td>\n",
              "      <td>0</td>\n",
              "      <td>835</td>\n",
              "      <td>5.046585</td>\n",
              "    </tr>\n",
              "    <tr>\n",
              "      <th>2755</th>\n",
              "      <td>1</td>\n",
              "      <td>362</td>\n",
              "      <td>5.0</td>\n",
              "      <td>Jungle Book, The (1994)</td>\n",
              "      <td>0</td>\n",
              "      <td>320</td>\n",
              "      <td>4.983325</td>\n",
              "    </tr>\n",
              "  </tbody>\n",
              "</table>\n",
              "</div>"
            ],
            "text/plain": [
              "      userId  movieId  rating  ... userSeq  movieSeq  Predictions\n",
              "4121       1      592     4.0  ...       0       509     6.420135\n",
              "5770       1     1025     5.0  ...       0       783     6.004246\n",
              "6127       1     1080     5.0  ...       0       819     5.660475\n",
              "2316       1      349     4.0  ...       0       307     5.631418\n",
              "4830       1      648     3.0  ...       0       546     5.359643\n",
              "4992       1      661     5.0  ...       0       551     5.348831\n",
              "369        1       47     5.0  ...       0        43     5.080683\n",
              "6347       1     1090     4.0  ...       0       828     5.077992\n",
              "6457       1     1097     5.0  ...       0       835     5.046585\n",
              "2755       1      362     5.0  ...       0       320     4.983325\n",
              "\n",
              "[10 rows x 7 columns]"
            ]
          },
          "metadata": {
            "tags": []
          },
          "execution_count": 23
        }
      ]
    },
    {
      "cell_type": "code",
      "metadata": {
        "id": "HNACI88Uji5c",
        "colab_type": "code",
        "outputId": "e44b4dc7-0edc-48e6-a447-c0f95c2224ab",
        "colab": {
          "base_uri": "https://localhost:8080/",
          "height": 462
        }
      },
      "source": [
        "oneUser = predictedDF[predictedDF.userSeq == userNumber].copy()\n",
        "oneUser['Error'] = (oneUser.rating - oneUser.Predictions)**2\n",
        "oneUser.sort_values(by='Error', ascending=False).head(5)"
      ],
      "execution_count": 0,
      "outputs": [
        {
          "output_type": "execute_result",
          "data": {
            "text/html": [
              "<div>\n",
              "<style scoped>\n",
              "    .dataframe tbody tr th:only-of-type {\n",
              "        vertical-align: middle;\n",
              "    }\n",
              "\n",
              "    .dataframe tbody tr th {\n",
              "        vertical-align: top;\n",
              "    }\n",
              "\n",
              "    .dataframe thead th {\n",
              "        text-align: right;\n",
              "    }\n",
              "</style>\n",
              "<table border=\"1\" class=\"dataframe\">\n",
              "  <thead>\n",
              "    <tr style=\"text-align: right;\">\n",
              "      <th></th>\n",
              "      <th>userId</th>\n",
              "      <th>movieId</th>\n",
              "      <th>rating</th>\n",
              "      <th>title</th>\n",
              "      <th>userSeq</th>\n",
              "      <th>movieSeq</th>\n",
              "      <th>Predictions</th>\n",
              "      <th>Error</th>\n",
              "    </tr>\n",
              "  </thead>\n",
              "  <tbody>\n",
              "    <tr>\n",
              "      <th>4649</th>\n",
              "      <td>1</td>\n",
              "      <td>608</td>\n",
              "      <td>5.0</td>\n",
              "      <td>Fargo (1996)</td>\n",
              "      <td>0</td>\n",
              "      <td>520</td>\n",
              "      <td>0.874967</td>\n",
              "      <td>17.015893</td>\n",
              "    </tr>\n",
              "    <tr>\n",
              "      <th>8450</th>\n",
              "      <td>1</td>\n",
              "      <td>1256</td>\n",
              "      <td>5.0</td>\n",
              "      <td>Duck Soup (1933)</td>\n",
              "      <td>0</td>\n",
              "      <td>954</td>\n",
              "      <td>1.579868</td>\n",
              "      <td>11.697301</td>\n",
              "    </tr>\n",
              "    <tr>\n",
              "      <th>6641</th>\n",
              "      <td>1</td>\n",
              "      <td>1136</td>\n",
              "      <td>5.0</td>\n",
              "      <td>Monty Python and the Holy Grail (1975)</td>\n",
              "      <td>0</td>\n",
              "      <td>862</td>\n",
              "      <td>1.658444</td>\n",
              "      <td>11.165994</td>\n",
              "    </tr>\n",
              "    <tr>\n",
              "      <th>7130</th>\n",
              "      <td>1</td>\n",
              "      <td>1198</td>\n",
              "      <td>5.0</td>\n",
              "      <td>Raiders of the Lost Ark (Indiana Jones and the...</td>\n",
              "      <td>0</td>\n",
              "      <td>899</td>\n",
              "      <td>1.705459</td>\n",
              "      <td>10.853999</td>\n",
              "    </tr>\n",
              "    <tr>\n",
              "      <th>5795</th>\n",
              "      <td>1</td>\n",
              "      <td>1029</td>\n",
              "      <td>5.0</td>\n",
              "      <td>Dumbo (1941)</td>\n",
              "      <td>0</td>\n",
              "      <td>786</td>\n",
              "      <td>1.770287</td>\n",
              "      <td>10.431049</td>\n",
              "    </tr>\n",
              "  </tbody>\n",
              "</table>\n",
              "</div>"
            ],
            "text/plain": [
              "      userId  movieId  rating  ... movieSeq  Predictions      Error\n",
              "4649       1      608     5.0  ...      520     0.874967  17.015893\n",
              "8450       1     1256     5.0  ...      954     1.579868  11.697301\n",
              "6641       1     1136     5.0  ...      862     1.658444  11.165994\n",
              "7130       1     1198     5.0  ...      899     1.705459  10.853999\n",
              "5795       1     1029     5.0  ...      786     1.770287  10.431049\n",
              "\n",
              "[5 rows x 8 columns]"
            ]
          },
          "metadata": {
            "tags": []
          },
          "execution_count": 24
        }
      ]
    },
    {
      "cell_type": "markdown",
      "metadata": {
        "id": "l5WsSPYMjuUK",
        "colab_type": "text"
      },
      "source": [
        "big error"
      ]
    },
    {
      "cell_type": "code",
      "metadata": {
        "id": "LjCOWpa-jwrj",
        "colab_type": "code",
        "outputId": "5ac8651e-a34d-4898-b414-55dbd6b21aa1",
        "colab": {
          "base_uri": "https://localhost:8080/",
          "height": 415
        }
      },
      "source": [
        "ratings[ratings.movieSeq == 520].sort_values(by='rating', ascending=True)\n"
      ],
      "execution_count": 0,
      "outputs": [
        {
          "output_type": "execute_result",
          "data": {
            "text/html": [
              "<div>\n",
              "<style scoped>\n",
              "    .dataframe tbody tr th:only-of-type {\n",
              "        vertical-align: middle;\n",
              "    }\n",
              "\n",
              "    .dataframe tbody tr th {\n",
              "        vertical-align: top;\n",
              "    }\n",
              "\n",
              "    .dataframe thead th {\n",
              "        text-align: right;\n",
              "    }\n",
              "</style>\n",
              "<table border=\"1\" class=\"dataframe\">\n",
              "  <thead>\n",
              "    <tr style=\"text-align: right;\">\n",
              "      <th></th>\n",
              "      <th>userId</th>\n",
              "      <th>movieId</th>\n",
              "      <th>rating</th>\n",
              "      <th>title</th>\n",
              "      <th>userSeq</th>\n",
              "      <th>movieSeq</th>\n",
              "    </tr>\n",
              "  </thead>\n",
              "  <tbody>\n",
              "    <tr>\n",
              "      <th>4827</th>\n",
              "      <td>607</td>\n",
              "      <td>608</td>\n",
              "      <td>2.0</td>\n",
              "      <td>Fargo (1996)</td>\n",
              "      <td>606</td>\n",
              "      <td>520</td>\n",
              "    </tr>\n",
              "    <tr>\n",
              "      <th>4672</th>\n",
              "      <td>78</td>\n",
              "      <td>608</td>\n",
              "      <td>2.0</td>\n",
              "      <td>Fargo (1996)</td>\n",
              "      <td>77</td>\n",
              "      <td>520</td>\n",
              "    </tr>\n",
              "    <tr>\n",
              "      <th>4810</th>\n",
              "      <td>546</td>\n",
              "      <td>608</td>\n",
              "      <td>2.0</td>\n",
              "      <td>Fargo (1996)</td>\n",
              "      <td>545</td>\n",
              "      <td>520</td>\n",
              "    </tr>\n",
              "    <tr>\n",
              "      <th>4669</th>\n",
              "      <td>71</td>\n",
              "      <td>608</td>\n",
              "      <td>2.0</td>\n",
              "      <td>Fargo (1996)</td>\n",
              "      <td>70</td>\n",
              "      <td>520</td>\n",
              "    </tr>\n",
              "    <tr>\n",
              "      <th>4812</th>\n",
              "      <td>554</td>\n",
              "      <td>608</td>\n",
              "      <td>2.0</td>\n",
              "      <td>Fargo (1996)</td>\n",
              "      <td>553</td>\n",
              "      <td>520</td>\n",
              "    </tr>\n",
              "    <tr>\n",
              "      <th>...</th>\n",
              "      <td>...</td>\n",
              "      <td>...</td>\n",
              "      <td>...</td>\n",
              "      <td>...</td>\n",
              "      <td>...</td>\n",
              "      <td>...</td>\n",
              "    </tr>\n",
              "    <tr>\n",
              "      <th>4725</th>\n",
              "      <td>251</td>\n",
              "      <td>608</td>\n",
              "      <td>5.0</td>\n",
              "      <td>Fargo (1996)</td>\n",
              "      <td>250</td>\n",
              "      <td>520</td>\n",
              "    </tr>\n",
              "    <tr>\n",
              "      <th>4718</th>\n",
              "      <td>221</td>\n",
              "      <td>608</td>\n",
              "      <td>5.0</td>\n",
              "      <td>Fargo (1996)</td>\n",
              "      <td>220</td>\n",
              "      <td>520</td>\n",
              "    </tr>\n",
              "    <tr>\n",
              "      <th>4717</th>\n",
              "      <td>220</td>\n",
              "      <td>608</td>\n",
              "      <td>5.0</td>\n",
              "      <td>Fargo (1996)</td>\n",
              "      <td>219</td>\n",
              "      <td>520</td>\n",
              "    </tr>\n",
              "    <tr>\n",
              "      <th>4754</th>\n",
              "      <td>324</td>\n",
              "      <td>608</td>\n",
              "      <td>5.0</td>\n",
              "      <td>Fargo (1996)</td>\n",
              "      <td>323</td>\n",
              "      <td>520</td>\n",
              "    </tr>\n",
              "    <tr>\n",
              "      <th>4739</th>\n",
              "      <td>290</td>\n",
              "      <td>608</td>\n",
              "      <td>5.0</td>\n",
              "      <td>Fargo (1996)</td>\n",
              "      <td>289</td>\n",
              "      <td>520</td>\n",
              "    </tr>\n",
              "  </tbody>\n",
              "</table>\n",
              "<p>181 rows × 6 columns</p>\n",
              "</div>"
            ],
            "text/plain": [
              "      userId  movieId  rating         title  userSeq  movieSeq\n",
              "4827     607      608     2.0  Fargo (1996)      606       520\n",
              "4672      78      608     2.0  Fargo (1996)       77       520\n",
              "4810     546      608     2.0  Fargo (1996)      545       520\n",
              "4669      71      608     2.0  Fargo (1996)       70       520\n",
              "4812     554      608     2.0  Fargo (1996)      553       520\n",
              "...      ...      ...     ...           ...      ...       ...\n",
              "4725     251      608     5.0  Fargo (1996)      250       520\n",
              "4718     221      608     5.0  Fargo (1996)      220       520\n",
              "4717     220      608     5.0  Fargo (1996)      219       520\n",
              "4754     324      608     5.0  Fargo (1996)      323       520\n",
              "4739     290      608     5.0  Fargo (1996)      289       520\n",
              "\n",
              "[181 rows x 6 columns]"
            ]
          },
          "metadata": {
            "tags": []
          },
          "execution_count": 25
        }
      ]
    },
    {
      "cell_type": "markdown",
      "metadata": {
        "id": "7zpNxBcWj_75",
        "colab_type": "text"
      },
      "source": [
        "may have similar interest user that rate 2 and also rate 5, therefore it may get error"
      ]
    },
    {
      "cell_type": "code",
      "metadata": {
        "id": "Bg5TojeUkCXf",
        "colab_type": "code",
        "colab": {}
      },
      "source": [
        ""
      ],
      "execution_count": 0,
      "outputs": []
    }
  ]
}
