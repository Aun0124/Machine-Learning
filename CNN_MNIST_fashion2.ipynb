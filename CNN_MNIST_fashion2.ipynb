{
  "nbformat": 4,
  "nbformat_minor": 0,
  "metadata": {
    "colab": {
      "name": "CNN_MNIST_fashion2.ipynb",
      "provenance": [],
      "authorship_tag": "ABX9TyPldsG5D5WG3APLa6WHJJLQ",
      "include_colab_link": true
    },
    "kernelspec": {
      "name": "python3",
      "display_name": "Python 3"
    }
  },
  "cells": [
    {
      "cell_type": "markdown",
      "metadata": {
        "id": "view-in-github",
        "colab_type": "text"
      },
      "source": [
        "<a href=\"https://colab.research.google.com/github/TANKIANAUN/Machine-Learning/blob/master/CNN_MNIST_fashion2.ipynb\" target=\"_parent\"><img src=\"https://colab.research.google.com/assets/colab-badge.svg\" alt=\"Open In Colab\"/></a>"
      ]
    },
    {
      "cell_type": "code",
      "metadata": {
        "id": "J-BxQpFFgiYA",
        "colab_type": "code",
        "colab": {}
      },
      "source": [
        "import tensorflow as tf\n",
        "from tensorflow import keras\n",
        "import numpy as np\n",
        "import matplotlib.pyplot as plt\n"
      ],
      "execution_count": 1,
      "outputs": []
    },
    {
      "cell_type": "code",
      "metadata": {
        "id": "7t5oR5RC1kGc",
        "colab_type": "code",
        "colab": {}
      },
      "source": [
        "data=keras.datasets.fashion_mnist"
      ],
      "execution_count": 2,
      "outputs": []
    },
    {
      "cell_type": "code",
      "metadata": {
        "id": "3WyfdoFQ1qpu",
        "colab_type": "code",
        "colab": {
          "base_uri": "https://localhost:8080/",
          "height": 35
        },
        "outputId": "39288b4a-608a-48d7-8e70-c9d75d3e328a"
      },
      "source": [
        "(train_images,train_labels),(test_images,test_labels)=data.load_data()\n",
        "print(train_labels[0])"
      ],
      "execution_count": 5,
      "outputs": [
        {
          "output_type": "stream",
          "text": [
            "9\n"
          ],
          "name": "stdout"
        }
      ]
    },
    {
      "cell_type": "code",
      "metadata": {
        "id": "tmmI80rQwnpB",
        "colab_type": "code",
        "colab": {}
      },
      "source": [
        "class_names=['T-shirt/top','Trouser','Pullover','Dress','Cost','Sandal','Shirt','Sneaker','Bag','Ankle boot']"
      ],
      "execution_count": 44,
      "outputs": []
    },
    {
      "cell_type": "code",
      "metadata": {
        "id": "8uS5Zd03yAgE",
        "colab_type": "code",
        "colab": {}
      },
      "source": [
        "train_images=train_images/255.0\n",
        "test_images=test_images/255.0"
      ],
      "execution_count": 14,
      "outputs": []
    },
    {
      "cell_type": "code",
      "metadata": {
        "id": "s2lV72zyw_tM",
        "colab_type": "code",
        "colab": {
          "base_uri": "https://localhost:8080/",
          "height": 1000
        },
        "outputId": "a19a999f-edfe-42e6-fa8b-14c8e4bbc5c7"
      },
      "source": [
        "plt.imshow(train_images[0],cmap=plt.cm.binary)\n",
        "print(train_images[0])"
      ],
      "execution_count": 15,
      "outputs": [
        {
          "output_type": "stream",
          "text": [
            "[[0.00000000e+00 0.00000000e+00 0.00000000e+00 0.00000000e+00\n",
            "  0.00000000e+00 0.00000000e+00 0.00000000e+00 0.00000000e+00\n",
            "  0.00000000e+00 0.00000000e+00 0.00000000e+00 0.00000000e+00\n",
            "  0.00000000e+00 0.00000000e+00 0.00000000e+00 0.00000000e+00\n",
            "  0.00000000e+00 0.00000000e+00 0.00000000e+00 0.00000000e+00\n",
            "  0.00000000e+00 0.00000000e+00 0.00000000e+00 0.00000000e+00\n",
            "  0.00000000e+00 0.00000000e+00 0.00000000e+00 0.00000000e+00]\n",
            " [0.00000000e+00 0.00000000e+00 0.00000000e+00 0.00000000e+00\n",
            "  0.00000000e+00 0.00000000e+00 0.00000000e+00 0.00000000e+00\n",
            "  0.00000000e+00 0.00000000e+00 0.00000000e+00 0.00000000e+00\n",
            "  0.00000000e+00 0.00000000e+00 0.00000000e+00 0.00000000e+00\n",
            "  0.00000000e+00 0.00000000e+00 0.00000000e+00 0.00000000e+00\n",
            "  0.00000000e+00 0.00000000e+00 0.00000000e+00 0.00000000e+00\n",
            "  0.00000000e+00 0.00000000e+00 0.00000000e+00 0.00000000e+00]\n",
            " [0.00000000e+00 0.00000000e+00 0.00000000e+00 0.00000000e+00\n",
            "  0.00000000e+00 0.00000000e+00 0.00000000e+00 0.00000000e+00\n",
            "  0.00000000e+00 0.00000000e+00 0.00000000e+00 0.00000000e+00\n",
            "  0.00000000e+00 0.00000000e+00 0.00000000e+00 0.00000000e+00\n",
            "  0.00000000e+00 0.00000000e+00 0.00000000e+00 0.00000000e+00\n",
            "  0.00000000e+00 0.00000000e+00 0.00000000e+00 0.00000000e+00\n",
            "  0.00000000e+00 0.00000000e+00 0.00000000e+00 0.00000000e+00]\n",
            " [0.00000000e+00 0.00000000e+00 0.00000000e+00 0.00000000e+00\n",
            "  0.00000000e+00 0.00000000e+00 0.00000000e+00 0.00000000e+00\n",
            "  0.00000000e+00 0.00000000e+00 0.00000000e+00 0.00000000e+00\n",
            "  1.53787005e-05 0.00000000e+00 0.00000000e+00 1.99923106e-04\n",
            "  1.12264514e-03 0.00000000e+00 0.00000000e+00 1.53787005e-05\n",
            "  6.15148020e-05 0.00000000e+00 0.00000000e+00 0.00000000e+00\n",
            "  0.00000000e+00 1.53787005e-05 1.53787005e-05 0.00000000e+00]\n",
            " [0.00000000e+00 0.00000000e+00 0.00000000e+00 0.00000000e+00\n",
            "  0.00000000e+00 0.00000000e+00 0.00000000e+00 0.00000000e+00\n",
            "  0.00000000e+00 0.00000000e+00 0.00000000e+00 0.00000000e+00\n",
            "  4.61361015e-05 0.00000000e+00 5.53633218e-04 2.09150327e-03\n",
            "  1.95309496e-03 9.53479431e-04 8.30449827e-04 0.00000000e+00\n",
            "  0.00000000e+00 0.00000000e+00 1.53787005e-05 4.61361015e-05\n",
            "  6.15148020e-05 0.00000000e+00 0.00000000e+00 4.61361015e-05]\n",
            " [0.00000000e+00 0.00000000e+00 0.00000000e+00 0.00000000e+00\n",
            "  0.00000000e+00 0.00000000e+00 0.00000000e+00 0.00000000e+00\n",
            "  0.00000000e+00 0.00000000e+00 0.00000000e+00 0.00000000e+00\n",
            "  9.22722030e-05 0.00000000e+00 1.56862745e-03 3.13725490e-03\n",
            "  2.70665129e-03 2.06074587e-03 2.21453287e-03 1.89158016e-03\n",
            "  3.53710111e-04 0.00000000e+00 0.00000000e+00 0.00000000e+00\n",
            "  0.00000000e+00 1.84544406e-04 1.53787005e-04 0.00000000e+00]\n",
            " [0.00000000e+00 0.00000000e+00 0.00000000e+00 0.00000000e+00\n",
            "  0.00000000e+00 0.00000000e+00 0.00000000e+00 0.00000000e+00\n",
            "  0.00000000e+00 0.00000000e+00 0.00000000e+00 0.00000000e+00\n",
            "  0.00000000e+00 0.00000000e+00 2.38369858e-03 3.62937332e-03\n",
            "  3.18339100e-03 2.73740869e-03 1.64552095e-03 2.39907728e-03\n",
            "  2.47597078e-03 1.67627835e-03 9.84236832e-04 3.53710111e-04\n",
            "  1.18415994e-03 1.99923106e-03 1.10726644e-03 2.30680507e-04]\n",
            " [0.00000000e+00 0.00000000e+00 0.00000000e+00 0.00000000e+00\n",
            "  0.00000000e+00 0.00000000e+00 0.00000000e+00 0.00000000e+00\n",
            "  0.00000000e+00 0.00000000e+00 0.00000000e+00 1.53787005e-05\n",
            "  0.00000000e+00 1.06113033e-03 3.18339100e-03 3.42945021e-03\n",
            "  3.35255671e-03 3.32179931e-03 3.32179931e-03 2.50672818e-03\n",
            "  1.95309496e-03 1.86082276e-03 1.87620146e-03 2.24529027e-03\n",
            "  2.16839677e-03 1.35332564e-03 2.64513649e-03 1.01499423e-03]\n",
            " [0.00000000e+00 0.00000000e+00 0.00000000e+00 0.00000000e+00\n",
            "  0.00000000e+00 0.00000000e+00 0.00000000e+00 0.00000000e+00\n",
            "  0.00000000e+00 1.53787005e-05 1.53787005e-05 1.53787005e-05\n",
            "  0.00000000e+00 3.07574010e-03 3.56785852e-03 3.56785852e-03\n",
            "  3.58323722e-03 3.52172241e-03 3.42945021e-03 3.42945021e-03\n",
            "  3.30642061e-03 3.27566321e-03 2.52210688e-03 1.95309496e-03\n",
            "  1.89158016e-03 3.01422530e-03 3.52172241e-03 0.00000000e+00]\n",
            " [0.00000000e+00 0.00000000e+00 0.00000000e+00 0.00000000e+00\n",
            "  0.00000000e+00 0.00000000e+00 0.00000000e+00 0.00000000e+00\n",
            "  0.00000000e+00 0.00000000e+00 0.00000000e+00 0.00000000e+00\n",
            "  0.00000000e+00 2.81430219e-03 3.46020761e-03 3.32179931e-03\n",
            "  3.42945021e-03 3.50634371e-03 3.61399462e-03 3.49096501e-03\n",
            "  3.44482891e-03 3.41407151e-03 3.44482891e-03 3.39869281e-03\n",
            "  3.42945021e-03 3.76778162e-03 2.66051519e-03 0.00000000e+00]\n",
            " [0.00000000e+00 0.00000000e+00 0.00000000e+00 0.00000000e+00\n",
            "  0.00000000e+00 0.00000000e+00 0.00000000e+00 0.00000000e+00\n",
            "  0.00000000e+00 0.00000000e+00 0.00000000e+00 0.00000000e+00\n",
            "  0.00000000e+00 2.96808920e-03 3.50634371e-03 3.35255671e-03\n",
            "  3.27566321e-03 3.04498270e-03 2.76816609e-03 3.26028451e-03\n",
            "  3.22952710e-03 3.24490581e-03 3.27566321e-03 3.42945021e-03\n",
            "  3.38331411e-03 3.73702422e-03 3.10649750e-03 0.00000000e+00]\n",
            " [0.00000000e+00 0.00000000e+00 0.00000000e+00 0.00000000e+00\n",
            "  0.00000000e+00 0.00000000e+00 0.00000000e+00 0.00000000e+00\n",
            "  0.00000000e+00 1.53787005e-05 4.61361015e-05 0.00000000e+00\n",
            "  1.84544406e-04 3.36793541e-03 3.38331411e-03 3.26028451e-03\n",
            "  3.35255671e-03 2.95271050e-03 2.59900038e-03 3.49096501e-03\n",
            "  3.19876970e-03 3.35255671e-03 3.44482891e-03 3.26028451e-03\n",
            "  3.47558631e-03 3.02960400e-03 3.21414840e-03 7.99692426e-04]\n",
            " [0.00000000e+00 0.00000000e+00 0.00000000e+00 0.00000000e+00\n",
            "  0.00000000e+00 0.00000000e+00 0.00000000e+00 0.00000000e+00\n",
            "  0.00000000e+00 0.00000000e+00 9.22722030e-05 0.00000000e+00\n",
            "  1.52249135e-03 3.75240292e-03 3.41407151e-03 3.38331411e-03\n",
            "  3.35255671e-03 3.12187620e-03 3.04498270e-03 3.39869281e-03\n",
            "  3.30642061e-03 3.27566321e-03 3.41407151e-03 3.38331411e-03\n",
            "  3.76778162e-03 1.83006536e-03 2.56824298e-03 8.61207228e-04]\n",
            " [0.00000000e+00 0.00000000e+00 0.00000000e+00 0.00000000e+00\n",
            "  0.00000000e+00 0.00000000e+00 0.00000000e+00 0.00000000e+00\n",
            "  0.00000000e+00 6.15148020e-05 0.00000000e+00 0.00000000e+00\n",
            "  8.45828527e-04 3.62937332e-03 3.50634371e-03 3.53710111e-03\n",
            "  3.50634371e-03 3.69088812e-03 3.56785852e-03 3.27566321e-03\n",
            "  3.35255671e-03 3.42945021e-03 3.59861592e-03 3.33717801e-03\n",
            "  3.33717801e-03 3.21414840e-03 1.41484045e-03 0.00000000e+00]\n",
            " [0.00000000e+00 0.00000000e+00 1.53787005e-05 6.15148020e-05\n",
            "  9.22722030e-05 1.07650903e-04 3.07574010e-05 0.00000000e+00\n",
            "  0.00000000e+00 0.00000000e+00 0.00000000e+00 0.00000000e+00\n",
            "  3.64475202e-03 3.47558631e-03 3.33717801e-03 3.42945021e-03\n",
            "  3.41407151e-03 3.36793541e-03 3.41407151e-03 3.39869281e-03\n",
            "  3.32179931e-03 3.42945021e-03 3.52172241e-03 3.30642061e-03\n",
            "  3.35255671e-03 3.92156863e-03 1.18415994e-03 0.00000000e+00]\n",
            " [0.00000000e+00 4.61361015e-05 0.00000000e+00 0.00000000e+00\n",
            "  0.00000000e+00 0.00000000e+00 0.00000000e+00 0.00000000e+00\n",
            "  0.00000000e+00 9.53479431e-04 2.22991157e-03 3.13725490e-03\n",
            "  3.50634371e-03 3.18339100e-03 3.27566321e-03 3.39869281e-03\n",
            "  3.35255671e-03 3.19876970e-03 3.24490581e-03 3.35255671e-03\n",
            "  3.44482891e-03 3.42945021e-03 3.36793541e-03 3.30642061e-03\n",
            "  3.44482891e-03 3.75240292e-03 2.44521338e-03 0.00000000e+00]\n",
            " [0.00000000e+00 0.00000000e+00 0.00000000e+00 0.00000000e+00\n",
            "  2.76816609e-04 6.76662822e-04 1.26105344e-03 1.64552095e-03\n",
            "  2.90657439e-03 3.50634371e-03 3.38331411e-03 3.41407151e-03\n",
            "  3.33717801e-03 3.47558631e-03 3.07574010e-03 3.15263360e-03\n",
            "  3.24490581e-03 3.53710111e-03 3.44482891e-03 3.59861592e-03\n",
            "  2.70665129e-03 2.89119569e-03 3.84467512e-03 3.81391772e-03\n",
            "  3.58323722e-03 3.66013072e-03 3.30642061e-03 0.00000000e+00]\n",
            " [0.00000000e+00 8.76585928e-04 2.87581699e-03 3.19876970e-03\n",
            "  3.44482891e-03 3.39869281e-03 3.44482891e-03 3.19876970e-03\n",
            "  3.13725490e-03 3.29104191e-03 3.19876970e-03 3.21414840e-03\n",
            "  3.07574010e-03 2.44521338e-03 3.76778162e-03 2.96808920e-03\n",
            "  3.16801230e-03 3.42945021e-03 3.92156863e-03 3.92156863e-03\n",
            "  3.39869281e-03 3.59861592e-03 3.39869281e-03 3.24490581e-03\n",
            "  3.38331411e-03 3.56785852e-03 3.78316032e-03 0.00000000e+00]\n",
            " [4.61361015e-05 3.10649750e-03 3.50634371e-03 3.44482891e-03\n",
            "  3.39869281e-03 3.24490581e-03 3.24490581e-03 3.29104191e-03\n",
            "  3.15263360e-03 3.15263360e-03 3.15263360e-03 3.38331411e-03\n",
            "  3.69088812e-03 1.23029604e-03 2.30680507e-03 3.92156863e-03\n",
            "  3.52172241e-03 3.39869281e-03 2.89119569e-03 2.36831988e-03\n",
            "  2.93733180e-03 3.22952710e-03 3.13725490e-03 3.21414840e-03\n",
            "  3.41407151e-03 3.50634371e-03 3.46020761e-03 0.00000000e+00]\n",
            " [1.50711265e-03 3.58323722e-03 3.04498270e-03 3.22952710e-03\n",
            "  3.41407151e-03 3.52172241e-03 3.52172241e-03 3.59861592e-03\n",
            "  3.82929642e-03 3.38331411e-03 2.98346790e-03 3.30642061e-03\n",
            "  3.33717801e-03 3.70626682e-03 9.99615532e-04 1.12264514e-03\n",
            "  1.63014225e-03 1.79930796e-03 2.58362168e-03 3.36793541e-03\n",
            "  3.39869281e-03 3.30642061e-03 3.33717801e-03 3.42945021e-03\n",
            "  3.42945021e-03 3.44482891e-03 3.52172241e-03 4.45982314e-04]\n",
            " [1.15340254e-03 3.13725490e-03 3.26028451e-03 3.13725490e-03\n",
            "  2.96808920e-03 3.15263360e-03 3.24490581e-03 3.46020761e-03\n",
            "  3.32179931e-03 2.84505959e-03 3.02960400e-03 3.16801230e-03\n",
            "  3.04498270e-03 3.27566321e-03 3.69088812e-03 2.99884660e-03\n",
            "  3.49096501e-03 3.76778162e-03 3.67550942e-03 3.42945021e-03\n",
            "  3.35255671e-03 3.26028451e-03 3.21414840e-03 3.41407151e-03\n",
            "  3.38331411e-03 3.39869281e-03 3.53710111e-03 1.03037293e-03]\n",
            " [7.38177624e-04 3.12187620e-03 2.81430219e-03 2.98346790e-03\n",
            "  3.27566321e-03 3.02960400e-03 2.84505959e-03 2.92195309e-03\n",
            "  2.98346790e-03 2.95271050e-03 3.10649750e-03 3.29104191e-03\n",
            "  3.36793541e-03 3.39869281e-03 3.38331411e-03 3.62937332e-03\n",
            "  3.46020761e-03 3.32179931e-03 3.06036140e-03 3.16801230e-03\n",
            "  2.86043829e-03 2.78354479e-03 2.72202999e-03 2.64513649e-03\n",
            "  2.78354479e-03 3.15263360e-03 3.16801230e-03 1.76855056e-03]\n",
            " [0.00000000e+00 1.87620146e-03 3.36793541e-03 2.96808920e-03\n",
            "  2.75278739e-03 2.62975779e-03 2.81430219e-03 3.01422530e-03\n",
            "  3.13725490e-03 3.22952710e-03 3.27566321e-03 3.18339100e-03\n",
            "  3.24490581e-03 3.22952710e-03 3.07574010e-03 3.01422530e-03\n",
            "  2.98346790e-03 2.93733180e-03 2.99884660e-03 2.93733180e-03\n",
            "  3.04498270e-03 2.95271050e-03 2.70665129e-03 2.39907728e-03\n",
            "  2.56824298e-03 2.72202999e-03 3.22952710e-03 1.41484045e-03]\n",
            " [0.00000000e+00 0.00000000e+00 1.13802384e-03 2.90657439e-03\n",
            "  3.26028451e-03 2.93733180e-03 2.69127259e-03 2.64513649e-03\n",
            "  2.69127259e-03 2.78354479e-03 2.84505959e-03 2.89119569e-03\n",
            "  2.90657439e-03 2.89119569e-03 2.96808920e-03 3.04498270e-03\n",
            "  3.13725490e-03 3.21414840e-03 3.22952710e-03 3.22952710e-03\n",
            "  3.24490581e-03 2.89119569e-03 2.89119569e-03 2.98346790e-03\n",
            "  2.95271050e-03 3.32179931e-03 2.61437908e-03 0.00000000e+00]\n",
            " [3.07574010e-05 0.00000000e+00 0.00000000e+00 0.00000000e+00\n",
            "  1.01499423e-03 3.07574010e-03 3.41407151e-03 3.64475202e-03\n",
            "  3.67550942e-03 3.72164552e-03 3.78316032e-03 3.73702422e-03\n",
            "  3.75240292e-03 3.39869281e-03 3.38331411e-03 2.96808920e-03\n",
            "  2.93733180e-03 2.75278739e-03 2.79892349e-03 2.79892349e-03\n",
            "  2.78354479e-03 2.70665129e-03 2.55286428e-03 2.58362168e-03\n",
            "  1.52249135e-03 8.91964629e-04 0.00000000e+00 0.00000000e+00]\n",
            " [0.00000000e+00 0.00000000e+00 0.00000000e+00 0.00000000e+00\n",
            "  0.00000000e+00 0.00000000e+00 0.00000000e+00 6.15148020e-04\n",
            "  9.38100730e-04 6.76662822e-04 1.10726644e-03 6.30526720e-04\n",
            "  5.38254517e-04 0.00000000e+00 0.00000000e+00 0.00000000e+00\n",
            "  0.00000000e+00 0.00000000e+00 0.00000000e+00 0.00000000e+00\n",
            "  0.00000000e+00 0.00000000e+00 0.00000000e+00 0.00000000e+00\n",
            "  0.00000000e+00 0.00000000e+00 0.00000000e+00 0.00000000e+00]\n",
            " [0.00000000e+00 0.00000000e+00 0.00000000e+00 0.00000000e+00\n",
            "  0.00000000e+00 0.00000000e+00 0.00000000e+00 0.00000000e+00\n",
            "  0.00000000e+00 0.00000000e+00 0.00000000e+00 0.00000000e+00\n",
            "  0.00000000e+00 0.00000000e+00 0.00000000e+00 0.00000000e+00\n",
            "  0.00000000e+00 0.00000000e+00 0.00000000e+00 0.00000000e+00\n",
            "  0.00000000e+00 0.00000000e+00 0.00000000e+00 0.00000000e+00\n",
            "  0.00000000e+00 0.00000000e+00 0.00000000e+00 0.00000000e+00]\n",
            " [0.00000000e+00 0.00000000e+00 0.00000000e+00 0.00000000e+00\n",
            "  0.00000000e+00 0.00000000e+00 0.00000000e+00 0.00000000e+00\n",
            "  0.00000000e+00 0.00000000e+00 0.00000000e+00 0.00000000e+00\n",
            "  0.00000000e+00 0.00000000e+00 0.00000000e+00 0.00000000e+00\n",
            "  0.00000000e+00 0.00000000e+00 0.00000000e+00 0.00000000e+00\n",
            "  0.00000000e+00 0.00000000e+00 0.00000000e+00 0.00000000e+00\n",
            "  0.00000000e+00 0.00000000e+00 0.00000000e+00 0.00000000e+00]]\n"
          ],
          "name": "stdout"
        },
        {
          "output_type": "display_data",
          "data": {
            "image/png": "[encoded data removed]",
            "text/plain": [
              "<Figure size 432x288 with 1 Axes>"
            ]
          },
          "metadata": {
            "tags": [],
            "needs_background": "light"
          }
        }
      ]
    },
    {
      "cell_type": "code",
      "metadata": {
        "id": "KxEbCEHPyZZi",
        "colab_type": "code",
        "colab": {}
      },
      "source": [
        "model=keras.Sequential([\n",
        "    keras.layers.Flatten(input_shape=(28,28)),\n",
        "    keras.layers.Dense(128,activation='relu'),\n",
        "    keras.layers.Dense(10,activation=\"softmax\")\n",
        "])"
      ],
      "execution_count": 23,
      "outputs": []
    },
    {
      "cell_type": "code",
      "metadata": {
        "id": "V1JI6ABF4yzd",
        "colab_type": "code",
        "colab": {
          "base_uri": "https://localhost:8080/",
          "height": 728
        },
        "outputId": "f69109a6-70eb-44ca-fd0d-f84725fcbbff"
      },
      "source": [
        "model.compile(optimizer='adam',loss='sparse_categorical_crossentropy',metrics=['accuracy'])\n",
        "model.fit(train_images,train_labels,epochs=20)"
      ],
      "execution_count": 32,
      "outputs": [
        {
          "output_type": "stream",
          "text": [
            "Epoch 1/20\n",
            "1875/1875 [==============================] - 3s 2ms/step - loss: 0.3975 - accuracy: 0.8597\n",
            "Epoch 2/20\n",
            "1875/1875 [==============================] - 3s 2ms/step - loss: 0.3934 - accuracy: 0.8614\n",
            "Epoch 3/20\n",
            "1875/1875 [==============================] - 3s 2ms/step - loss: 0.3888 - accuracy: 0.8635\n",
            "Epoch 4/20\n",
            "1875/1875 [==============================] - 3s 2ms/step - loss: 0.3850 - accuracy: 0.8642\n",
            "Epoch 5/20\n",
            "1875/1875 [==============================] - 3s 2ms/step - loss: 0.3820 - accuracy: 0.8644\n",
            "Epoch 6/20\n",
            "1875/1875 [==============================] - 3s 2ms/step - loss: 0.3783 - accuracy: 0.8657\n",
            "Epoch 7/20\n",
            "1875/1875 [==============================] - 3s 2ms/step - loss: 0.3750 - accuracy: 0.8671\n",
            "Epoch 8/20\n",
            "1875/1875 [==============================] - 3s 2ms/step - loss: 0.3724 - accuracy: 0.8686\n",
            "Epoch 9/20\n",
            "1875/1875 [==============================] - 3s 2ms/step - loss: 0.3694 - accuracy: 0.8691\n",
            "Epoch 10/20\n",
            "1875/1875 [==============================] - 3s 2ms/step - loss: 0.3666 - accuracy: 0.8695\n",
            "Epoch 11/20\n",
            "1875/1875 [==============================] - 3s 2ms/step - loss: 0.3637 - accuracy: 0.8704\n",
            "Epoch 12/20\n",
            "1875/1875 [==============================] - 3s 2ms/step - loss: 0.3610 - accuracy: 0.8715\n",
            "Epoch 13/20\n",
            "1875/1875 [==============================] - 3s 2ms/step - loss: 0.3587 - accuracy: 0.8721\n",
            "Epoch 14/20\n",
            "1875/1875 [==============================] - 3s 2ms/step - loss: 0.3568 - accuracy: 0.8722\n",
            "Epoch 15/20\n",
            "1875/1875 [==============================] - 3s 2ms/step - loss: 0.3536 - accuracy: 0.8753\n",
            "Epoch 16/20\n",
            "1875/1875 [==============================] - 3s 2ms/step - loss: 0.3516 - accuracy: 0.8752\n",
            "Epoch 17/20\n",
            "1875/1875 [==============================] - 3s 2ms/step - loss: 0.3492 - accuracy: 0.8754\n",
            "Epoch 18/20\n",
            "1875/1875 [==============================] - 3s 2ms/step - loss: 0.3471 - accuracy: 0.8764\n",
            "Epoch 19/20\n",
            "1875/1875 [==============================] - 3s 2ms/step - loss: 0.3449 - accuracy: 0.8771\n",
            "Epoch 20/20\n",
            "1875/1875 [==============================] - 3s 2ms/step - loss: 0.3426 - accuracy: 0.8778\n"
          ],
          "name": "stdout"
        },
        {
          "output_type": "execute_result",
          "data": {
            "text/plain": [
              "<tensorflow.python.keras.callbacks.History at 0x7ff533256fd0>"
            ]
          },
          "metadata": {
            "tags": []
          },
          "execution_count": 32
        }
      ]
    },
    {
      "cell_type": "code",
      "metadata": {
        "id": "1oNyscc667Am",
        "colab_type": "code",
        "colab": {
          "base_uri": "https://localhost:8080/",
          "height": 69
        },
        "outputId": "6d95e365-cc4e-427b-85a9-05fd87fd2f99"
      },
      "source": [
        "test_loss,test_acc=model.evaluate(test_images,test_labels)\n",
        "print('test acc',test_acc,'\\ntest_loss',test_loss)"
      ],
      "execution_count": 34,
      "outputs": [
        {
          "output_type": "stream",
          "text": [
            "313/313 [==============================] - 0s 1ms/step - loss: 0.3971 - accuracy: 0.8576\n",
            "test acc 0.8575999736785889 \n",
            "test_loss 0.39708346128463745\n"
          ],
          "name": "stdout"
        }
      ]
    },
    {
      "cell_type": "code",
      "metadata": {
        "id": "gWoaS6Ow8Chf",
        "colab_type": "code",
        "colab": {
          "base_uri": "https://localhost:8080/",
          "height": 312
        },
        "outputId": "8da4aa63-121e-4b76-b594-a41ab710104b"
      },
      "source": [
        "prediction=model.predict(test_images)\n",
        "print(prediction)\n",
        "most_likely=np.argmax(prediction[0])\n",
        "print(\"predicted\",prediction[0])\n",
        "print('mostly=',most_likely)\n",
        "ans=class_names[most_likely]\n",
        "print(ans)"
      ],
      "execution_count": 56,
      "outputs": [
        {
          "output_type": "stream",
          "text": [
            "[[1.0108123e-07 8.2237878e-10 8.3462351e-07 ... 7.8324459e-02\n",
            "  4.0407768e-03 8.4459162e-01]\n",
            " [9.9146004e-05 4.1074614e-08 9.6664286e-01 ... 8.1813238e-23\n",
            "  3.9359889e-05 4.0843941e-18]\n",
            " [4.9736092e-05 9.9978870e-01 2.7426489e-05 ... 8.9948139e-11\n",
            "  3.6278120e-08 8.8377721e-13]\n",
            " ...\n",
            " [1.2386334e-02 1.9158648e-07 5.0366903e-04 ... 6.4827614e-06\n",
            "  9.5001751e-01 9.0574890e-09]\n",
            " [4.1831922e-06 9.9952102e-01 1.2851782e-05 ... 1.2952363e-08\n",
            "  4.2288022e-08 1.1769284e-08]\n",
            " [5.4167645e-06 1.3632563e-06 1.2052733e-04 ... 9.6360138e-03\n",
            "  3.1696495e-03 1.2389706e-04]]\n",
            "predicted [1.0108123e-07 8.2237878e-10 8.3462351e-07 1.0616955e-06 2.1373535e-06\n",
            " 7.3032744e-02 6.2601066e-06 7.8324459e-02 4.0407768e-03 8.4459162e-01]\n",
            "mostly= 9\n",
            "Ankle boot\n"
          ],
          "name": "stdout"
        }
      ]
    },
    {
      "cell_type": "code",
      "metadata": {
        "id": "TD_LnxgD_Hjo",
        "colab_type": "code",
        "colab": {
          "base_uri": "https://localhost:8080/",
          "height": 281
        },
        "outputId": "12e0035c-98ef-4ca2-b69f-997f352481eb"
      },
      "source": [
        "plt.imshow(test_images[0])\n",
        "plt.title(\"Predicted=%s   Real=%s\"%(ans,class_names[test_labels[0]]))\n",
        "plt.show()"
      ],
      "execution_count": 63,
      "outputs": [
        {
          "output_type": "display_data",
          "data": {
            "image/png": "[encoded data removed]",
            "text/plain": [
              "<Figure size 432x288 with 1 Axes>"
            ]
          },
          "metadata": {
            "tags": [],
            "needs_background": "light"
          }
        }
      ]
    }
  ]
}