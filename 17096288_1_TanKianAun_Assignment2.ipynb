{
  "nbformat": 4,
  "nbformat_minor": 0,
  "metadata": {
    "colab": {
      "name": "17096288/1_TanKianAun_Assignment2.ipynb",
      "provenance": [],
      "collapsed_sections": [],
      "authorship_tag": "ABX9TyN04G69ahWch9FLFZsxB3eN",
      "include_colab_link": true
    },
    "kernelspec": {
      "display_name": "Python 3",
      "name": "python3"
    },
    "language_info": {
      "name": "python"
    },
    "accelerator": "GPU",
    "widgets": {
      "application/vnd.jupyter.widget-state+json": {
        "242ab9538fdf4b988e0c8851224fed78": {
          "model_module": "@jupyter-widgets/controls",
          "model_name": "HBoxModel",
          "state": {
            "_view_name": "HBoxView",
            "_dom_classes": [],
            "_model_name": "HBoxModel",
            "_view_module": "@jupyter-widgets/controls",
            "_model_module_version": "1.5.0",
            "_view_count": null,
            "_view_module_version": "1.5.0",
            "box_style": "",
            "layout": "IPY_MODEL_7a6ee21a720945369298e97a34113c81",
            "_model_module": "@jupyter-widgets/controls",
            "children": [
              "IPY_MODEL_4b54f8553edd41e08c2eee27a9ac302c",
              "IPY_MODEL_4cd7779cc7594353a332cf3f87789925"
            ]
          }
        },
        "7a6ee21a720945369298e97a34113c81": {
          "model_module": "@jupyter-widgets/base",
          "model_name": "LayoutModel",
          "state": {
            "_view_name": "LayoutView",
            "grid_template_rows": null,
            "right": null,
            "justify_content": null,
            "_view_module": "@jupyter-widgets/base",
            "overflow": null,
            "_model_module_version": "1.2.0",
            "_view_count": null,
            "flex_flow": null,
            "width": null,
            "min_width": null,
            "border": null,
            "align_items": null,
            "bottom": null,
            "_model_module": "@jupyter-widgets/base",
            "top": null,
            "grid_column": null,
            "overflow_y": null,
            "overflow_x": null,
            "grid_auto_flow": null,
            "grid_area": null,
            "grid_template_columns": null,
            "flex": null,
            "_model_name": "LayoutModel",
            "justify_items": null,
            "grid_row": null,
            "max_height": null,
            "align_content": null,
            "visibility": null,
            "align_self": null,
            "height": null,
            "min_height": null,
            "padding": null,
            "grid_auto_rows": null,
            "grid_gap": null,
            "max_width": null,
            "order": null,
            "_view_module_version": "1.2.0",
            "grid_template_areas": null,
            "object_position": null,
            "object_fit": null,
            "grid_auto_columns": null,
            "margin": null,
            "display": null,
            "left": null
          }
        },
        "4b54f8553edd41e08c2eee27a9ac302c": {
          "model_module": "@jupyter-widgets/controls",
          "model_name": "FloatProgressModel",
          "state": {
            "_view_name": "ProgressView",
            "style": "IPY_MODEL_318068692d694494b1bc6d02c43f672b",
            "_dom_classes": [],
            "description": "",
            "_model_name": "FloatProgressModel",
            "bar_style": "success",
            "max": 561753746,
            "_view_module": "@jupyter-widgets/controls",
            "_model_module_version": "1.5.0",
            "value": 561753746,
            "_view_count": null,
            "_view_module_version": "1.5.0",
            "orientation": "horizontal",
            "min": 0,
            "description_tooltip": null,
            "_model_module": "@jupyter-widgets/controls",
            "layout": "IPY_MODEL_b1639e73115148328f62af193c5f542b"
          }
        },
        "4cd7779cc7594353a332cf3f87789925": {
          "model_module": "@jupyter-widgets/controls",
          "model_name": "HTMLModel",
          "state": {
            "_view_name": "HTMLView",
            "style": "IPY_MODEL_5ab09f3cecb44d0ba79db48e4c944ca0",
            "_dom_classes": [],
            "description": "",
            "_model_name": "HTMLModel",
            "placeholder": "​",
            "_view_module": "@jupyter-widgets/controls",
            "_model_module_version": "1.5.0",
            "value": " 561754112/? [19:11&lt;00:00, 487780.78it/s]",
            "_view_count": null,
            "_view_module_version": "1.5.0",
            "description_tooltip": null,
            "_model_module": "@jupyter-widgets/controls",
            "layout": "IPY_MODEL_7577c834139944d5bdde962b96c0c616"
          }
        },
        "318068692d694494b1bc6d02c43f672b": {
          "model_module": "@jupyter-widgets/controls",
          "model_name": "ProgressStyleModel",
          "state": {
            "_view_name": "StyleView",
            "_model_name": "ProgressStyleModel",
            "description_width": "initial",
            "_view_module": "@jupyter-widgets/base",
            "_model_module_version": "1.5.0",
            "_view_count": null,
            "_view_module_version": "1.2.0",
            "bar_color": null,
            "_model_module": "@jupyter-widgets/controls"
          }
        },
        "b1639e73115148328f62af193c5f542b": {
          "model_module": "@jupyter-widgets/base",
          "model_name": "LayoutModel",
          "state": {
            "_view_name": "LayoutView",
            "grid_template_rows": null,
            "right": null,
            "justify_content": null,
            "_view_module": "@jupyter-widgets/base",
            "overflow": null,
            "_model_module_version": "1.2.0",
            "_view_count": null,
            "flex_flow": null,
            "width": null,
            "min_width": null,
            "border": null,
            "align_items": null,
            "bottom": null,
            "_model_module": "@jupyter-widgets/base",
            "top": null,
            "grid_column": null,
            "overflow_y": null,
            "overflow_x": null,
            "grid_auto_flow": null,
            "grid_area": null,
            "grid_template_columns": null,
            "flex": null,
            "_model_name": "LayoutModel",
            "justify_items": null,
            "grid_row": null,
            "max_height": null,
            "align_content": null,
            "visibility": null,
            "align_self": null,
            "height": null,
            "min_height": null,
            "padding": null,
            "grid_auto_rows": null,
            "grid_gap": null,
            "max_width": null,
            "order": null,
            "_view_module_version": "1.2.0",
            "grid_template_areas": null,
            "object_position": null,
            "object_fit": null,
            "grid_auto_columns": null,
            "margin": null,
            "display": null,
            "left": null
          }
        },
        "5ab09f3cecb44d0ba79db48e4c944ca0": {
          "model_module": "@jupyter-widgets/controls",
          "model_name": "DescriptionStyleModel",
          "state": {
            "_view_name": "StyleView",
            "_model_name": "DescriptionStyleModel",
            "description_width": "",
            "_view_module": "@jupyter-widgets/base",
            "_model_module_version": "1.5.0",
            "_view_count": null,
            "_view_module_version": "1.2.0",
            "_model_module": "@jupyter-widgets/controls"
          }
        },
        "7577c834139944d5bdde962b96c0c616": {
          "model_module": "@jupyter-widgets/base",
          "model_name": "LayoutModel",
          "state": {
            "_view_name": "LayoutView",
            "grid_template_rows": null,
            "right": null,
            "justify_content": null,
            "_view_module": "@jupyter-widgets/base",
            "overflow": null,
            "_model_module_version": "1.2.0",
            "_view_count": null,
            "flex_flow": null,
            "width": null,
            "min_width": null,
            "border": null,
            "align_items": null,
            "bottom": null,
            "_model_module": "@jupyter-widgets/base",
            "top": null,
            "grid_column": null,
            "overflow_y": null,
            "overflow_x": null,
            "grid_auto_flow": null,
            "grid_area": null,
            "grid_template_columns": null,
            "flex": null,
            "_model_name": "LayoutModel",
            "justify_items": null,
            "grid_row": null,
            "max_height": null,
            "align_content": null,
            "visibility": null,
            "align_self": null,
            "height": null,
            "min_height": null,
            "padding": null,
            "grid_auto_rows": null,
            "grid_gap": null,
            "max_width": null,
            "order": null,
            "_view_module_version": "1.2.0",
            "grid_template_areas": null,
            "object_position": null,
            "object_fit": null,
            "grid_auto_columns": null,
            "margin": null,
            "display": null,
            "left": null
          }
        }
      }
    }
  },
  "cells": [
    {
      "cell_type": "markdown",
      "metadata": {
        "id": "view-in-github",
        "colab_type": "text"
      },
      "source": [
        "<a href=\"https://colab.research.google.com/github/TANKIANAUN/Machine-Learning/blob/master/17096288_1_TanKianAun_Assignment2.ipynb\" target=\"_parent\"><img src=\"https://colab.research.google.com/assets/colab-badge.svg\" alt=\"Open In Colab\"/></a>"
      ]
    },
    {
      "cell_type": "markdown",
      "metadata": {
        "id": "8fyW4P7yCSJv"
      },
      "source": [
        "#Exploring Multi Layer Perceptron with EMNIST dataset\n",
        "\n",
        "This individual assignment has four parts and is 15 marks in total. Submission deadline is 3rd June (Thursday), 12PM. Submission link (via Google Form) will be updated on Spectrum.\n",
        "\n",
        "Again,there are no extra marks for early submission. If you are able to complete it rather quickly, consider how relatively easy you find the assignment to be and the fact that it is done and dusted as a reward itself.\n"
      ]
    },
    {
      "cell_type": "markdown",
      "metadata": {
        "id": "4n4OufpMCWO6"
      },
      "source": [
        "#Background\n",
        "In this assignment we will be creating a Multi Layer Perceptron to classify the EMNIST dataset. The link to the original paper is as below\n",
        "\n",
        "\n",
        "https://arxiv.org/pdf/1702.05373v1.pdf\n",
        "\n",
        "This dataset has more classes and relatively many more datapoints (about 800k) compared to the MNIST dataset. As in the paper, there are many data hierarchies \n",
        "but we will use '**By_merge**' in this assignment, and so you should have 47 classes. \n",
        "\n",
        "###**Notes**\n",
        "* For each task and questions, there will be sample outputs. Sample outputs are often 'snippets' of the whole answer. Your answers do not have to match the sample outputs (most likely won't as your network is unique). But you are expected to produce outputs following the format shown by the sample outputs. \n",
        "\n",
        "* Training will take time. To enable GPU in colab, select Runtime-Change runtime type-GPU\n",
        "\n",
        "* Once you've trained your model, you probably want to save it so that it can be reused later. To save the weights of the models\n",
        "\n",
        "```\n",
        "torch.save(model.state_dict(), \"./model.weights\")\n",
        "from google.colab import files\n",
        "files.download('model.weights')\n",
        "```\n",
        "\n",
        "* To load your downloaded weights to colab\n",
        "\n",
        "```\n",
        "from google.colab import files\n",
        "uploaded = files.upload() #select the saved model.weights\n",
        "```\n",
        " \n",
        "* PyTorch doesn't save the model structure by default.So you need to copy paste your model class, build the model and load the weights\n",
        "\n",
        "\n",
        "\n",
        "```\n",
        "# build the model and load state\n",
        "model = MLP()\n",
        "model.load_state_dict(torch.load('model.weights'))\n",
        "model = model.eval() \n",
        "```\n",
        "\n",
        "If you are working locally, then https://pytorch.org/tutorials/beginner/saving_loading_models.html\n",
        "\n",
        "\n",
        "##Updated 29th May 2PM\n",
        "* Please use PyTorch and not Tensorflow or Keras. This is because one of the learning goal is to asses how well students can master PyTorch.\n"
      ]
    },
    {
      "cell_type": "markdown",
      "metadata": {
        "id": "zcmZm7KAERxO"
      },
      "source": [
        "# Task 1. Create and implement MLP of your design to classify the EMNIST dataset\n"
      ]
    },
    {
      "cell_type": "code",
      "metadata": {
        "id": "A2LeGAypM1cs"
      },
      "source": [
        "import torch\n",
        "import torch.nn.functional as F\n",
        "import torch.nn as nn\n",
        "from torchvision import datasets\n",
        "from torchvision import transforms\n",
        "from torch.utils.data import DataLoader\n",
        "import numpy as np\n",
        "import matplotlib.pyplot as plt\n",
        "import pandas as pd\n",
        "import os\n",
        "from google.colab import files\n",
        "\n",
        "seed = 7\n",
        "torch.manual_seed(seed)\n",
        "torch.backends.cudnn.deterministic = True\n",
        "torch.backends.cudnn.benchmark = False\n",
        "np.random.seed(seed)"
      ],
      "execution_count": 7,
      "outputs": []
    },
    {
      "cell_type": "code",
      "metadata": {
        "colab": {
          "base_uri": "https://localhost:8080/"
        },
        "id": "JiiGUXkyWyjm",
        "outputId": "47932b40-8a36-41e3-f201-0088ace40414"
      },
      "source": [
        "!pip install pytorch-model-summary\n",
        "from pytorch_model_summary import summary"
      ],
      "execution_count": 8,
      "outputs": [
        {
          "output_type": "stream",
          "text": [
            "Collecting pytorch-model-summary\n",
            "  Downloading https://files.pythonhosted.org/packages/fe/45/01d67be55fe3683a9221ac956ba46d1ca32da7bf96029b8d1c7667b8a55c/pytorch_model_summary-0.1.2-py3-none-any.whl\n",
            "Requirement already satisfied: tqdm in /usr/local/lib/python3.7/dist-packages (from pytorch-model-summary) (4.41.1)\n",
            "Requirement already satisfied: torch in /usr/local/lib/python3.7/dist-packages (from pytorch-model-summary) (1.8.1+cu101)\n",
            "Requirement already satisfied: numpy in /usr/local/lib/python3.7/dist-packages (from pytorch-model-summary) (1.19.5)\n",
            "Requirement already satisfied: typing-extensions in /usr/local/lib/python3.7/dist-packages (from torch->pytorch-model-summary) (3.7.4.3)\n",
            "Installing collected packages: pytorch-model-summary\n",
            "Successfully installed pytorch-model-summary-0.1.2\n"
          ],
          "name": "stdout"
        }
      ]
    },
    {
      "cell_type": "code",
      "metadata": {
        "id": "IsMx1xr_9-oY",
        "colab": {
          "base_uri": "https://localhost:8080/",
          "height": 305,
          "referenced_widgets": [
            "242ab9538fdf4b988e0c8851224fed78",
            "7a6ee21a720945369298e97a34113c81",
            "4b54f8553edd41e08c2eee27a9ac302c",
            "4cd7779cc7594353a332cf3f87789925",
            "318068692d694494b1bc6d02c43f672b",
            "b1639e73115148328f62af193c5f542b",
            "5ab09f3cecb44d0ba79db48e4c944ca0",
            "7577c834139944d5bdde962b96c0c616"
          ]
        },
        "outputId": "8758b4c9-dbd4-4a54-bcda-2ce56ea896c0"
      },
      "source": [
        "transformCustom = transforms.Compose([\n",
        "                                transforms.ToTensor(), #this convert to tensor\n",
        "                                transforms.Lambda(lambda x:x.view(-1))  #this flatten 28*28 into a 784 vector for each image\n",
        "])\n",
        "\n",
        "\n",
        "train = datasets.EMNIST(root='.',train=True, split='bymerge', transform=transformCustom, download=True)\n",
        "test = datasets.EMNIST(root='.', train=False, split='bymerge', transform=transformCustom,download=True)"
      ],
      "execution_count": 9,
      "outputs": [
        {
          "output_type": "stream",
          "text": [
            "Downloading and extracting zip archive\n",
            "Downloading https://www.itl.nist.gov/iaui/vip/cs_links/EMNIST/gzip.zip to ./EMNIST/raw/emnist.zip\n"
          ],
          "name": "stdout"
        },
        {
          "output_type": "display_data",
          "data": {
            "application/vnd.jupyter.widget-view+json": {
              "model_id": "242ab9538fdf4b988e0c8851224fed78",
              "version_minor": 0,
              "version_major": 2
            },
            "text/plain": [
              "HBox(children=(FloatProgress(value=0.0, max=561753746.0), HTML(value='')))"
            ]
          },
          "metadata": {
            "tags": []
          }
        },
        {
          "output_type": "stream",
          "text": [
            "\n",
            "Extracting ./EMNIST/raw/emnist.zip to ./EMNIST/raw\n",
            "Processing byclass\n"
          ],
          "name": "stdout"
        },
        {
          "output_type": "stream",
          "text": [
            "/usr/local/lib/python3.7/dist-packages/torchvision/datasets/mnist.py:502: UserWarning: The given NumPy array is not writeable, and PyTorch does not support non-writeable tensors. This means you can write to the underlying (supposedly non-writeable) NumPy array using the tensor. You may want to copy the array to protect its data or make it writeable before converting it to a tensor. This type of warning will be suppressed for the rest of this program. (Triggered internally at  /pytorch/torch/csrc/utils/tensor_numpy.cpp:143.)\n",
            "  return torch.from_numpy(parsed.astype(m[2], copy=False)).view(*s)\n"
          ],
          "name": "stderr"
        },
        {
          "output_type": "stream",
          "text": [
            "Processing bymerge\n",
            "Processing balanced\n",
            "Processing letters\n",
            "Processing digits\n",
            "Processing mnist\n",
            "Done!\n"
          ],
          "name": "stdout"
        }
      ]
    },
    {
      "cell_type": "code",
      "metadata": {
        "colab": {
          "base_uri": "https://localhost:8080/"
        },
        "id": "coGr--M5Nk79",
        "outputId": "790720c0-826a-4e1e-dfa7-17bb60943514"
      },
      "source": [
        "total_class = train.classes\n",
        "print(\"total classes = \",len(total_class))\n",
        "print(total_class)"
      ],
      "execution_count": 10,
      "outputs": [
        {
          "output_type": "stream",
          "text": [
            "total classes =  47\n",
            "['0', '1', '2', '3', '4', '5', '6', '7', '8', '9', 'A', 'B', 'C', 'D', 'E', 'F', 'G', 'H', 'I', 'J', 'K', 'L', 'M', 'N', 'O', 'P', 'Q', 'R', 'S', 'T', 'U', 'V', 'W', 'X', 'Y', 'Z', 'a', 'b', 'd', 'e', 'f', 'g', 'h', 'n', 'q', 'r', 't']\n"
          ],
          "name": "stdout"
        }
      ]
    },
    {
      "cell_type": "code",
      "metadata": {
        "colab": {
          "base_uri": "https://localhost:8080/"
        },
        "id": "fkj-g6UG-1XH",
        "outputId": "db355811-fe1f-4d32-ebb0-ef486a2c3cae"
      },
      "source": [
        "#Set DataLoader\n",
        "batchSize = 128 \n",
        "\n",
        "print(\"Length :\")\n",
        "print(\"train = {},  test= {}\".format(len(train),len(test)))\n",
        "\n",
        "print(\"batches : \")\n",
        "train_loader = DataLoader(train, batch_size=batchSize,shuffle=True)\n",
        "test_loader = DataLoader(test,batch_size=batchSize, shuffle=False) # no need to shuffle test data\n",
        "print(\"train_loader = {},  test_loader = {}\".format(len(train_loader),len(test_loader)))"
      ],
      "execution_count": 11,
      "outputs": [
        {
          "output_type": "stream",
          "text": [
            "Length :\n",
            "train = 697932,  test= 116323\n",
            "batches : \n",
            "train_loader = 5453,  test_loader = 909\n"
          ],
          "name": "stdout"
        }
      ]
    },
    {
      "cell_type": "code",
      "metadata": {
        "colab": {
          "base_uri": "https://localhost:8080/"
        },
        "id": "-RT9IQIESOup",
        "outputId": "a3c1dd08-4c9d-433a-a59d-cbc041376955"
      },
      "source": [
        "#Get some train info \n",
        "print(train)\n",
        "print(train.data.shape)\n",
        "\n",
        "print(train.targets.shape)\n",
        "print(\"\\n\")\n",
        "\n",
        "#Get some test info \n",
        "print(test)\n",
        "print(test.data.shape)\n",
        "\n",
        "print(test.targets.shape)"
      ],
      "execution_count": null,
      "outputs": [
        {
          "output_type": "stream",
          "text": [
            "Dataset EMNIST\n",
            "    Number of datapoints: 697932\n",
            "    Root location: .\n",
            "    Split: Train\n",
            "    StandardTransform\n",
            "Transform: Compose(\n",
            "               ToTensor()\n",
            "               Lambda()\n",
            "           )\n",
            "torch.Size([697932, 28, 28])\n",
            "torch.Size([697932])\n",
            "\n",
            "\n",
            "Dataset EMNIST\n",
            "    Number of datapoints: 116323\n",
            "    Root location: .\n",
            "    Split: Test\n",
            "    StandardTransform\n",
            "Transform: Compose(\n",
            "               ToTensor()\n",
            "               Lambda()\n",
            "           )\n",
            "torch.Size([116323, 28, 28])\n",
            "torch.Size([116323])\n"
          ],
          "name": "stdout"
        }
      ]
    },
    {
      "cell_type": "markdown",
      "metadata": {
        "id": "GTZgYRBtGzb5"
      },
      "source": [
        "# Question 1"
      ]
    },
    {
      "cell_type": "markdown",
      "metadata": {
        "id": "vDvmk7PCusei"
      },
      "source": [
        "Q1: Is the dataset balanced? For both training and test dataset, print out the number of instances for each label (Sample output shown below. This is straightforward as we've done this before) and their percentage with meaningful labels. Which class/label is over/under represented?"
      ]
    },
    {
      "cell_type": "markdown",
      "metadata": {
        "id": "y4PRuDPZpoyP"
      },
      "source": [
        "## Q1 ANSWER\n",
        "- As shown below code and output, the train and test dataset is not balanced as the percentage show should be around 2.12% for every class as there are in total of 47 classes. \n",
        "- Above show some results:\n",
        "\n",
        "a) Assuming class that are over represented is class over or equal to 3%\n",
        "\n",
        "b) Assuming class that are under represented is class under or equal to 1%\n",
        "\n",
        "c) Other class is consider in the acceptable range"
      ]
    },
    {
      "cell_type": "markdown",
      "metadata": {
        "id": "8J7oUgi5GavR"
      },
      "source": [
        "TRAIN DATASET"
      ]
    },
    {
      "cell_type": "code",
      "metadata": {
        "colab": {
          "base_uri": "https://localhost:8080/"
        },
        "id": "5_753nayRmrI",
        "outputId": "39fe2396-fa34-4970-cd8c-61347edf4e83"
      },
      "source": [
        "# check instance and percentage of training dataset\n",
        "\n",
        "#check class idx mapping\n",
        "class_match = train.class_to_idx\n",
        "inv_match = {v: k for k, v in class_match.items()}\n",
        "print(\"class to idx \\n\",inv_match)\n",
        "\n",
        "#create empty dict to store value\n",
        "train_labels = train.targets\n",
        "trainDict = { label:0 for label in range(len(train.classes))}  \n",
        "print(\"\\ncreate empty train dict\\n\",trainDict)\n",
        "\n",
        "for label in train_labels:\n",
        "  # getClass = inv_match[label.item()] \n",
        "  trainDict[label.item()]+=1  \n",
        "\n",
        "\n",
        "print(\"--Number of instances for each classes--\")\n",
        "for key, n in trainDict.items():\n",
        "  print(\"Label \",key,\"(\", inv_match[key],\") :\",n)\n",
        "\n",
        "print(\"\\nCheck total labels, should tally with number of samples\")\n",
        "totalLabel = sum(trainDict.values())\n",
        "print(totalLabel)\n",
        "\n",
        "over = []\n",
        "under = []\n",
        "inrange = []\n",
        "print(\"\\n--Imbalance data check: Percentage of instances for each classes--\")\n",
        "for key, n in trainDict.items():\n",
        "  print(f'Label {key} ({inv_match[key]}) : {n/totalLabel*100:.2f}%')\n",
        "  if n/totalLabel*100<=1:\n",
        "    under.append(inv_match[key])\n",
        "  elif n/totalLabel*100>=3:\n",
        "    over.append(inv_match[key])\n",
        "  else:\n",
        "    inrange.append(inv_match[key])\n"
      ],
      "execution_count": null,
      "outputs": [
        {
          "output_type": "stream",
          "text": [
            "class to idx \n",
            " {0: '0', 1: '1', 2: '2', 3: '3', 4: '4', 5: '5', 6: '6', 7: '7', 8: '8', 9: '9', 10: 'A', 11: 'B', 12: 'C', 13: 'D', 14: 'E', 15: 'F', 16: 'G', 17: 'H', 18: 'I', 19: 'J', 20: 'K', 21: 'L', 22: 'M', 23: 'N', 24: 'O', 25: 'P', 26: 'Q', 27: 'R', 28: 'S', 29: 'T', 30: 'U', 31: 'V', 32: 'W', 33: 'X', 34: 'Y', 35: 'Z', 36: 'a', 37: 'b', 38: 'd', 39: 'e', 40: 'f', 41: 'g', 42: 'h', 43: 'n', 44: 'q', 45: 'r', 46: 't'}\n",
            "\n",
            "create empty train dict\n",
            " {0: 0, 1: 0, 2: 0, 3: 0, 4: 0, 5: 0, 6: 0, 7: 0, 8: 0, 9: 0, 10: 0, 11: 0, 12: 0, 13: 0, 14: 0, 15: 0, 16: 0, 17: 0, 18: 0, 19: 0, 20: 0, 21: 0, 22: 0, 23: 0, 24: 0, 25: 0, 26: 0, 27: 0, 28: 0, 29: 0, 30: 0, 31: 0, 32: 0, 33: 0, 34: 0, 35: 0, 36: 0, 37: 0, 38: 0, 39: 0, 40: 0, 41: 0, 42: 0, 43: 0, 44: 0, 45: 0, 46: 0}\n",
            "--Number of instances for each classes--\n",
            "Label  0 ( 0 ) : 34618\n",
            "Label  1 ( 1 ) : 38304\n",
            "Label  2 ( 2 ) : 34307\n",
            "Label  3 ( 3 ) : 35285\n",
            "Label  4 ( 4 ) : 33656\n",
            "Label  5 ( 5 ) : 31280\n",
            "Label  6 ( 6 ) : 34150\n",
            "Label  7 ( 7 ) : 36020\n",
            "Label  8 ( 8 ) : 33924\n",
            "Label  9 ( 9 ) : 33882\n",
            "Label  10 ( A ) : 6411\n",
            "Label  11 ( B ) : 3874\n",
            "Label  12 ( C ) : 12963\n",
            "Label  13 ( D ) : 4606\n",
            "Label  14 ( E ) : 4925\n",
            "Label  15 ( F ) : 9098\n",
            "Label  16 ( G ) : 2534\n",
            "Label  17 ( H ) : 3097\n",
            "Label  18 ( I ) : 14733\n",
            "Label  19 ( J ) : 5689\n",
            "Label  20 ( K ) : 4998\n",
            "Label  21 ( L ) : 20381\n",
            "Label  22 ( M ) : 11612\n",
            "Label  23 ( N ) : 8237\n",
            "Label  24 ( O ) : 27664\n",
            "Label  25 ( P ) : 10748\n",
            "Label  26 ( Q ) : 2603\n",
            "Label  27 ( R ) : 5047\n",
            "Label  28 ( S ) : 23509\n",
            "Label  29 ( T ) : 9766\n",
            "Label  30 ( U ) : 15388\n",
            "Label  31 ( V ) : 7588\n",
            "Label  32 ( W ) : 7403\n",
            "Label  33 ( X ) : 5598\n",
            "Label  34 ( Y ) : 7092\n",
            "Label  35 ( Z ) : 5416\n",
            "Label  36 ( a ) : 10009\n",
            "Label  37 ( b ) : 5080\n",
            "Label  38 ( d ) : 10152\n",
            "Label  39 ( e ) : 24657\n",
            "Label  40 ( f ) : 2535\n",
            "Label  41 ( g ) : 3693\n",
            "Label  42 ( h ) : 8682\n",
            "Label  43 ( n ) : 11444\n",
            "Label  44 ( q ) : 2966\n",
            "Label  45 ( r ) : 14060\n",
            "Label  46 ( t ) : 18248\n",
            "\n",
            "Check total labels, should tally with number of samples\n",
            "697932\n",
            "\n",
            "--Imbalance data check: Percentage of instances for each classes--\n",
            "Label 0 (0) : 4.96%\n",
            "Label 1 (1) : 5.49%\n",
            "Label 2 (2) : 4.92%\n",
            "Label 3 (3) : 5.06%\n",
            "Label 4 (4) : 4.82%\n",
            "Label 5 (5) : 4.48%\n",
            "Label 6 (6) : 4.89%\n",
            "Label 7 (7) : 5.16%\n",
            "Label 8 (8) : 4.86%\n",
            "Label 9 (9) : 4.85%\n",
            "Label 10 (A) : 0.92%\n",
            "Label 11 (B) : 0.56%\n",
            "Label 12 (C) : 1.86%\n",
            "Label 13 (D) : 0.66%\n",
            "Label 14 (E) : 0.71%\n",
            "Label 15 (F) : 1.30%\n",
            "Label 16 (G) : 0.36%\n",
            "Label 17 (H) : 0.44%\n",
            "Label 18 (I) : 2.11%\n",
            "Label 19 (J) : 0.82%\n",
            "Label 20 (K) : 0.72%\n",
            "Label 21 (L) : 2.92%\n",
            "Label 22 (M) : 1.66%\n",
            "Label 23 (N) : 1.18%\n",
            "Label 24 (O) : 3.96%\n",
            "Label 25 (P) : 1.54%\n",
            "Label 26 (Q) : 0.37%\n",
            "Label 27 (R) : 0.72%\n",
            "Label 28 (S) : 3.37%\n",
            "Label 29 (T) : 1.40%\n",
            "Label 30 (U) : 2.20%\n",
            "Label 31 (V) : 1.09%\n",
            "Label 32 (W) : 1.06%\n",
            "Label 33 (X) : 0.80%\n",
            "Label 34 (Y) : 1.02%\n",
            "Label 35 (Z) : 0.78%\n",
            "Label 36 (a) : 1.43%\n",
            "Label 37 (b) : 0.73%\n",
            "Label 38 (d) : 1.45%\n",
            "Label 39 (e) : 3.53%\n",
            "Label 40 (f) : 0.36%\n",
            "Label 41 (g) : 0.53%\n",
            "Label 42 (h) : 1.24%\n",
            "Label 43 (n) : 1.64%\n",
            "Label 44 (q) : 0.42%\n",
            "Label 45 (r) : 2.01%\n",
            "Label 46 (t) : 2.61%\n"
          ],
          "name": "stdout"
        }
      ]
    },
    {
      "cell_type": "code",
      "metadata": {
        "colab": {
          "base_uri": "https://localhost:8080/"
        },
        "id": "R-qL4ENYqilo",
        "outputId": "a061dfea-329a-48be-e4c7-d0502e171f13"
      },
      "source": [
        "#Train class\n",
        "print(\"over represented class (>=3%) = \",over)\n",
        "print(\"under represented class (<=1%) = \",under)\n",
        "print(\"acceptable class= \",inrange)"
      ],
      "execution_count": null,
      "outputs": [
        {
          "output_type": "stream",
          "text": [
            "over represented class (>=3%) =  ['0', '1', '2', '3', '4', '5', '6', '7', '8', '9', 'O', 'S', 'e']\n",
            "under represented class (<=1%) =  ['A', 'B', 'D', 'E', 'G', 'H', 'J', 'K', 'Q', 'R', 'X', 'Z', 'b', 'f', 'g', 'q']\n",
            "acceptable class=  ['C', 'F', 'I', 'L', 'M', 'N', 'P', 'T', 'U', 'V', 'W', 'Y', 'a', 'd', 'h', 'n', 'r', 't']\n"
          ],
          "name": "stdout"
        }
      ]
    },
    {
      "cell_type": "markdown",
      "metadata": {
        "id": "-PqOAxZ7GeOX"
      },
      "source": [
        "TEST DATASET"
      ]
    },
    {
      "cell_type": "code",
      "metadata": {
        "colab": {
          "base_uri": "https://localhost:8080/"
        },
        "id": "g9sFpgxGkuJQ",
        "outputId": "3b952e9c-6904-4ca4-8ec3-114e5689fd08"
      },
      "source": [
        "# check instance and percentage of testing dataset\n",
        "\n",
        "#check class idx mapping\n",
        "class_match = test.class_to_idx\n",
        "inv_match = {v: k for k, v in class_match.items()}\n",
        "print(\"class to idx \\n\",inv_match)\n",
        "\n",
        "test_labels = test.targets\n",
        "testDict = { label:0 for label in range(len(test.classes))}  \n",
        "print(\"\\ncreate empty test dict\\n\",testDict)\n",
        "\n",
        "for label in test_labels:\n",
        "  # getClass = inv_match[label.item()] \n",
        "  testDict[label.item()]+=1  \n",
        "\n",
        "\n",
        "print(\"--Number of instances for each classes--\")\n",
        "for key, n in testDict.items():\n",
        "  print(\"Label \",key,\"(\", inv_match[key],\") :\",n)\n",
        "\n",
        "print(\"\\nCheck total labels, should tally with number of samples\")\n",
        "totalLabel = sum(testDict.values())\n",
        "print(totalLabel)\n",
        "\n",
        "over = []\n",
        "under = []\n",
        "inrange = []\n",
        "print(\"\\n--Imbalance data check: Percentage of instances for each classes--\")\n",
        "for key, n in testDict.items():\n",
        "  print(f'Label {key} ({inv_match[key]}) : {n/totalLabel*100:.2f}%')\n",
        "  \n",
        "  if n/totalLabel*100<=1:\n",
        "    under.append(inv_match[key])\n",
        "  elif n/totalLabel*100>=3:\n",
        "    over.append(inv_match[key])\n",
        "  else:\n",
        "    inrange.append(inv_match[key])"
      ],
      "execution_count": null,
      "outputs": [
        {
          "output_type": "stream",
          "text": [
            "class to idx \n",
            " {0: '0', 1: '1', 2: '2', 3: '3', 4: '4', 5: '5', 6: '6', 7: '7', 8: '8', 9: '9', 10: 'A', 11: 'B', 12: 'C', 13: 'D', 14: 'E', 15: 'F', 16: 'G', 17: 'H', 18: 'I', 19: 'J', 20: 'K', 21: 'L', 22: 'M', 23: 'N', 24: 'O', 25: 'P', 26: 'Q', 27: 'R', 28: 'S', 29: 'T', 30: 'U', 31: 'V', 32: 'W', 33: 'X', 34: 'Y', 35: 'Z', 36: 'a', 37: 'b', 38: 'd', 39: 'e', 40: 'f', 41: 'g', 42: 'h', 43: 'n', 44: 'q', 45: 'r', 46: 't'}\n",
            "\n",
            "create empty test dict\n",
            " {0: 0, 1: 0, 2: 0, 3: 0, 4: 0, 5: 0, 6: 0, 7: 0, 8: 0, 9: 0, 10: 0, 11: 0, 12: 0, 13: 0, 14: 0, 15: 0, 16: 0, 17: 0, 18: 0, 19: 0, 20: 0, 21: 0, 22: 0, 23: 0, 24: 0, 25: 0, 26: 0, 27: 0, 28: 0, 29: 0, 30: 0, 31: 0, 32: 0, 33: 0, 34: 0, 35: 0, 36: 0, 37: 0, 38: 0, 39: 0, 40: 0, 41: 0, 42: 0, 43: 0, 44: 0, 45: 0, 46: 0}\n",
            "--Number of instances for each classes--\n",
            "Label  0 ( 0 ) : 5745\n",
            "Label  1 ( 1 ) : 6400\n",
            "Label  2 ( 2 ) : 5765\n",
            "Label  3 ( 3 ) : 5827\n",
            "Label  4 ( 4 ) : 5498\n",
            "Label  5 ( 5 ) : 5326\n",
            "Label  6 ( 6 ) : 5787\n",
            "Label  7 ( 7 ) : 5873\n",
            "Label  8 ( 8 ) : 5655\n",
            "Label  9 ( 9 ) : 5651\n",
            "Label  10 ( A ) : 1058\n",
            "Label  11 ( B ) : 652\n",
            "Label  12 ( C ) : 2156\n",
            "Label  13 ( D ) : 735\n",
            "Label  14 ( E ) : 860\n",
            "Label  15 ( F ) : 1524\n",
            "Label  16 ( G ) : 430\n",
            "Label  17 ( H ) : 576\n",
            "Label  18 ( I ) : 2413\n",
            "Label  19 ( J ) : 912\n",
            "Label  20 ( K ) : 809\n",
            "Label  21 ( L ) : 3358\n",
            "Label  22 ( M ) : 1984\n",
            "Label  23 ( N ) : 1351\n",
            "Label  24 ( O ) : 4690\n",
            "Label  25 ( P ) : 1812\n",
            "Label  26 ( Q ) : 415\n",
            "Label  27 ( R ) : 835\n",
            "Label  28 ( S ) : 3899\n",
            "Label  29 ( T ) : 1630\n",
            "Label  30 ( U ) : 2528\n",
            "Label  31 ( V ) : 1223\n",
            "Label  32 ( W ) : 1262\n",
            "Label  33 ( X ) : 897\n",
            "Label  34 ( Y ) : 1195\n",
            "Label  35 ( Z ) : 925\n",
            "Label  36 ( a ) : 1668\n",
            "Label  37 ( b ) : 932\n",
            "Label  38 ( d ) : 1708\n",
            "Label  39 ( e ) : 4066\n",
            "Label  40 ( f ) : 426\n",
            "Label  41 ( g ) : 583\n",
            "Label  42 ( h ) : 1535\n",
            "Label  43 ( n ) : 1872\n",
            "Label  44 ( q ) : 533\n",
            "Label  45 ( r ) : 2365\n",
            "Label  46 ( t ) : 2979\n",
            "\n",
            "Check total labels, should tally with number of samples\n",
            "116323\n",
            "\n",
            "--Imbalance data check: Percentage of instances for each classes--\n",
            "Label 0 (0) : 4.94%\n",
            "Label 1 (1) : 5.50%\n",
            "Label 2 (2) : 4.96%\n",
            "Label 3 (3) : 5.01%\n",
            "Label 4 (4) : 4.73%\n",
            "Label 5 (5) : 4.58%\n",
            "Label 6 (6) : 4.97%\n",
            "Label 7 (7) : 5.05%\n",
            "Label 8 (8) : 4.86%\n",
            "Label 9 (9) : 4.86%\n",
            "Label 10 (A) : 0.91%\n",
            "Label 11 (B) : 0.56%\n",
            "Label 12 (C) : 1.85%\n",
            "Label 13 (D) : 0.63%\n",
            "Label 14 (E) : 0.74%\n",
            "Label 15 (F) : 1.31%\n",
            "Label 16 (G) : 0.37%\n",
            "Label 17 (H) : 0.50%\n",
            "Label 18 (I) : 2.07%\n",
            "Label 19 (J) : 0.78%\n",
            "Label 20 (K) : 0.70%\n",
            "Label 21 (L) : 2.89%\n",
            "Label 22 (M) : 1.71%\n",
            "Label 23 (N) : 1.16%\n",
            "Label 24 (O) : 4.03%\n",
            "Label 25 (P) : 1.56%\n",
            "Label 26 (Q) : 0.36%\n",
            "Label 27 (R) : 0.72%\n",
            "Label 28 (S) : 3.35%\n",
            "Label 29 (T) : 1.40%\n",
            "Label 30 (U) : 2.17%\n",
            "Label 31 (V) : 1.05%\n",
            "Label 32 (W) : 1.08%\n",
            "Label 33 (X) : 0.77%\n",
            "Label 34 (Y) : 1.03%\n",
            "Label 35 (Z) : 0.80%\n",
            "Label 36 (a) : 1.43%\n",
            "Label 37 (b) : 0.80%\n",
            "Label 38 (d) : 1.47%\n",
            "Label 39 (e) : 3.50%\n",
            "Label 40 (f) : 0.37%\n",
            "Label 41 (g) : 0.50%\n",
            "Label 42 (h) : 1.32%\n",
            "Label 43 (n) : 1.61%\n",
            "Label 44 (q) : 0.46%\n",
            "Label 45 (r) : 2.03%\n",
            "Label 46 (t) : 2.56%\n"
          ],
          "name": "stdout"
        }
      ]
    },
    {
      "cell_type": "code",
      "metadata": {
        "colab": {
          "base_uri": "https://localhost:8080/"
        },
        "id": "Ea69P-oYuF-z",
        "outputId": "bb135f5c-5eed-474b-bf47-7e9388192e7b"
      },
      "source": [
        "# Test class\n",
        "print(\"over represented class (>=3%) = \",over)\n",
        "print(\"under represented class (<=1%) = \",under)\n",
        "print(\"acceptable class= \",inrange)"
      ],
      "execution_count": null,
      "outputs": [
        {
          "output_type": "stream",
          "text": [
            "over represented class (>=3%) =  ['0', '1', '2', '3', '4', '5', '6', '7', '8', '9', 'O', 'S', 'e']\n",
            "under represented class (<=1%) =  ['A', 'B', 'D', 'E', 'G', 'H', 'J', 'K', 'Q', 'R', 'X', 'Z', 'b', 'f', 'g', 'q']\n",
            "acceptable class=  ['C', 'F', 'I', 'L', 'M', 'N', 'P', 'T', 'U', 'V', 'W', 'Y', 'a', 'd', 'h', 'n', 'r', 't']\n"
          ],
          "name": "stdout"
        }
      ]
    },
    {
      "cell_type": "markdown",
      "metadata": {
        "id": "IIlXhwpuG5PM"
      },
      "source": [
        "# Question 2"
      ]
    },
    {
      "cell_type": "markdown",
      "metadata": {
        "id": "Khmdjg5cGiFx"
      },
      "source": [
        "Q2: How many learnable parameters does your model have?\n",
        "\n"
      ]
    },
    {
      "cell_type": "code",
      "metadata": {
        "id": "M7X-Epn4KWcW"
      },
      "source": [
        "class MLP(nn.Module):\n",
        "  def __init__(self,input_size, hidden_size,num_classes):\n",
        "    super(MLP,self).__init__()\n",
        "\n",
        "    self.layer1 = nn.Linear(input_size,hidden_size) \n",
        "    self.layer2 = nn.Linear(hidden_size,num_classes)\n",
        "\n",
        "  def forward(self,x): \n",
        "\n",
        "    out = self.layer1(x)\n",
        "    #out = F.sigmoid(out) \n",
        "    out = torch.sigmoid(out)\n",
        "    out = self.layer2(out)\n",
        " \n",
        "    if not self.training:\n",
        "      out = F.softmax(out,dim=1)\n",
        "    return out"
      ],
      "execution_count": null,
      "outputs": []
    },
    {
      "cell_type": "markdown",
      "metadata": {
        "id": "LCZAka3MHCs7"
      },
      "source": [
        "## Q2 ANSWER\n",
        "- For MLP(784, 512, 47), i will have 426031 params shows as below"
      ]
    },
    {
      "cell_type": "code",
      "metadata": {
        "colab": {
          "base_uri": "https://localhost:8080/"
        },
        "id": "E613PvPSW6yg",
        "outputId": "eea852c1-6f8f-4d2e-9674-803c58a15019"
      },
      "source": [
        "pytorch_total_learnable_params = sum(p.numel() for p in model.parameters() if p.requires_grad)\n",
        "print(f'The number of learnable parameters: {pytorch_total_learnable_params}')\n",
        "\n",
        "print(summary(MLP(784, 512, 47), torch.zeros((1, 784)), show_input=False))"
      ],
      "execution_count": null,
      "outputs": [
        {
          "output_type": "stream",
          "text": [
            "The number of learnable parameters: 426031\n",
            "-----------------------------------------------------------------------\n",
            "      Layer (type)        Output Shape         Param #     Tr. Param #\n",
            "=======================================================================\n",
            "          Linear-1            [1, 512]         401,920         401,920\n",
            "          Linear-2             [1, 47]          24,111          24,111\n",
            "=======================================================================\n",
            "Total params: 426,031\n",
            "Trainable params: 426,031\n",
            "Non-trainable params: 0\n",
            "-----------------------------------------------------------------------\n"
          ],
          "name": "stdout"
        }
      ]
    },
    {
      "cell_type": "markdown",
      "metadata": {
        "id": "hfvJ4k7tHVEU"
      },
      "source": [
        "# Question 3"
      ]
    },
    {
      "cell_type": "markdown",
      "metadata": {
        "id": "C8f-pbhoHpU6"
      },
      "source": [
        "Q3: How does the training loss look like? Visualize both loss by epochs and minibatches. Sample output shown as below (training with 10 epochs, batch size 128)\n",
        "\n"
      ]
    },
    {
      "cell_type": "markdown",
      "metadata": {
        "id": "6WULry3VHui_"
      },
      "source": [
        "## Q3-a ANSWER"
      ]
    },
    {
      "cell_type": "code",
      "metadata": {
        "id": "IPaF3PtWTimG"
      },
      "source": [
        "#train\n",
        "def train_model(model,train_loader):\n",
        "  loss_fn = nn.CrossEntropyLoss() \n",
        "  opt = torch.optim.Adam(model.parameters()) #optimizer, optimization strategy-to escape the local minima and to converge quickly\n",
        "\n",
        "  epochSize = 10 \n",
        "\n",
        "  epochList = []\n",
        "  lossList = []\n",
        "  accuracyList = []\n",
        "  total_train = len(train)\n",
        "  trainCorrect = []\n",
        "\n",
        "  batch = 0\n",
        "  batchList = []\n",
        "  batchLoss = []\n",
        "\n",
        "  for epoch in range(epochSize):\n",
        "    epochList.append(epoch)\n",
        "    model.train() #training mode\n",
        "    loss = 0\n",
        "    correct = 0\n",
        "\n",
        "    for input_batch, target_batch in train_loader:\n",
        "      batchList.append(batch)\n",
        "\n",
        "      opt.zero_grad() #zero the gradients\n",
        "      predict_batch = model(input_batch) #fwd\n",
        "\n",
        "      loss_batch = loss_fn(predict_batch,target_batch) #loss\n",
        "      loss_batch.backward() #backward\n",
        "\n",
        "      opt.step()#optimize i.e update weights\n",
        "      \n",
        "      batchLoss.append(loss_batch.item())\n",
        "\n",
        "      loss += loss_batch.item()\n",
        "      _, predicted = torch.max(predict_batch.data, 1)\n",
        "\n",
        "      correct += ((predicted == target_batch).sum().item())\n",
        "      batch += 1\n",
        "\n",
        "    lossList.append(loss)\n",
        "    trainCorrect.append(correct)\n",
        "\n",
        "    accuracy = correct/total_train*100\n",
        "    accuracyList.append(accuracy)\n",
        "\n",
        "    print(f'Epoch: {epoch+1}  loss: {loss} accuracy: {accuracy}')\n",
        "  return epochList, lossList, batchList, batchLoss,accuracyList \n"
      ],
      "execution_count": 7,
      "outputs": []
    },
    {
      "cell_type": "code",
      "metadata": {
        "colab": {
          "base_uri": "https://localhost:8080/"
        },
        "id": "WudP4QVgK8Vk",
        "outputId": "fb094c73-2fa4-4983-da5d-f26f0768ad1d"
      },
      "source": [
        "\n",
        "#initialize train model\n",
        "model = MLP(784, 512, 47) #input_size,hidden_size,num_classes\n",
        "#get results\n",
        "epochList, lossList, batchList, batchLoss,accuracy_list = train_model(model,train_loader)"
      ],
      "execution_count": null,
      "outputs": [
        {
          "output_type": "stream",
          "text": [
            "Epoch: 1  loss: 3656.216137290001 accuracy: 79.89417307130208\n",
            "Epoch: 2  loss: 2163.275180503726 accuracy: 86.63594734157482\n",
            "Epoch: 3  loss: 1908.0544761270285 accuracy: 87.86400394307755\n",
            "Epoch: 4  loss: 1780.161602050066 accuracy: 88.45675509935064\n",
            "Epoch: 5  loss: 1692.8039425984025 accuracy: 88.91854793876767\n",
            "Epoch: 6  loss: 1630.1587817668915 accuracy: 89.18404658333476\n",
            "Epoch: 7  loss: 1575.6555287018418 accuracy: 89.48006396038582\n",
            "Epoch: 8  loss: 1534.9349963068962 accuracy: 89.67535519219638\n",
            "Epoch: 9  loss: 1495.292030788958 accuracy: 89.87723732397998\n",
            "Epoch: 10  loss: 1464.6712012141943 accuracy: 90.02381320816355\n"
          ],
          "name": "stdout"
        }
      ]
    },
    {
      "cell_type": "code",
      "metadata": {
        "colab": {
          "base_uri": "https://localhost:8080/",
          "height": 17
        },
        "id": "v7JNNNXj4UD7",
        "outputId": "05195874-2979-469c-fdec-de6c5749a42c"
      },
      "source": [
        "#save and download model \n",
        "torch.save(model.state_dict(), \"./model.weights\")\n",
        "files.download('model.weights')"
      ],
      "execution_count": null,
      "outputs": [
        {
          "output_type": "display_data",
          "data": {
            "application/javascript": [
              "\n",
              "    async function download(id, filename, size) {\n",
              "      if (!google.colab.kernel.accessAllowed) {\n",
              "        return;\n",
              "      }\n",
              "      const div = document.createElement('div');\n",
              "      const label = document.createElement('label');\n",
              "      label.textContent = `Downloading \"${filename}\": `;\n",
              "      div.appendChild(label);\n",
              "      const progress = document.createElement('progress');\n",
              "      progress.max = size;\n",
              "      div.appendChild(progress);\n",
              "      document.body.appendChild(div);\n",
              "\n",
              "      const buffers = [];\n",
              "      let downloaded = 0;\n",
              "\n",
              "      const channel = await google.colab.kernel.comms.open(id);\n",
              "      // Send a message to notify the kernel that we're ready.\n",
              "      channel.send({})\n",
              "\n",
              "      for await (const message of channel.messages) {\n",
              "        // Send a message to notify the kernel that we're ready.\n",
              "        channel.send({})\n",
              "        if (message.buffers) {\n",
              "          for (const buffer of message.buffers) {\n",
              "            buffers.push(buffer);\n",
              "            downloaded += buffer.byteLength;\n",
              "            progress.value = downloaded;\n",
              "          }\n",
              "        }\n",
              "      }\n",
              "      const blob = new Blob(buffers, {type: 'application/binary'});\n",
              "      const a = document.createElement('a');\n",
              "      a.href = window.URL.createObjectURL(blob);\n",
              "      a.download = filename;\n",
              "      div.appendChild(a);\n",
              "      a.click();\n",
              "      div.remove();\n",
              "    }\n",
              "  "
            ],
            "text/plain": [
              "<IPython.core.display.Javascript object>"
            ]
          },
          "metadata": {
            "tags": []
          }
        },
        {
          "output_type": "display_data",
          "data": {
            "application/javascript": [
              "download(\"download_247cbde1-20bb-4bc1-a1dd-312a571c4866\", \"model.weights\", 1705875)"
            ],
            "text/plain": [
              "<IPython.core.display.Javascript object>"
            ]
          },
          "metadata": {
            "tags": []
          }
        }
      ]
    },
    {
      "cell_type": "code",
      "metadata": {
        "colab": {
          "base_uri": "https://localhost:8080/",
          "height": 541
        },
        "id": "V6pabtWqJrLA",
        "outputId": "fb109416-dc3f-4844-ed8c-62ea9d1e096d"
      },
      "source": [
        "# Plot figure \n",
        "# cross entropy vs epoch\n",
        "plt.figure(0)\n",
        "plt.plot(epochList, lossList)\n",
        "plt.xlabel(\"Epoch\")\n",
        "plt.ylabel(\"Cross Entropy\")\n",
        "\n",
        "plt.savefig(\"./epoch_cross_entropy.jpg\")\n",
        "files.download('epoch_cross_entropy.jpg')\n",
        "\n",
        "# cross entropy vs minibatches\n",
        "plt.figure(1)\n",
        "plt.plot(batchList, batchLoss)\n",
        "plt.xlabel(\"Minibatches\")\n",
        "plt.ylabel(\"Cross Entropy\")\n",
        "\n",
        "\n",
        "plt.savefig(\"./minibatches_cross_entropy.jpg\")\n",
        "files.download('minibatches_cross_entropy.jpg')"
      ],
      "execution_count": null,
      "outputs": [
        {
          "output_type": "display_data",
          "data": {
            "application/javascript": [
              "\n",
              "    async function download(id, filename, size) {\n",
              "      if (!google.colab.kernel.accessAllowed) {\n",
              "        return;\n",
              "      }\n",
              "      const div = document.createElement('div');\n",
              "      const label = document.createElement('label');\n",
              "      label.textContent = `Downloading \"${filename}\": `;\n",
              "      div.appendChild(label);\n",
              "      const progress = document.createElement('progress');\n",
              "      progress.max = size;\n",
              "      div.appendChild(progress);\n",
              "      document.body.appendChild(div);\n",
              "\n",
              "      const buffers = [];\n",
              "      let downloaded = 0;\n",
              "\n",
              "      const channel = await google.colab.kernel.comms.open(id);\n",
              "      // Send a message to notify the kernel that we're ready.\n",
              "      channel.send({})\n",
              "\n",
              "      for await (const message of channel.messages) {\n",
              "        // Send a message to notify the kernel that we're ready.\n",
              "        channel.send({})\n",
              "        if (message.buffers) {\n",
              "          for (const buffer of message.buffers) {\n",
              "            buffers.push(buffer);\n",
              "            downloaded += buffer.byteLength;\n",
              "            progress.value = downloaded;\n",
              "          }\n",
              "        }\n",
              "      }\n",
              "      const blob = new Blob(buffers, {type: 'application/binary'});\n",
              "      const a = document.createElement('a');\n",
              "      a.href = window.URL.createObjectURL(blob);\n",
              "      a.download = filename;\n",
              "      div.appendChild(a);\n",
              "      a.click();\n",
              "      div.remove();\n",
              "    }\n",
              "  "
            ],
            "text/plain": [
              "<IPython.core.display.Javascript object>"
            ]
          },
          "metadata": {
            "tags": []
          }
        },
        {
          "output_type": "display_data",
          "data": {
            "application/javascript": [
              "download(\"download_9394b022-128a-4dc5-bd7b-a798dfdcc7bd\", \"epoch_cross_entropy.jpg\", 14067)"
            ],
            "text/plain": [
              "<IPython.core.display.Javascript object>"
            ]
          },
          "metadata": {
            "tags": []
          }
        },
        {
          "output_type": "display_data",
          "data": {
            "application/javascript": [
              "\n",
              "    async function download(id, filename, size) {\n",
              "      if (!google.colab.kernel.accessAllowed) {\n",
              "        return;\n",
              "      }\n",
              "      const div = document.createElement('div');\n",
              "      const label = document.createElement('label');\n",
              "      label.textContent = `Downloading \"${filename}\": `;\n",
              "      div.appendChild(label);\n",
              "      const progress = document.createElement('progress');\n",
              "      progress.max = size;\n",
              "      div.appendChild(progress);\n",
              "      document.body.appendChild(div);\n",
              "\n",
              "      const buffers = [];\n",
              "      let downloaded = 0;\n",
              "\n",
              "      const channel = await google.colab.kernel.comms.open(id);\n",
              "      // Send a message to notify the kernel that we're ready.\n",
              "      channel.send({})\n",
              "\n",
              "      for await (const message of channel.messages) {\n",
              "        // Send a message to notify the kernel that we're ready.\n",
              "        channel.send({})\n",
              "        if (message.buffers) {\n",
              "          for (const buffer of message.buffers) {\n",
              "            buffers.push(buffer);\n",
              "            downloaded += buffer.byteLength;\n",
              "            progress.value = downloaded;\n",
              "          }\n",
              "        }\n",
              "      }\n",
              "      const blob = new Blob(buffers, {type: 'application/binary'});\n",
              "      const a = document.createElement('a');\n",
              "      a.href = window.URL.createObjectURL(blob);\n",
              "      a.download = filename;\n",
              "      div.appendChild(a);\n",
              "      a.click();\n",
              "      div.remove();\n",
              "    }\n",
              "  "
            ],
            "text/plain": [
              "<IPython.core.display.Javascript object>"
            ]
          },
          "metadata": {
            "tags": []
          }
        },
        {
          "output_type": "display_data",
          "data": {
            "application/javascript": [
              "download(\"download_ef1b45ea-86b4-4628-b6a0-1d928732850c\", \"minibatches_cross_entropy.jpg\", 21108)"
            ],
            "text/plain": [
              "<IPython.core.display.Javascript object>"
            ]
          },
          "metadata": {
            "tags": []
          }
        },
        {
          "output_type": "display_data",
          "data": {
            "image/png": "[encoded data removed]",
            "text/plain": [
              "<Figure size 432x288 with 1 Axes>"
            ]
          },
          "metadata": {
            "tags": []
          }
        },
        {
          "output_type": "display_data",
          "data": {
            "image/png": "[encoded data removed]",
            "text/plain": [
              "<Figure size 432x288 with 1 Axes>"
            ]
          },
          "metadata": {
            "tags": []
          }
        }
      ]
    },
    {
      "cell_type": "code",
      "metadata": {
        "id": "MLgmPfNjTmju"
      },
      "source": [
        "def test_model(model,test_loader):\n",
        "  model.eval() # sets the model in evaluation mode \n",
        "  loss_fn = nn.CrossEntropyLoss() \n",
        "  total_test = len(test)\n",
        "  testLoss = 0\n",
        "  testCorrect = 0\n",
        "  with torch.no_grad():\n",
        "    for input_batch, target_batch in test_loader:\n",
        "      output = model(input_batch)\n",
        "      loss_batch = loss_fn(output,target_batch) #loss\n",
        "      testLoss += loss_batch.item()\n",
        "      _, predicted = torch.max(output.data, 1)\n",
        "      testCorrect += ((predicted == target_batch).sum().item())\n",
        "\n",
        "  testAccuracy = testCorrect/total_test*100\n",
        "  return testAccuracy,testLoss\n"
      ],
      "execution_count": 8,
      "outputs": []
    },
    {
      "cell_type": "code",
      "metadata": {
        "id": "G_HGsn1vK_Df"
      },
      "source": [
        "testAccuracy,testError = test_model(model,test_loader)"
      ],
      "execution_count": null,
      "outputs": []
    },
    {
      "cell_type": "markdown",
      "metadata": {
        "id": "zj_OmiBeJ4Yr"
      },
      "source": [
        "Q3: What is the training and test accuracy? Sample output shown as below\n"
      ]
    },
    {
      "cell_type": "markdown",
      "metadata": {
        "id": "BowGnGT6J7VF"
      },
      "source": [
        "## Q3-b ANSWER"
      ]
    },
    {
      "cell_type": "code",
      "metadata": {
        "colab": {
          "base_uri": "https://localhost:8080/"
        },
        "id": "DxY36cUYM9CV",
        "outputId": "655b9e8b-c0c4-4bcd-a76f-c031819bdf73"
      },
      "source": [
        "total_train = len(train)\n",
        "total_test = len(test)\n",
        "print(\"Training :\")\n",
        "print('number of train data = ',total_train)\n",
        "print(f'number of wrongly predicted label = {int((100 - accuracy_list[-1])*total_train/100)}')\n",
        "print(f'train accuracy = {round(accuracy_list[-1],2)} % ')\n",
        "\n",
        "print(\"\\nTesting :\")\n",
        "print('number of test data = ',total_test)\n",
        "print(f'number of wrongly predicted label = {int((100 - testAccuracy)*total_test/100)} ')\n",
        "print(f'test accuracy = {round(testAccuracy,2)} %')"
      ],
      "execution_count": null,
      "outputs": [
        {
          "output_type": "stream",
          "text": [
            "Training :\n",
            "number of train data =  697932\n",
            "number of wrongly predicted label = 69627\n",
            "train accuracy = 90.02 % \n",
            "\n",
            "Testing :\n",
            "number of test data =  116323\n",
            "number of wrongly predicted label = 13583 \n",
            "test accuracy = 88.32 %\n"
          ],
          "name": "stdout"
        }
      ]
    },
    {
      "cell_type": "markdown",
      "metadata": {
        "id": "fsrdGFQnxGcr"
      },
      "source": [
        "# Task 2. Unsure predictions\n"
      ]
    },
    {
      "cell_type": "markdown",
      "metadata": {
        "id": "cLR2Wu3GK3N9"
      },
      "source": [
        "# Question 1\n",
        "Q1: If we take our trained model and use the training data for prediction, for each label, how many times is the prediction unsure? Which label has the highest 'level of unsure'? Comment on your results"
      ]
    },
    {
      "cell_type": "code",
      "metadata": {
        "colab": {
          "resources": {
            "http://localhost:8080/nbextensions/google.colab/files.js": {
              "data": "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",
              "headers": [
                [
                  "content-type",
                  "application/javascript"
                ]
              ],
              "ok": true,
              "status": 200,
              "status_text": ""
            }
          },
          "base_uri": "https://localhost:8080/",
          "height": 140
        },
        "id": "fk9YwpLkUsaP",
        "outputId": "4b1637c5-0525-4bd3-94d4-2afbc31df2bb"
      },
      "source": [
        "uploaded = files.upload() #select the saved model.weights\n",
        "# PyTorch doesn't save the model structure by default.So you need to copy paste your model class, build the model and load the weights\n",
        "# build the model and load state\n",
        "model = MLP(784, 512, 47)\n",
        "model.load_state_dict(torch.load('model.weights'))\n",
        "print(model)"
      ],
      "execution_count": null,
      "outputs": [
        {
          "output_type": "display_data",
          "data": {
            "text/html": [
              "\n",
              "     <input type=\"file\" id=\"files-d3143e54-a9a1-4d35-b5e0-59da548fdcd6\" name=\"files[]\" multiple disabled\n",
              "        style=\"border:none\" />\n",
              "     <output id=\"result-d3143e54-a9a1-4d35-b5e0-59da548fdcd6\">\n",
              "      Upload widget is only available when the cell has been executed in the\n",
              "      current browser session. Please rerun this cell to enable.\n",
              "      </output>\n",
              "      <script src=\"/nbextensions/google.colab/files.js\"></script> "
            ],
            "text/plain": [
              "<IPython.core.display.HTML object>"
            ]
          },
          "metadata": {
            "tags": []
          }
        },
        {
          "output_type": "stream",
          "text": [
            "Saving model.weights to model (1).weights\n",
            "MLP(\n",
            "  (layer1): Linear(in_features=784, out_features=512, bias=True)\n",
            "  (layer2): Linear(in_features=512, out_features=47, bias=True)\n",
            ")\n"
          ],
          "name": "stdout"
        }
      ]
    },
    {
      "cell_type": "code",
      "metadata": {
        "colab": {
          "base_uri": "https://localhost:8080/"
        },
        "id": "t1qa1T3SwrJH",
        "outputId": "932e74b3-db93-49e7-a131-dac288e56c21"
      },
      "source": [
        "import collections as collec\n",
        "\n",
        "#reload the dataset to batch size 1 \n",
        "train_loader = DataLoader(train)\n",
        "test_loader = DataLoader(test)\n",
        "print(len(train_loader),len(test_loader))\n",
        "\n",
        "#get representative class and label\n",
        "rep_class_idx = train.class_to_idx\n",
        "rep_match = {v: k for k, v in rep_class_idx.items()}"
      ],
      "execution_count": null,
      "outputs": [
        {
          "output_type": "stream",
          "text": [
            "697932 116323\n"
          ],
          "name": "stdout"
        }
      ]
    },
    {
      "cell_type": "code",
      "metadata": {
        "id": "sV22F26PtxNA"
      },
      "source": [
        "\n",
        "# create multidimensional dictionary to store value\n",
        "trainDict_count = collec.defaultdict(lambda : collec.defaultdict(int))\n",
        "trainDict_list = collec.defaultdict(lambda : collec.defaultdict(list))\n",
        "#make sure is clear and empty at start\n",
        "trainDict_count.clear()\n",
        "trainDict_list.clear()\n",
        "\n",
        "model.eval()\n",
        "\n",
        "for data, labels in train_loader:\n",
        "  labels = labels.numpy()[0]\n",
        "  prediction = model(data)\n",
        "\n",
        " \n",
        "  predictions = torch.max(prediction, dim=1)\n",
        "  \n",
        "  predProb, predLabel = [x.detach().numpy()[0] for x in predictions]\n",
        "  predProb, predLabel = float(predProb), int(predLabel)\n",
        "  trainDict_count[labels]['training_samples']+=1\n",
        "\n",
        "  #if less than confident threshold (0.6)\n",
        "  if predProb < 0.6:\n",
        "    trainDict_count[labels]['unsure_times']+=1\n",
        "    trainDict_list[labels][predLabel].append(predProb)\n"
      ],
      "execution_count": null,
      "outputs": []
    },
    {
      "cell_type": "code",
      "metadata": {
        "id": "SEPz7GHZ-dGa"
      },
      "source": [
        "# retrieve all the needed value for each columns\n",
        "train_count_sort = sorted(trainDict_count.items())\n",
        "train_list_sort = sorted(trainDict_list.items())\n",
        "\n",
        "train_final_dict = collec.defaultdict(dict)\n",
        "\n",
        "train_final_dict.clear()\n",
        "\n",
        "for label, dict_obj in train_count_sort:\n",
        "    for keys, value in dict_obj.items():\n",
        "        if keys == \"training_samples\":\n",
        "          train_final_dict[label][\"training_samples\"] = value\n",
        "        elif keys == \"unsure_times\":\n",
        "          train_final_dict[label][\"unsure_times\"] = value\n",
        "\n",
        "for label, dict_obj in train_list_sort:\n",
        "    top_unsure_x = \"\"\n",
        "    times_unsure_x = 0\n",
        "    averaged_x = 0\n",
        " \n",
        "    for keys, valueList in dict_obj.items():  \n",
        "        if keys!=label and len(valueList)>times_unsure_x:\n",
        "          times_unsure_x = len(valueList)\n",
        "          top_unsure_x = keys\n",
        "          averaged_x = sum(valueList)/times_unsure_x\n",
        "    \n",
        "    train_final_dict[label][\"top_unsure_x\"] = top_unsure_x\n",
        "    train_final_dict[label][\"times_unsure_x\"] = times_unsure_x\n",
        "    train_final_dict[label][\"averaged_x\"] = averaged_x\n",
        "\n"
      ],
      "execution_count": null,
      "outputs": []
    },
    {
      "cell_type": "code",
      "metadata": {
        "colab": {
          "base_uri": "https://localhost:8080/"
        },
        "id": "t9Uxm0vbWPTu",
        "outputId": "77cef631-5177-4c5c-df81-a7b0f7e515fb"
      },
      "source": [
        "#display the final ans\n",
        "print(\"Label    #training samples   #times unsure   percentage %   top unsure label,x    #times unsure with x    Averaged P(x)\")\n",
        "\n",
        "highest = 0\n",
        "store_highest = None\n",
        "for label, value in train_final_dict.items():\n",
        "  Label = rep_match[label]\n",
        "  trainSamp = value[\"training_samples\"]\n",
        "  timesUnsure = value[\"unsure_times\"]\n",
        "  percentage = round((timesUnsure/trainSamp)*100,2)\n",
        "  topUnsureLabel = rep_match[value[\"top_unsure_x\"]]\n",
        "  timesUnsureX = value[\"times_unsure_x\"]\n",
        "  averagedX = round(value[\"averaged_x\"],2)\n",
        "  if percentage>highest:\n",
        "    highest = percentage\n",
        "    store_highest = [Label,trainSamp,timesUnsure,percentage,topUnsureLabel, timesUnsureX,averagedX]\n",
        "  print('%4s \\t %10d \\t %12d \\t\\t %5.2f \\t\\t %5s \\t\\t\\t%7s \\t\\t%s' % (Label, trainSamp, timesUnsure, percentage, topUnsureLabel, timesUnsureX, averagedX))\n"
      ],
      "execution_count": null,
      "outputs": [
        {
          "output_type": "stream",
          "text": [
            "Label    #training samples   #times unsure   percentage %   top unsure label,x    #times unsure with x    Averaged P(x)\n",
            "   0 \t      34618 \t         8861 \t\t 25.60 \t\t     O \t\t\t   3475 \t\t0.54\n",
            "   1 \t      38304 \t         8332 \t\t 21.75 \t\t     I \t\t\t   1188 \t\t0.48\n",
            "   2 \t      34307 \t         1392 \t\t  4.06 \t\t     Z \t\t\t    334 \t\t0.53\n",
            "   3 \t      35285 \t          486 \t\t  1.38 \t\t     g \t\t\t     50 \t\t0.47\n",
            "   4 \t      33656 \t          808 \t\t  2.40 \t\t     Y \t\t\t    143 \t\t0.52\n",
            "   5 \t      31280 \t          974 \t\t  3.11 \t\t     S \t\t\t    302 \t\t0.53\n",
            "   6 \t      34150 \t          318 \t\t  0.93 \t\t     b \t\t\t     46 \t\t0.53\n",
            "   7 \t      36020 \t          361 \t\t  1.00 \t\t     T \t\t\t     34 \t\t0.5\n",
            "   8 \t      33924 \t          592 \t\t  1.75 \t\t     g \t\t\t     29 \t\t0.44\n",
            "   9 \t      33882 \t         1870 \t\t  5.52 \t\t     g \t\t\t    330 \t\t0.48\n",
            "   A \t       6411 \t          259 \t\t  4.04 \t\t     n \t\t\t     16 \t\t0.48\n",
            "   B \t       3874 \t          407 \t\t 10.51 \t\t     8 \t\t\t     72 \t\t0.5\n",
            "   C \t      12963 \t          348 \t\t  2.68 \t\t     L \t\t\t     26 \t\t0.48\n",
            "   D \t       4606 \t          440 \t\t  9.55 \t\t     O \t\t\t    114 \t\t0.48\n",
            "   E \t       4925 \t          241 \t\t  4.89 \t\t     6 \t\t\t     22 \t\t0.46\n",
            "   F \t       9098 \t         1320 \t\t 14.51 \t\t     f \t\t\t    337 \t\t0.53\n",
            "   G \t       2534 \t          323 \t\t 12.75 \t\t     6 \t\t\t     85 \t\t0.52\n",
            "   H \t       3097 \t          362 \t\t 11.69 \t\t     N \t\t\t     42 \t\t0.46\n",
            "   I \t      14733 \t         4791 \t\t 32.52 \t\t     1 \t\t\t   2120 \t\t0.51\n",
            "   J \t       5689 \t          396 \t\t  6.96 \t\t     I \t\t\t     49 \t\t0.48\n",
            "   K \t       4998 \t          147 \t\t  2.94 \t\t     h \t\t\t     11 \t\t0.48\n",
            "   L \t      20381 \t         6933 \t\t 34.02 \t\t     1 \t\t\t   3908 \t\t0.51\n",
            "   M \t      11612 \t          380 \t\t  3.27 \t\t     n \t\t\t     74 \t\t0.5\n",
            "   N \t       8237 \t          258 \t\t  3.13 \t\t     n \t\t\t     29 \t\t0.5\n",
            "   O \t      27664 \t         5978 \t\t 21.61 \t\t     0 \t\t\t   2818 \t\t0.54\n",
            "   P \t      10748 \t          175 \t\t  1.63 \t\t     D \t\t\t     20 \t\t0.49\n",
            "   Q \t       2603 \t          177 \t\t  6.80 \t\t     a \t\t\t     29 \t\t0.49\n",
            "   R \t       5047 \t          210 \t\t  4.16 \t\t     e \t\t\t     11 \t\t0.48\n",
            "   S \t      23509 \t         1982 \t\t  8.43 \t\t     5 \t\t\t    656 \t\t0.53\n",
            "   T \t       9766 \t          311 \t\t  3.18 \t\t     t \t\t\t     67 \t\t0.52\n",
            "   U \t      15388 \t          285 \t\t  1.85 \t\t     V \t\t\t     26 \t\t0.51\n",
            "   V \t       7588 \t          445 \t\t  5.86 \t\t     U \t\t\t     79 \t\t0.53\n",
            "   W \t       7403 \t          233 \t\t  3.15 \t\t     U \t\t\t     38 \t\t0.46\n",
            "   X \t       5598 \t          148 \t\t  2.64 \t\t     K \t\t\t     16 \t\t0.5\n",
            "   Y \t       7092 \t          624 \t\t  8.80 \t\t     4 \t\t\t    101 \t\t0.53\n",
            "   Z \t       5416 \t          350 \t\t  6.46 \t\t     2 \t\t\t    108 \t\t0.52\n",
            "   a \t      10009 \t          860 \t\t  8.59 \t\t     O \t\t\t     57 \t\t0.46\n",
            "   b \t       5080 \t          456 \t\t  8.98 \t\t     6 \t\t\t    141 \t\t0.52\n",
            "   d \t      10152 \t          105 \t\t  1.03 \t\t     D \t\t\t      9 \t\t0.46\n",
            "   e \t      24657 \t          629 \t\t  2.55 \t\t     C \t\t\t    112 \t\t0.52\n",
            "   f \t       2535 \t         1000 \t\t 39.45 \t\t     F \t\t\t    473 \t\t0.53\n",
            "   g \t       3693 \t          843 \t\t 22.83 \t\t     9 \t\t\t    183 \t\t0.5\n",
            "   h \t       8682 \t          335 \t\t  3.86 \t\t     n \t\t\t     38 \t\t0.51\n",
            "   n \t      11444 \t          249 \t\t  2.18 \t\t     N \t\t\t     30 \t\t0.51\n",
            "   q \t       2966 \t          925 \t\t 31.19 \t\t     9 \t\t\t    209 \t\t0.49\n",
            "   r \t      14060 \t          249 \t\t  1.77 \t\t     n \t\t\t     23 \t\t0.47\n",
            "   t \t      18248 \t          635 \t\t  3.48 \t\t     T \t\t\t    105 \t\t0.52\n"
          ],
          "name": "stdout"
        }
      ]
    },
    {
      "cell_type": "code",
      "metadata": {
        "colab": {
          "base_uri": "https://localhost:8080/"
        },
        "id": "ifNnfHUrOckE",
        "outputId": "122def67-b94a-48f9-8234-ff6c21be48dc"
      },
      "source": [
        "print(\"Label with Highest level of unsure\")\n",
        "print(\"Label    #training samples   #times unsure   percentage %   top unsure label,x    #times unsure with x    Averaged P(x)\")\n",
        "print('%4s \\t %10d \\t %12d \\t\\t %5.2f \\t\\t %5s \\t\\t\\t%7s \\t\\t%s' % (store_highest[0],store_highest[1],store_highest[2],store_highest[3],store_highest[4],store_highest[5],store_highest[6]))\n"
      ],
      "execution_count": null,
      "outputs": [
        {
          "output_type": "stream",
          "text": [
            "Label with Highest level of unsure\n",
            "Label    #training samples   #times unsure   percentage %   top unsure label,x    #times unsure with x    Averaged P(x)\n",
            "   f \t       2535 \t         1000 \t\t 39.45 \t\t     F \t\t\t    473 \t\t0.53\n"
          ],
          "name": "stdout"
        }
      ]
    },
    {
      "cell_type": "markdown",
      "metadata": {
        "id": "suai7tuENE0u"
      },
      "source": [
        "## Q1 ANSWER\n",
        "- Above show the final calculated unsure value for each label\n",
        "- Label f has the highest level of unsure with the highest unsure percentage of 39.45% as shown above\n",
        "- Taking the highest level of unsure label \"f\", we can see that it is confused with the top unsure label(x) which is F.\n"
      ]
    },
    {
      "cell_type": "markdown",
      "metadata": {
        "id": "UhYaYZP1MSwa"
      },
      "source": [
        "## Q2 ANSWER\n",
        "- As in task 1, we have seen the unbalanced class and this cause training on certain classes get worst results\n",
        "- Other than that, there are images almost looks alike and therefore causing confusion even for human eye we may also have chances in wrong classification these similar character handwriting.\n",
        "- However, we still get accuracy of 88% in testing dataset which is still consider good and well generalize for most of the classess. \n",
        "- There might have some wrong classified data due to unseen features of testing datasets that has not encountered in the model training."
      ]
    },
    {
      "cell_type": "markdown",
      "metadata": {
        "id": "4P1sn4UfNZb-"
      },
      "source": [
        "# Task 3. Prediction error : overall and by each labels.\n"
      ]
    },
    {
      "cell_type": "markdown",
      "metadata": {
        "id": "WSfZ4K-2Ni7r"
      },
      "source": [
        "# Question 1\n",
        "Q1: Which labels has the highest prediction error by labels? Does this agree with the unsure prediction results?For example if label 'z' has the highest 'level of unsure' , is it also reflected here i.e is the prediction error by label for 'z' also is the highest here?"
      ]
    },
    {
      "cell_type": "code",
      "metadata": {
        "colab": {
          "base_uri": "https://localhost:8080/"
        },
        "id": "rWwZU9EbmYjK",
        "outputId": "a535b48a-056d-47bb-ba7a-d693511ed895"
      },
      "source": [
        "def predictionError(dataset_loader):\n",
        "  model.eval() # sets the model in evaluation mode \n",
        "  i = 0\n",
        "  total_count = [0]*47\n",
        "  error_count = [0]*47\n",
        "\n",
        "  for input_data, target_label in dataset_loader:\n",
        "    output = model(input_data)\n",
        "    _, prediction = torch.max(output.data, dim = 1)\n",
        "\n",
        "    label_num = target_label.item()\n",
        "\n",
        "    total_count[label_num] +=1\n",
        "    if prediction != target_label:\n",
        "      error_count[label_num] += 1\n",
        "    i+=1\n",
        "    print(i)\n",
        "  return total_count,error_count\n",
        "\n",
        "def show(total_count,error_count):\n",
        "  print(' Label   # sample   wrongly predicted  prediction error by labels(%)  prediction error overall(%)')\n",
        "  highest = 0\n",
        "  highest_list = []\n",
        "  for i in range(len(total_count)):\n",
        "    label_name = rep_match[i]\n",
        "    sample_no = total_count[i]\n",
        "    wrong_no = error_count[i]\n",
        "    predict_error_label = round((wrong_no/sample_no*100),2)\n",
        "    predict_error_overall = round((wrong_no/sum(total_count)*100),2)\n",
        "    print('%4s \\t  %5d \\t %5s \\t\\t\\t %5s \\t\\t\\t %9s' % (label_name,sample_no,wrong_no,predict_error_label,predict_error_overall))\n",
        "\n",
        "    if predict_error_label>highest:\n",
        "      highest = predict_error_label\n",
        "      highest_list = [label_name,sample_no,wrong_no,predict_error_label,predict_error_overall]\n",
        "\n",
        "  return highest_list\n",
        "\n",
        "print(\"Prediction error on training dataset\")\n",
        "total_count,error_count = predictionError(train_loader)\n",
        "train_highest = show(total_count,error_count)\n",
        "\n",
        "print(\"\\n\")\n",
        "print(\"Prediction error on test dataset\")\n",
        "total_count2,error_count2 = predictionError(test_loader)\n",
        "test_highest = show(total_count2,error_count2 )\n"
      ],
      "execution_count": null,
      "outputs": [
        {
          "output_type": "stream",
          "text": [
            "Prediction error on training dataset\n",
            " Label   # sample   wrongly predicted  prediction error by labels(%)  prediction error overall(%)\n",
            "   0 \t  34618 \t 10378 \t\t\t 29.98 \t\t\t      1.49\n",
            "   1 \t  38304 \t  2906 \t\t\t  7.59 \t\t\t      0.42\n",
            "   2 \t  34307 \t  1655 \t\t\t  4.82 \t\t\t      0.24\n",
            "   3 \t  35285 \t   405 \t\t\t  1.15 \t\t\t      0.06\n",
            "   4 \t  33656 \t   812 \t\t\t  2.41 \t\t\t      0.12\n",
            "   5 \t  31280 \t  1446 \t\t\t  4.62 \t\t\t      0.21\n",
            "   6 \t  34150 \t   330 \t\t\t  0.97 \t\t\t      0.05\n",
            "   7 \t  36020 \t   271 \t\t\t  0.75 \t\t\t      0.04\n",
            "   8 \t  33924 \t   403 \t\t\t  1.19 \t\t\t      0.06\n",
            "   9 \t  33882 \t  1267 \t\t\t  3.74 \t\t\t      0.18\n",
            "   A \t   6411 \t   181 \t\t\t  2.82 \t\t\t      0.03\n",
            "   B \t   3874 \t   334 \t\t\t  8.62 \t\t\t      0.05\n",
            "   C \t  12963 \t   363 \t\t\t   2.8 \t\t\t      0.05\n",
            "   D \t   4606 \t   419 \t\t\t   9.1 \t\t\t      0.06\n",
            "   E \t   4925 \t   216 \t\t\t  4.39 \t\t\t      0.03\n",
            "   F \t   9098 \t   809 \t\t\t  8.89 \t\t\t      0.12\n",
            "   G \t   2534 \t   454 \t\t\t 17.92 \t\t\t      0.07\n",
            "   H \t   3097 \t   300 \t\t\t  9.69 \t\t\t      0.04\n",
            "   I \t  14733 \t  6173 \t\t\t  41.9 \t\t\t      0.88\n",
            "   J \t   5689 \t   433 \t\t\t  7.61 \t\t\t      0.06\n",
            "   K \t   4998 \t   110 \t\t\t   2.2 \t\t\t      0.02\n",
            "   L \t  20381 \t 13166 \t\t\t  64.6 \t\t\t      1.89\n",
            "   M \t  11612 \t   324 \t\t\t  2.79 \t\t\t      0.05\n",
            "   N \t   8237 \t   183 \t\t\t  2.22 \t\t\t      0.03\n",
            "   O \t  27664 \t  8157 \t\t\t 29.49 \t\t\t      1.17\n",
            "   P \t  10748 \t   149 \t\t\t  1.39 \t\t\t      0.02\n",
            "   Q \t   2603 \t   138 \t\t\t   5.3 \t\t\t      0.02\n",
            "   R \t   5047 \t   149 \t\t\t  2.95 \t\t\t      0.02\n",
            "   S \t  23509 \t  2294 \t\t\t  9.76 \t\t\t      0.33\n",
            "   T \t   9766 \t   480 \t\t\t  4.92 \t\t\t      0.07\n",
            "   U \t  15388 \t   252 \t\t\t  1.64 \t\t\t      0.04\n",
            "   V \t   7588 \t   781 \t\t\t 10.29 \t\t\t      0.11\n",
            "   W \t   7403 \t   206 \t\t\t  2.78 \t\t\t      0.03\n",
            "   X \t   5598 \t   119 \t\t\t  2.13 \t\t\t      0.02\n",
            "   Y \t   7092 \t   726 \t\t\t 10.24 \t\t\t       0.1\n",
            "   Z \t   5416 \t   516 \t\t\t  9.53 \t\t\t      0.07\n",
            "   a \t  10009 \t   842 \t\t\t  8.41 \t\t\t      0.12\n",
            "   b \t   5080 \t   737 \t\t\t 14.51 \t\t\t      0.11\n",
            "   d \t  10152 \t   139 \t\t\t  1.37 \t\t\t      0.02\n",
            "   e \t  24657 \t   730 \t\t\t  2.96 \t\t\t       0.1\n",
            "   f \t   2535 \t  1644 \t\t\t 64.85 \t\t\t      0.24\n",
            "   g \t   3693 \t  1256 \t\t\t 34.01 \t\t\t      0.18\n",
            "   h \t   8682 \t   425 \t\t\t   4.9 \t\t\t      0.06\n",
            "   n \t  11444 \t   480 \t\t\t  4.19 \t\t\t      0.07\n",
            "   q \t   2966 \t  1727 \t\t\t 58.23 \t\t\t      0.25\n",
            "   r \t  14060 \t   369 \t\t\t  2.62 \t\t\t      0.05\n",
            "   t \t  18248 \t   906 \t\t\t  4.96 \t\t\t      0.13\n",
            "\n",
            "\n",
            "Prediction error on test dataset\n",
            " Label   # sample   wrongly predicted  prediction error by labels(%)  prediction error overall(%)\n",
            "   0 \t   5745 \t  1742 \t\t\t 30.32 \t\t\t       1.5\n",
            "   1 \t   6400 \t   540 \t\t\t  8.44 \t\t\t      0.46\n",
            "   2 \t   5765 \t   389 \t\t\t  6.75 \t\t\t      0.33\n",
            "   3 \t   5827 \t   103 \t\t\t  1.77 \t\t\t      0.09\n",
            "   4 \t   5498 \t   213 \t\t\t  3.87 \t\t\t      0.18\n",
            "   5 \t   5326 \t   404 \t\t\t  7.59 \t\t\t      0.35\n",
            "   6 \t   5787 \t   115 \t\t\t  1.99 \t\t\t       0.1\n",
            "   7 \t   5873 \t    89 \t\t\t  1.52 \t\t\t      0.08\n",
            "   8 \t   5655 \t   151 \t\t\t  2.67 \t\t\t      0.13\n",
            "   9 \t   5651 \t   272 \t\t\t  4.81 \t\t\t      0.23\n",
            "   A \t   1058 \t    63 \t\t\t  5.95 \t\t\t      0.05\n",
            "   B \t    652 \t   115 \t\t\t 17.64 \t\t\t       0.1\n",
            "   C \t   2156 \t    85 \t\t\t  3.94 \t\t\t      0.07\n",
            "   D \t    735 \t    89 \t\t\t 12.11 \t\t\t      0.08\n",
            "   E \t    860 \t    63 \t\t\t  7.33 \t\t\t      0.05\n",
            "   F \t   1524 \t   233 \t\t\t 15.29 \t\t\t       0.2\n",
            "   G \t    430 \t   115 \t\t\t 26.74 \t\t\t       0.1\n",
            "   H \t    576 \t   111 \t\t\t 19.27 \t\t\t       0.1\n",
            "   I \t   2413 \t  1038 \t\t\t 43.02 \t\t\t      0.89\n",
            "   J \t    912 \t   102 \t\t\t 11.18 \t\t\t      0.09\n",
            "   K \t    809 \t    43 \t\t\t  5.32 \t\t\t      0.04\n",
            "   L \t   3358 \t  2262 \t\t\t 67.36 \t\t\t      1.94\n",
            "   M \t   1984 \t   109 \t\t\t  5.49 \t\t\t      0.09\n",
            "   N \t   1351 \t    55 \t\t\t  4.07 \t\t\t      0.05\n",
            "   O \t   4690 \t  1495 \t\t\t 31.88 \t\t\t      1.29\n",
            "   P \t   1812 \t    69 \t\t\t  3.81 \t\t\t      0.06\n",
            "   Q \t    415 \t    39 \t\t\t   9.4 \t\t\t      0.03\n",
            "   R \t    835 \t    63 \t\t\t  7.54 \t\t\t      0.05\n",
            "   S \t   3899 \t   476 \t\t\t 12.21 \t\t\t      0.41\n",
            "   T \t   1630 \t   108 \t\t\t  6.63 \t\t\t      0.09\n",
            "   U \t   2528 \t   108 \t\t\t  4.27 \t\t\t      0.09\n",
            "   V \t   1223 \t   153 \t\t\t 12.51 \t\t\t      0.13\n",
            "   W \t   1262 \t    82 \t\t\t   6.5 \t\t\t      0.07\n",
            "   X \t    897 \t    43 \t\t\t  4.79 \t\t\t      0.04\n",
            "   Y \t   1195 \t   192 \t\t\t 16.07 \t\t\t      0.17\n",
            "   Z \t    925 \t   149 \t\t\t 16.11 \t\t\t      0.13\n",
            "   a \t   1668 \t   224 \t\t\t 13.43 \t\t\t      0.19\n",
            "   b \t    932 \t   183 \t\t\t 19.64 \t\t\t      0.16\n",
            "   d \t   1708 \t    62 \t\t\t  3.63 \t\t\t      0.05\n",
            "   e \t   4066 \t   180 \t\t\t  4.43 \t\t\t      0.15\n",
            "   f \t    426 \t   331 \t\t\t  77.7 \t\t\t      0.28\n",
            "   g \t    583 \t   249 \t\t\t 42.71 \t\t\t      0.21\n",
            "   h \t   1535 \t   125 \t\t\t  8.14 \t\t\t      0.11\n",
            "   n \t   1872 \t   106 \t\t\t  5.66 \t\t\t      0.09\n",
            "   q \t    533 \t   348 \t\t\t 65.29 \t\t\t       0.3\n",
            "   r \t   2365 \t    96 \t\t\t  4.06 \t\t\t      0.08\n",
            "   t \t   2979 \t   223 \t\t\t  7.49 \t\t\t      0.19\n"
          ],
          "name": "stdout"
        }
      ]
    },
    {
      "cell_type": "code",
      "metadata": {
        "colab": {
          "base_uri": "https://localhost:8080/"
        },
        "id": "MQF8jbj-mseL",
        "outputId": "7a43b7f3-d7d3-4356-bcbb-2994c9340963"
      },
      "source": [
        "print('dataset  Label   # sample   wrongly predicted  prediction error by labels(%)  prediction error overall(%)')\n",
        "print('%7s  %4s \\t  %5d \\t %5s \\t\\t\\t %5s \\t\\t\\t %9s' % ('train',train_highest[0],train_highest[1],train_highest[2],train_highest[3],train_highest[4]))\n",
        "\n",
        "print('%7s  %4s \\t  %5d \\t %5s \\t\\t\\t %5s \\t\\t\\t %9s' % ('test',test_highest[0],test_highest[1],test_highest[2],test_highest[3],test_highest[4]))\n"
      ],
      "execution_count": null,
      "outputs": [
        {
          "output_type": "stream",
          "text": [
            "dataset  Label   # sample   wrongly predicted  prediction error by labels(%)  prediction error overall(%)\n",
            "  train     f \t   2535 \t  1644 \t\t\t 64.85 \t\t\t      0.24\n",
            "   test     f \t    426 \t   331 \t\t\t  77.7 \t\t\t      0.28\n"
          ],
          "name": "stdout"
        }
      ]
    },
    {
      "cell_type": "markdown",
      "metadata": {
        "id": "i9EUuaqVptdF"
      },
      "source": [
        "## Q1 ANSWER\n",
        "The outputs is shown as above display. Label 'f' has the highest prediction error by labels. This shows that it is agree with the unsure prediction results. The prediction error reflects the same as the training unsure prediction. This shows that the most underpresented data train will also affect the performance of model to predict that classes. "
      ]
    },
    {
      "cell_type": "markdown",
      "metadata": {
        "id": "lIBX6xi6ZKd4"
      },
      "source": [
        "# Task 4. Varying models\n"
      ]
    },
    {
      "cell_type": "code",
      "metadata": {
        "id": "KOCsgC-qZL36"
      },
      "source": [
        "#define all models structure\n",
        "class MLP1(nn.Module):\n",
        "  def __init__(self,input_size, hidden_size,num_classes):\n",
        "    super(MLP1,self).__init__()\n",
        "\n",
        "    self.layer1 = nn.Linear(input_size,hidden_size) \n",
        "    self.layer2 = nn.Linear(hidden_size,num_classes)\n",
        "\n",
        "  def forward(self,x): \n",
        "\n",
        "    out = self.layer1(x)\n",
        "    out = torch.sigmoid(out)\n",
        "    out = self.layer2(out)\n",
        " \n",
        "    if not self.training:\n",
        "      out = F.softmax(out,dim=1)\n",
        "    return out\n",
        "\n",
        "class MLP2(nn.Module):\n",
        "  def __init__(self,input_size, hidden_size1,hidden_size2, num_classes):\n",
        "    super(MLP2,self).__init__()\n",
        "\n",
        "    self.layer1 = nn.Linear(input_size,hidden_size1) \n",
        "    self.layer2 = nn.Linear(hidden_size1,hidden_size2)\n",
        "    self.layer3 = nn.Linear(hidden_size2,num_classes)\n",
        "\n",
        "  def forward(self,x): \n",
        "\n",
        "    out = self.layer1(x)\n",
        "    out = torch.sigmoid(out)\n",
        "    out = self.layer2(out)\n",
        "    out = torch.sigmoid(out)\n",
        "    out = self.layer3(out)\n",
        " \n",
        "    if not self.training:\n",
        "      out = F.softmax(out,dim=1)\n",
        "    return out\n",
        "\n",
        "class MLP3(nn.Module):\n",
        "  def __init__(self,input_size, hidden_size1,hidden_size2,hidden_size3,num_classes):\n",
        "    super(MLP3,self).__init__()\n",
        "\n",
        "    self.layer1 = nn.Linear(input_size,hidden_size1) \n",
        "    self.layer2 = nn.Linear(hidden_size1,hidden_size2)\n",
        "    self.layer3 = nn.Linear(hidden_size2,hidden_size3)\n",
        "    self.layer4 = nn.Linear(hidden_size3,num_classes)\n",
        "\n",
        "  def forward(self,x): \n",
        "\n",
        "    out = self.layer1(x)\n",
        "    out = torch.sigmoid(out)\n",
        "    out = self.layer2(out)\n",
        "    out = torch.sigmoid(out)\n",
        "    out = self.layer3(out)\n",
        "    out = torch.sigmoid(out)\n",
        "    out = self.layer4(out)    \n",
        " \n",
        "    if not self.training:\n",
        "      out = F.softmax(out,dim=1)\n",
        "    return out"
      ],
      "execution_count": 22,
      "outputs": []
    },
    {
      "cell_type": "code",
      "metadata": {
        "id": "EZLJkx7PZSly"
      },
      "source": [
        "#initialize the model\n",
        "model1 = MLP1(784, 512, 47)\n",
        "model2 = MLP2(784, 512, 256, 47)\n",
        "model3 = MLP2(784, 512, 512, 47)\n",
        "model4 = MLP3(784, 512, 512, 256, 47)"
      ],
      "execution_count": 10,
      "outputs": []
    },
    {
      "cell_type": "code",
      "metadata": {
        "colab": {
          "base_uri": "https://localhost:8080/"
        },
        "id": "YX3TiJxDZlec",
        "outputId": "50caa90b-0834-4859-9358-64434315a38e"
      },
      "source": [
        "#get all parameters\n",
        "print(\"1 hid layer model - model 1\\n\" )\n",
        "print(summary(model1, torch.zeros((1, 784)), show_input=False)+'\\n')\n",
        "\n",
        "print(\"2 hid layer less para model - model 2\\n\" )\n",
        "print(summary(model2, torch.zeros((1, 784)), show_input=False)+'\\n')\n",
        "\n",
        "print(\"2 hid layer more para model - model 3\\n\" )\n",
        "print(summary(model3, torch.zeros((1, 784)), show_input=False)+'\\n')\n",
        "\n",
        "print(\"3 hid layer model - model 4\\n\" )\n",
        "print(summary(model4, torch.zeros((1, 784)), show_input=False)+'\\n')\n",
        "\n"
      ],
      "execution_count": 26,
      "outputs": [
        {
          "output_type": "stream",
          "text": [
            "1 hid layer model - model 1\n",
            "\n",
            "-----------------------------------------------------------------------\n",
            "      Layer (type)        Output Shape         Param #     Tr. Param #\n",
            "=======================================================================\n",
            "          Linear-1            [1, 512]         401,920         401,920\n",
            "          Linear-2             [1, 47]          24,111          24,111\n",
            "=======================================================================\n",
            "Total params: 426,031\n",
            "Trainable params: 426,031\n",
            "Non-trainable params: 0\n",
            "-----------------------------------------------------------------------\n",
            "\n",
            "2 hid layer less para model - model 2\n",
            "\n",
            "-----------------------------------------------------------------------\n",
            "      Layer (type)        Output Shape         Param #     Tr. Param #\n",
            "=======================================================================\n",
            "          Linear-1            [1, 512]         401,920         401,920\n",
            "          Linear-2            [1, 256]         131,328         131,328\n",
            "          Linear-3             [1, 47]          12,079          12,079\n",
            "=======================================================================\n",
            "Total params: 545,327\n",
            "Trainable params: 545,327\n",
            "Non-trainable params: 0\n",
            "-----------------------------------------------------------------------\n",
            "\n",
            "2 hid layer more para model - model 3\n",
            "\n",
            "-----------------------------------------------------------------------\n",
            "      Layer (type)        Output Shape         Param #     Tr. Param #\n",
            "=======================================================================\n",
            "          Linear-1            [1, 512]         401,920         401,920\n",
            "          Linear-2            [1, 512]         262,656         262,656\n",
            "          Linear-3             [1, 47]          24,111          24,111\n",
            "=======================================================================\n",
            "Total params: 688,687\n",
            "Trainable params: 688,687\n",
            "Non-trainable params: 0\n",
            "-----------------------------------------------------------------------\n",
            "\n",
            "3 hid layer model - model 4\n",
            "\n",
            "-----------------------------------------------------------------------\n",
            "      Layer (type)        Output Shape         Param #     Tr. Param #\n",
            "=======================================================================\n",
            "          Linear-1            [1, 512]         401,920         401,920\n",
            "          Linear-2            [1, 512]         262,656         262,656\n",
            "          Linear-3            [1, 256]         131,328         131,328\n",
            "          Linear-4             [1, 47]          12,079          12,079\n",
            "=======================================================================\n",
            "Total params: 807,983\n",
            "Trainable params: 807,983\n",
            "Non-trainable params: 0\n",
            "-----------------------------------------------------------------------\n",
            "\n"
          ],
          "name": "stdout"
        }
      ]
    },
    {
      "cell_type": "code",
      "metadata": {
        "colab": {
          "base_uri": "https://localhost:8080/"
        },
        "id": "Fk-ir4nHuJZC",
        "outputId": "03df7fa7-ac57-4c1b-b1b4-432248d19b2c"
      },
      "source": [
        "#Train and testing all 4 model\n",
        "#save all models\n",
        "#model1\n",
        "print(\"train 1 hid layer model\" )\n",
        "epochList, lossList, batchList, batchLoss,accuracy_list = train_model(model1,train_loader)\n",
        "testAccuracy,testError = test_model(model1,test_loader)\n",
        "model_trained1 = [epochList, lossList, batchList, batchLoss,accuracy_list,testAccuracy,testError]\n",
        "torch.save(model1.state_dict(), \"./model1.weights\")\n"
      ],
      "execution_count": 12,
      "outputs": [
        {
          "output_type": "stream",
          "text": [
            "train 1 hid layer model\n",
            "Epoch: 1  loss: 3650.2759995758533 accuracy: 79.90205349518291\n",
            "Epoch: 2  loss: 2143.941118195653 accuracy: 86.7232051260008\n",
            "Epoch: 3  loss: 1893.5406872332096 accuracy: 87.91329241244132\n",
            "Epoch: 4  loss: 1768.9516725987196 accuracy: 88.52366706212067\n",
            "Epoch: 5  loss: 1685.20752299577 accuracy: 88.94992635385682\n",
            "Epoch: 6  loss: 1623.7482322379947 accuracy: 89.24164531788196\n",
            "Epoch: 7  loss: 1572.161869034171 accuracy: 89.4710372930314\n",
            "Epoch: 8  loss: 1529.3354119509459 accuracy: 89.71217826378502\n",
            "Epoch: 9  loss: 1492.8709731698036 accuracy: 89.89199520870228\n",
            "Epoch: 10  loss: 1458.7977964058518 accuracy: 90.08155522314495\n"
          ],
          "name": "stdout"
        }
      ]
    },
    {
      "cell_type": "code",
      "metadata": {
        "colab": {
          "base_uri": "https://localhost:8080/"
        },
        "id": "oH3pRo1lT1yD",
        "outputId": "575565c3-b4ea-4b08-cd73-3d09e85b0395"
      },
      "source": [
        "#model2\n",
        "print(\"\\ntrain 2 hid layer less para model\" )\n",
        "epochList, lossList, batchList, batchLoss,accuracy_list = train_model(model2,train_loader)\n",
        "testAccuracy,testError = test_model(model2,test_loader)\n",
        "model_trained2 = [epochList, lossList, batchList, batchLoss,accuracy_list,testAccuracy,testError]\n",
        "torch.save(model2.state_dict(), \"./model2.weights\")\n"
      ],
      "execution_count": 13,
      "outputs": [
        {
          "output_type": "stream",
          "text": [
            "\n",
            "train 2 hid layer less para model\n",
            "Epoch: 1  loss: 3520.978440389037 accuracy: 80.11940991385981\n",
            "Epoch: 2  loss: 1999.6690747737885 accuracy: 87.24904431950391\n",
            "Epoch: 3  loss: 1784.2542540431023 accuracy: 88.33998154548007\n",
            "Epoch: 4  loss: 1663.8021760582924 accuracy: 88.94433841692315\n",
            "Epoch: 5  loss: 1579.8405825719237 accuracy: 89.35326077612146\n",
            "Epoch: 6  loss: 1515.3767147138715 accuracy: 89.693265246471\n",
            "Epoch: 7  loss: 1458.631986759603 accuracy: 89.98455436919356\n",
            "Epoch: 8  loss: 1411.6324448883533 accuracy: 90.20764200523833\n",
            "Epoch: 9  loss: 1368.453659541905 accuracy: 90.46583334766137\n",
            "Epoch: 10  loss: 1328.3857994675636 accuracy: 90.63705346652682\n"
          ],
          "name": "stdout"
        }
      ]
    },
    {
      "cell_type": "code",
      "metadata": {
        "colab": {
          "base_uri": "https://localhost:8080/"
        },
        "id": "UFU_jxKTT15h",
        "outputId": "c6cc93fb-0523-42d0-8c0b-f104ad580baf"
      },
      "source": [
        "#model3\n",
        "print(\"\\ntrain 2 layer more para model\" )\n",
        "epochList, lossList, batchList, batchLoss,accuracy_list = train_model(model3,train_loader)\n",
        "testAccuracy,testError = test_model(model3,test_loader)\n",
        "model_trained3 = [epochList, lossList, batchList, batchLoss,accuracy_list,testAccuracy,testError]\n",
        "torch.save(model3.state_dict(), \"./model3.weights\")"
      ],
      "execution_count": 14,
      "outputs": [
        {
          "output_type": "stream",
          "text": [
            "\n",
            "train 2 layer more para model\n",
            "Epoch: 1  loss: 3374.2515357136726 accuracy: 80.58464148369755\n",
            "Epoch: 2  loss: 1970.3710579276085 accuracy: 87.34017067565321\n",
            "Epoch: 3  loss: 1748.684291511774 accuracy: 88.46334599932372\n",
            "Epoch: 4  loss: 1624.912490747869 accuracy: 89.10925419668392\n",
            "Epoch: 5  loss: 1536.9399766996503 accuracy: 89.56273677091751\n",
            "Epoch: 6  loss: 1465.8190427869558 accuracy: 89.91449023687122\n",
            "Epoch: 7  loss: 1405.9749998226762 accuracy: 90.21724179432954\n",
            "Epoch: 8  loss: 1351.755160085857 accuracy: 90.53389155390497\n",
            "Epoch: 9  loss: 1305.1883360520005 accuracy: 90.73863929437252\n",
            "Epoch: 10  loss: 1259.7985427752137 accuracy: 90.98809053030953\n"
          ],
          "name": "stdout"
        }
      ]
    },
    {
      "cell_type": "code",
      "metadata": {
        "colab": {
          "base_uri": "https://localhost:8080/"
        },
        "id": "LLRIyf_5T2An",
        "outputId": "9c7db9fe-ab66-43fa-f842-f1f2d880c081"
      },
      "source": [
        "#model4\n",
        "print(\"\\ntrain 3 hid layer model\" )\n",
        "epochList, lossList, batchList, batchLoss,accuracy_list = train_model(model4,train_loader)\n",
        "testAccuracy,testError = test_model(model4,test_loader)\n",
        "model_trained4 = [epochList, lossList, batchList, batchLoss,accuracy_list,testAccuracy,testError]\n",
        "torch.save(model4.state_dict(), \"./model4.weights\")"
      ],
      "execution_count": 15,
      "outputs": [
        {
          "output_type": "stream",
          "text": [
            "\n",
            "train 3 hid layer model\n",
            "Epoch: 1  loss: 3703.4691741019487 accuracy: 78.82802336044199\n",
            "Epoch: 2  loss: 2044.5445726513863 accuracy: 86.8881209057616\n",
            "Epoch: 3  loss: 1803.194021075964 accuracy: 88.14067846151201\n",
            "Epoch: 4  loss: 1667.0764454975724 accuracy: 88.84246602820906\n",
            "Epoch: 5  loss: 1571.7472949922085 accuracy: 89.34523707180642\n",
            "Epoch: 6  loss: 1503.1781693398952 accuracy: 89.68237593347203\n",
            "Epoch: 7  loss: 1438.6594466865063 accuracy: 90.04745447980605\n",
            "Epoch: 8  loss: 1385.5973845943809 accuracy: 90.32140666999078\n",
            "Epoch: 9  loss: 1339.223962083459 accuracy: 90.53360499303658\n",
            "Epoch: 10  loss: 1295.4256024509668 accuracy: 90.79036353111765\n"
          ],
          "name": "stdout"
        }
      ]
    },
    {
      "cell_type": "code",
      "metadata": {
        "colab": {
          "base_uri": "https://localhost:8080/",
          "height": 17
        },
        "id": "E4Bb3VX9QXv8",
        "outputId": "93928a52-a87a-4b8d-f8e4-10c6ee77d2bb"
      },
      "source": [
        "import pickle\n",
        "\n",
        "#store variable copy\n",
        "allcontent = [model_trained1,model_trained2,model_trained3,model_trained4]\n",
        "with open('./content.pickle', 'wb') as f:\n",
        "  pickle.dump(allcontent, f)\n",
        "files.download('content.pickle')"
      ],
      "execution_count": 31,
      "outputs": [
        {
          "output_type": "display_data",
          "data": {
            "application/javascript": [
              "\n",
              "    async function download(id, filename, size) {\n",
              "      if (!google.colab.kernel.accessAllowed) {\n",
              "        return;\n",
              "      }\n",
              "      const div = document.createElement('div');\n",
              "      const label = document.createElement('label');\n",
              "      label.textContent = `Downloading \"${filename}\": `;\n",
              "      div.appendChild(label);\n",
              "      const progress = document.createElement('progress');\n",
              "      progress.max = size;\n",
              "      div.appendChild(progress);\n",
              "      document.body.appendChild(div);\n",
              "\n",
              "      const buffers = [];\n",
              "      let downloaded = 0;\n",
              "\n",
              "      const channel = await google.colab.kernel.comms.open(id);\n",
              "      // Send a message to notify the kernel that we're ready.\n",
              "      channel.send({})\n",
              "\n",
              "      for await (const message of channel.messages) {\n",
              "        // Send a message to notify the kernel that we're ready.\n",
              "        channel.send({})\n",
              "        if (message.buffers) {\n",
              "          for (const buffer of message.buffers) {\n",
              "            buffers.push(buffer);\n",
              "            downloaded += buffer.byteLength;\n",
              "            progress.value = downloaded;\n",
              "          }\n",
              "        }\n",
              "      }\n",
              "      const blob = new Blob(buffers, {type: 'application/binary'});\n",
              "      const a = document.createElement('a');\n",
              "      a.href = window.URL.createObjectURL(blob);\n",
              "      a.download = filename;\n",
              "      div.appendChild(a);\n",
              "      a.click();\n",
              "      div.remove();\n",
              "    }\n",
              "  "
            ],
            "text/plain": [
              "<IPython.core.display.Javascript object>"
            ]
          },
          "metadata": {
            "tags": []
          }
        },
        {
          "output_type": "display_data",
          "data": {
            "application/javascript": [
              "download(\"download_1dfa22ad-e0bf-4621-9d3d-9f6525cb20f8\", \"content2.pickle\", 2618280)"
            ],
            "text/plain": [
              "<IPython.core.display.Javascript object>"
            ]
          },
          "metadata": {
            "tags": []
          }
        }
      ]
    },
    {
      "cell_type": "code",
      "metadata": {
        "id": "sFcVD5LIwHey",
        "colab": {
          "base_uri": "https://localhost:8080/",
          "height": 17
        },
        "outputId": "094cab42-0e0e-406e-b61a-f1f9722b4e34"
      },
      "source": [
        "# download model\n",
        "from google.colab import files\n",
        "files.download('model1.weights')\n",
        "files.download('model2.weights')\n",
        "files.download('model3.weights')\n",
        "files.download('model4.weights')"
      ],
      "execution_count": 19,
      "outputs": [
        {
          "output_type": "display_data",
          "data": {
            "application/javascript": [
              "\n",
              "    async function download(id, filename, size) {\n",
              "      if (!google.colab.kernel.accessAllowed) {\n",
              "        return;\n",
              "      }\n",
              "      const div = document.createElement('div');\n",
              "      const label = document.createElement('label');\n",
              "      label.textContent = `Downloading \"${filename}\": `;\n",
              "      div.appendChild(label);\n",
              "      const progress = document.createElement('progress');\n",
              "      progress.max = size;\n",
              "      div.appendChild(progress);\n",
              "      document.body.appendChild(div);\n",
              "\n",
              "      const buffers = [];\n",
              "      let downloaded = 0;\n",
              "\n",
              "      const channel = await google.colab.kernel.comms.open(id);\n",
              "      // Send a message to notify the kernel that we're ready.\n",
              "      channel.send({})\n",
              "\n",
              "      for await (const message of channel.messages) {\n",
              "        // Send a message to notify the kernel that we're ready.\n",
              "        channel.send({})\n",
              "        if (message.buffers) {\n",
              "          for (const buffer of message.buffers) {\n",
              "            buffers.push(buffer);\n",
              "            downloaded += buffer.byteLength;\n",
              "            progress.value = downloaded;\n",
              "          }\n",
              "        }\n",
              "      }\n",
              "      const blob = new Blob(buffers, {type: 'application/binary'});\n",
              "      const a = document.createElement('a');\n",
              "      a.href = window.URL.createObjectURL(blob);\n",
              "      a.download = filename;\n",
              "      div.appendChild(a);\n",
              "      a.click();\n",
              "      div.remove();\n",
              "    }\n",
              "  "
            ],
            "text/plain": [
              "<IPython.core.display.Javascript object>"
            ]
          },
          "metadata": {
            "tags": []
          }
        },
        {
          "output_type": "display_data",
          "data": {
            "application/javascript": [
              "download(\"download_52b3652b-bd07-4087-bed1-eae318918d9a\", \"model1.weights\", 1705811)"
            ],
            "text/plain": [
              "<IPython.core.display.Javascript object>"
            ]
          },
          "metadata": {
            "tags": []
          }
        },
        {
          "output_type": "display_data",
          "data": {
            "application/javascript": [
              "\n",
              "    async function download(id, filename, size) {\n",
              "      if (!google.colab.kernel.accessAllowed) {\n",
              "        return;\n",
              "      }\n",
              "      const div = document.createElement('div');\n",
              "      const label = document.createElement('label');\n",
              "      label.textContent = `Downloading \"${filename}\": `;\n",
              "      div.appendChild(label);\n",
              "      const progress = document.createElement('progress');\n",
              "      progress.max = size;\n",
              "      div.appendChild(progress);\n",
              "      document.body.appendChild(div);\n",
              "\n",
              "      const buffers = [];\n",
              "      let downloaded = 0;\n",
              "\n",
              "      const channel = await google.colab.kernel.comms.open(id);\n",
              "      // Send a message to notify the kernel that we're ready.\n",
              "      channel.send({})\n",
              "\n",
              "      for await (const message of channel.messages) {\n",
              "        // Send a message to notify the kernel that we're ready.\n",
              "        channel.send({})\n",
              "        if (message.buffers) {\n",
              "          for (const buffer of message.buffers) {\n",
              "            buffers.push(buffer);\n",
              "            downloaded += buffer.byteLength;\n",
              "            progress.value = downloaded;\n",
              "          }\n",
              "        }\n",
              "      }\n",
              "      const blob = new Blob(buffers, {type: 'application/binary'});\n",
              "      const a = document.createElement('a');\n",
              "      a.href = window.URL.createObjectURL(blob);\n",
              "      a.download = filename;\n",
              "      div.appendChild(a);\n",
              "      a.click();\n",
              "      div.remove();\n",
              "    }\n",
              "  "
            ],
            "text/plain": [
              "<IPython.core.display.Javascript object>"
            ]
          },
          "metadata": {
            "tags": []
          }
        },
        {
          "output_type": "display_data",
          "data": {
            "application/javascript": [
              "download(\"download_28013c99-fbe8-4115-943e-b6393e12c67d\", \"model2.weights\", 2183589)"
            ],
            "text/plain": [
              "<IPython.core.display.Javascript object>"
            ]
          },
          "metadata": {
            "tags": []
          }
        },
        {
          "output_type": "display_data",
          "data": {
            "application/javascript": [
              "\n",
              "    async function download(id, filename, size) {\n",
              "      if (!google.colab.kernel.accessAllowed) {\n",
              "        return;\n",
              "      }\n",
              "      const div = document.createElement('div');\n",
              "      const label = document.createElement('label');\n",
              "      label.textContent = `Downloading \"${filename}\": `;\n",
              "      div.appendChild(label);\n",
              "      const progress = document.createElement('progress');\n",
              "      progress.max = size;\n",
              "      div.appendChild(progress);\n",
              "      document.body.appendChild(div);\n",
              "\n",
              "      const buffers = [];\n",
              "      let downloaded = 0;\n",
              "\n",
              "      const channel = await google.colab.kernel.comms.open(id);\n",
              "      // Send a message to notify the kernel that we're ready.\n",
              "      channel.send({})\n",
              "\n",
              "      for await (const message of channel.messages) {\n",
              "        // Send a message to notify the kernel that we're ready.\n",
              "        channel.send({})\n",
              "        if (message.buffers) {\n",
              "          for (const buffer of message.buffers) {\n",
              "            buffers.push(buffer);\n",
              "            downloaded += buffer.byteLength;\n",
              "            progress.value = downloaded;\n",
              "          }\n",
              "        }\n",
              "      }\n",
              "      const blob = new Blob(buffers, {type: 'application/binary'});\n",
              "      const a = document.createElement('a');\n",
              "      a.href = window.URL.createObjectURL(blob);\n",
              "      a.download = filename;\n",
              "      div.appendChild(a);\n",
              "      a.click();\n",
              "      div.remove();\n",
              "    }\n",
              "  "
            ],
            "text/plain": [
              "<IPython.core.display.Javascript object>"
            ]
          },
          "metadata": {
            "tags": []
          }
        },
        {
          "output_type": "display_data",
          "data": {
            "application/javascript": [
              "download(\"download_7d2d3497-a2ac-44cd-986b-d8377c4c55cf\", \"model3.weights\", 2757029)"
            ],
            "text/plain": [
              "<IPython.core.display.Javascript object>"
            ]
          },
          "metadata": {
            "tags": []
          }
        },
        {
          "output_type": "display_data",
          "data": {
            "application/javascript": [
              "\n",
              "    async function download(id, filename, size) {\n",
              "      if (!google.colab.kernel.accessAllowed) {\n",
              "        return;\n",
              "      }\n",
              "      const div = document.createElement('div');\n",
              "      const label = document.createElement('label');\n",
              "      label.textContent = `Downloading \"${filename}\": `;\n",
              "      div.appendChild(label);\n",
              "      const progress = document.createElement('progress');\n",
              "      progress.max = size;\n",
              "      div.appendChild(progress);\n",
              "      document.body.appendChild(div);\n",
              "\n",
              "      const buffers = [];\n",
              "      let downloaded = 0;\n",
              "\n",
              "      const channel = await google.colab.kernel.comms.open(id);\n",
              "      // Send a message to notify the kernel that we're ready.\n",
              "      channel.send({})\n",
              "\n",
              "      for await (const message of channel.messages) {\n",
              "        // Send a message to notify the kernel that we're ready.\n",
              "        channel.send({})\n",
              "        if (message.buffers) {\n",
              "          for (const buffer of message.buffers) {\n",
              "            buffers.push(buffer);\n",
              "            downloaded += buffer.byteLength;\n",
              "            progress.value = downloaded;\n",
              "          }\n",
              "        }\n",
              "      }\n",
              "      const blob = new Blob(buffers, {type: 'application/binary'});\n",
              "      const a = document.createElement('a');\n",
              "      a.href = window.URL.createObjectURL(blob);\n",
              "      a.download = filename;\n",
              "      div.appendChild(a);\n",
              "      a.click();\n",
              "      div.remove();\n",
              "    }\n",
              "  "
            ],
            "text/plain": [
              "<IPython.core.display.Javascript object>"
            ]
          },
          "metadata": {
            "tags": []
          }
        },
        {
          "output_type": "display_data",
          "data": {
            "application/javascript": [
              "download(\"download_02f3b382-ff19-44b4-b1ac-67917dffb6d1\", \"model4.weights\", 3234807)"
            ],
            "text/plain": [
              "<IPython.core.display.Javascript object>"
            ]
          },
          "metadata": {
            "tags": []
          }
        }
      ]
    },
    {
      "cell_type": "code",
      "metadata": {
        "id": "2FPKQ4uGxyCB",
        "colab": {
          "base_uri": "https://localhost:8080/",
          "height": 313
        },
        "outputId": "3c3bc39c-81e5-4b66-d4f5-7dbdd5bbf9d8"
      },
      "source": [
        "a,b,c,d = model_trained1, model_trained2,model_trained3, model_trained4\n",
        "\n",
        "print('Training Loss')\n",
        "fig = plt.figure()\n",
        "\n",
        "plt.plot(range(0,10), a[1], color='b', label='1 layer')\n",
        "plt.plot(range(0,10), b[1], color='orange', label='2 layer less param')\n",
        "plt.plot(range(0,10), c[1], color='g', label='2 layer more param')\n",
        "plt.plot(range(0,10), d[1], color='r', label='3 layer')\n",
        "plt.legend(('1 Layer', '2 Layer less param', '2 Layer more param', '3 Layer'))\n",
        "\n",
        "plt.title(\"Training loss\")\n",
        "plt.xlabel(\"Epoch\")\n",
        "plt.ylabel(\"Cross Entropy\")\n",
        "\n",
        "plt.savefig(\"./multimodel_cross_epoch.jpg\")\n",
        "files.download('multimodel_cross_epoch.jpg')"
      ],
      "execution_count": 35,
      "outputs": [
        {
          "output_type": "stream",
          "text": [
            "Training Loss\n"
          ],
          "name": "stdout"
        },
        {
          "output_type": "display_data",
          "data": {
            "application/javascript": [
              "\n",
              "    async function download(id, filename, size) {\n",
              "      if (!google.colab.kernel.accessAllowed) {\n",
              "        return;\n",
              "      }\n",
              "      const div = document.createElement('div');\n",
              "      const label = document.createElement('label');\n",
              "      label.textContent = `Downloading \"${filename}\": `;\n",
              "      div.appendChild(label);\n",
              "      const progress = document.createElement('progress');\n",
              "      progress.max = size;\n",
              "      div.appendChild(progress);\n",
              "      document.body.appendChild(div);\n",
              "\n",
              "      const buffers = [];\n",
              "      let downloaded = 0;\n",
              "\n",
              "      const channel = await google.colab.kernel.comms.open(id);\n",
              "      // Send a message to notify the kernel that we're ready.\n",
              "      channel.send({})\n",
              "\n",
              "      for await (const message of channel.messages) {\n",
              "        // Send a message to notify the kernel that we're ready.\n",
              "        channel.send({})\n",
              "        if (message.buffers) {\n",
              "          for (const buffer of message.buffers) {\n",
              "            buffers.push(buffer);\n",
              "            downloaded += buffer.byteLength;\n",
              "            progress.value = downloaded;\n",
              "          }\n",
              "        }\n",
              "      }\n",
              "      const blob = new Blob(buffers, {type: 'application/binary'});\n",
              "      const a = document.createElement('a');\n",
              "      a.href = window.URL.createObjectURL(blob);\n",
              "      a.download = filename;\n",
              "      div.appendChild(a);\n",
              "      a.click();\n",
              "      div.remove();\n",
              "    }\n",
              "  "
            ],
            "text/plain": [
              "<IPython.core.display.Javascript object>"
            ]
          },
          "metadata": {
            "tags": []
          }
        },
        {
          "output_type": "display_data",
          "data": {
            "application/javascript": [
              "download(\"download_ff790f9b-b6e7-44a6-beff-b7457ffa0d10\", \"multimodel_cross_epoch.jpg\", 24973)"
            ],
            "text/plain": [
              "<IPython.core.display.Javascript object>"
            ]
          },
          "metadata": {
            "tags": []
          }
        },
        {
          "output_type": "display_data",
          "data": {
            "image/png": "[encoded data removed]",
            "text/plain": [
              "<Figure size 432x288 with 1 Axes>"
            ]
          },
          "metadata": {
            "tags": [],
            "needs_background": "light"
          }
        }
      ]
    },
    {
      "cell_type": "markdown",
      "metadata": {
        "id": "nxjCKPmTvRcr"
      },
      "source": [
        "## Explaination output 1 :\n",
        "- From the graph above, 2 layer more param shows the least loss.\n",
        "- We can explain that suitable layer which are not too deep and not to shallow will predict the model better. Therefore, getting best model requires time for tuning and defining.\n",
        "- Having same layer but more param helps model learn more and better features which in result better performance and lesser lost/error. But above also shows that the 3 layer with more params is perform worser than layer 2 more param model.\n",
        "- We can conclude that a suitable layer and param will perform well.\n"
      ]
    },
    {
      "cell_type": "code",
      "metadata": {
        "id": "o70kosxJyTBx",
        "colab": {
          "base_uri": "https://localhost:8080/",
          "height": 295
        },
        "outputId": "d50a2d7c-fefa-4faa-abf7-c3b57abc22aa"
      },
      "source": [
        "paramList = [426031,545327,688687,807983]\n",
        "point1 = a[4][-1]\n",
        "point2 = b[4][-1]\n",
        "point3 = c[4][-1]\n",
        "point4 = d[4][-1]\n",
        "\n",
        "train_y = [point1, point2, point3, point4]\n",
        "\n",
        "point1 = a[5]\n",
        "point2 = b[5]\n",
        "point3 = c[5]\n",
        "point4 = d[5]\n",
        "\n",
        "test_y = [point1, point2, point3, point4]\n",
        "\n",
        "plt.plot(paramList, train_y, color='b', label='train')\n",
        "plt.plot(paramList, test_y, color='r', label='test')\n",
        "\n",
        "plt.legend(('train','test'))\n",
        "\n",
        "plt.title(\"Training and test accuracy\")\n",
        "plt.xlabel(\"Model parameters\")\n",
        "plt.ylabel(\"Prediction Accuracy %\")\n",
        "\n",
        "plt.savefig(\"./multimodel_pred_param.jpg\")\n",
        "files.download('multimodel_pred_param.jpg')"
      ],
      "execution_count": 48,
      "outputs": [
        {
          "output_type": "display_data",
          "data": {
            "application/javascript": [
              "\n",
              "    async function download(id, filename, size) {\n",
              "      if (!google.colab.kernel.accessAllowed) {\n",
              "        return;\n",
              "      }\n",
              "      const div = document.createElement('div');\n",
              "      const label = document.createElement('label');\n",
              "      label.textContent = `Downloading \"${filename}\": `;\n",
              "      div.appendChild(label);\n",
              "      const progress = document.createElement('progress');\n",
              "      progress.max = size;\n",
              "      div.appendChild(progress);\n",
              "      document.body.appendChild(div);\n",
              "\n",
              "      const buffers = [];\n",
              "      let downloaded = 0;\n",
              "\n",
              "      const channel = await google.colab.kernel.comms.open(id);\n",
              "      // Send a message to notify the kernel that we're ready.\n",
              "      channel.send({})\n",
              "\n",
              "      for await (const message of channel.messages) {\n",
              "        // Send a message to notify the kernel that we're ready.\n",
              "        channel.send({})\n",
              "        if (message.buffers) {\n",
              "          for (const buffer of message.buffers) {\n",
              "            buffers.push(buffer);\n",
              "            downloaded += buffer.byteLength;\n",
              "            progress.value = downloaded;\n",
              "          }\n",
              "        }\n",
              "      }\n",
              "      const blob = new Blob(buffers, {type: 'application/binary'});\n",
              "      const a = document.createElement('a');\n",
              "      a.href = window.URL.createObjectURL(blob);\n",
              "      a.download = filename;\n",
              "      div.appendChild(a);\n",
              "      a.click();\n",
              "      div.remove();\n",
              "    }\n",
              "  "
            ],
            "text/plain": [
              "<IPython.core.display.Javascript object>"
            ]
          },
          "metadata": {
            "tags": []
          }
        },
        {
          "output_type": "display_data",
          "data": {
            "application/javascript": [
              "download(\"download_0b4da077-26d2-4958-a28c-78e47207a7de\", \"multimodel_pred_param.jpg\", 25858)"
            ],
            "text/plain": [
              "<IPython.core.display.Javascript object>"
            ]
          },
          "metadata": {
            "tags": []
          }
        },
        {
          "output_type": "display_data",
          "data": {
            "image/png": "[encoded data removed]",
            "text/plain": [
              "<Figure size 432x288 with 1 Axes>"
            ]
          },
          "metadata": {
            "tags": [],
            "needs_background": "light"
          }
        }
      ]
    },
    {
      "cell_type": "code",
      "metadata": {
        "id": "P25_bEuf37W8",
        "colab": {
          "base_uri": "https://localhost:8080/",
          "height": 295
        },
        "outputId": "02979414-6257-4996-fb28-9749d6b26ef8"
      },
      "source": [
        "trainL = len(train)\n",
        "testL = len(test)\n",
        "\n",
        "point1 = (100 - a[4][-1])/100\n",
        "point2 = (100 - b[4][-1])/100\n",
        "point3 = (100 - c[4][-1])/100\n",
        "point4 = (100 - d[4][-1])/100\n",
        "\n",
        "train_y = [point1, point2, point3, point4]\n",
        "\n",
        "point1 = (100 - a[5])/100\n",
        "point2 = (100 - b[5])/100\n",
        "point3 = (100 - c[5])/100\n",
        "point4 = (100 - d[5])/100\n",
        "\n",
        "test_y = [point1, point2, point3, point4]\n",
        "\n",
        "plt.plot(paramList, train_y, color='b', label='train')\n",
        "plt.plot(paramList, test_y, color='r', label='test')\n",
        "\n",
        "plt.legend(('train','test'))\n",
        "\n",
        "\n",
        "# [epochList, lossList, batchList, batchLoss,accuracy_list,testAccuracy,testError]\n",
        "\n",
        "plt.title(\"Training and test error\")\n",
        "plt.xlabel(\"Model parameters\")\n",
        "plt.ylabel(\"Prediction Errors\")\n",
        "\n",
        "plt.savefig(\"./multimodel_error_param.jpg\")\n",
        "files.download('multimodel_error_param.jpg')"
      ],
      "execution_count": 49,
      "outputs": [
        {
          "output_type": "display_data",
          "data": {
            "application/javascript": [
              "\n",
              "    async function download(id, filename, size) {\n",
              "      if (!google.colab.kernel.accessAllowed) {\n",
              "        return;\n",
              "      }\n",
              "      const div = document.createElement('div');\n",
              "      const label = document.createElement('label');\n",
              "      label.textContent = `Downloading \"${filename}\": `;\n",
              "      div.appendChild(label);\n",
              "      const progress = document.createElement('progress');\n",
              "      progress.max = size;\n",
              "      div.appendChild(progress);\n",
              "      document.body.appendChild(div);\n",
              "\n",
              "      const buffers = [];\n",
              "      let downloaded = 0;\n",
              "\n",
              "      const channel = await google.colab.kernel.comms.open(id);\n",
              "      // Send a message to notify the kernel that we're ready.\n",
              "      channel.send({})\n",
              "\n",
              "      for await (const message of channel.messages) {\n",
              "        // Send a message to notify the kernel that we're ready.\n",
              "        channel.send({})\n",
              "        if (message.buffers) {\n",
              "          for (const buffer of message.buffers) {\n",
              "            buffers.push(buffer);\n",
              "            downloaded += buffer.byteLength;\n",
              "            progress.value = downloaded;\n",
              "          }\n",
              "        }\n",
              "      }\n",
              "      const blob = new Blob(buffers, {type: 'application/binary'});\n",
              "      const a = document.createElement('a');\n",
              "      a.href = window.URL.createObjectURL(blob);\n",
              "      a.download = filename;\n",
              "      div.appendChild(a);\n",
              "      a.click();\n",
              "      div.remove();\n",
              "    }\n",
              "  "
            ],
            "text/plain": [
              "<IPython.core.display.Javascript object>"
            ]
          },
          "metadata": {
            "tags": []
          }
        },
        {
          "output_type": "display_data",
          "data": {
            "application/javascript": [
              "download(\"download_767768bd-261a-4eb9-ab12-285cfbf32f4f\", \"multimodel_error_param.jpg\", 25920)"
            ],
            "text/plain": [
              "<IPython.core.display.Javascript object>"
            ]
          },
          "metadata": {
            "tags": []
          }
        },
        {
          "output_type": "display_data",
          "data": {
            "image/png": "[encoded data removed]",
            "text/plain": [
              "<Figure size 432x288 with 1 Axes>"
            ]
          },
          "metadata": {
            "tags": [],
            "needs_background": "light"
          }
        }
      ]
    },
    {
      "cell_type": "markdown",
      "metadata": {
        "id": "fB5UAmiu05Mb"
      },
      "source": [
        "## Explaination output 2:\n",
        "- Both of the graph shows that the loss and accuracy are starting to show opposite results when it almost reaches 700000 params \n",
        "- Futher testing to see whether having more layers and params will show more clear results."
      ]
    },
    {
      "cell_type": "markdown",
      "metadata": {
        "id": "Tf87to3g15Yq"
      },
      "source": [
        "## Further experiment"
      ]
    },
    {
      "cell_type": "code",
      "metadata": {
        "id": "oc76J72wboyY"
      },
      "source": [
        "#create more complex class with one more layer\n",
        "class MLP4(nn.Module):\n",
        "  def __init__(self,input_size, hidden_size1,hidden_size2,hidden_size3,hidden_size4,num_classes):\n",
        "    super(MLP4,self).__init__()\n",
        "\n",
        "    self.layer1 = nn.Linear(input_size,hidden_size1) \n",
        "    self.layer2 = nn.Linear(hidden_size1,hidden_size2)\n",
        "    self.layer3 = nn.Linear(hidden_size2,hidden_size3)\n",
        "    self.layer4 = nn.Linear(hidden_size3,hidden_size4)\n",
        "    self.layer5 = nn.Linear(hidden_size4,num_classes)\n",
        "\n",
        "  def forward(self,x): \n",
        "\n",
        "    out = self.layer1(x)\n",
        "    out = torch.sigmoid(out)\n",
        "    out = self.layer2(out)\n",
        "    out = torch.sigmoid(out)\n",
        "    out = self.layer3(out)\n",
        "    out = torch.sigmoid(out)\n",
        "    out = self.layer4(out)\n",
        "    out = torch.sigmoid(out)\n",
        "    out = self.layer5(out)\n",
        " \n",
        "    if not self.training:\n",
        "      out = F.softmax(out,dim=1)\n",
        "    return out"
      ],
      "execution_count": 13,
      "outputs": []
    },
    {
      "cell_type": "code",
      "metadata": {
        "id": "OEgInoMk1wa4"
      },
      "source": [
        "# Get Overfitting training results\n",
        "def train_overfit(model,train_loader,test_loader):\n",
        "  total_train = len(train)\n",
        "  total_test = len(test)\n",
        "\n",
        "  loss_fn = nn.CrossEntropyLoss() \n",
        "  opt = torch.optim.Adam(model.parameters()) #optimizer, optimization strategy-to escape the local minima and to converge quickly\n",
        "  train_loss_list = []\n",
        "  test_loss_list = []\n",
        "  train_accuracy_list =[]\n",
        "  test_accuracy_list =[]\n",
        "\n",
        "  for epoch in range(30):\n",
        "    model.train() #training mode\n",
        "    train_loss = 0\n",
        "    test_loss = 0\n",
        "    train_correct = 0\n",
        "    test_correct = 0\n",
        "\n",
        "    for input_batch, target_batch in train_loader:\n",
        "\n",
        "      opt.zero_grad() #zero the gradients\n",
        "      predict_batch = model(input_batch) #fwd\n",
        "      loss_batch = loss_fn(predict_batch,target_batch) #loss\n",
        "      loss_batch.backward() #backward\n",
        "\n",
        "      opt.step()#optimize i.e update weights\n",
        "\n",
        "      train_loss += loss_batch.item()\n",
        "      _, prediction = torch.max(predict_batch, dim=1)\n",
        "      train_correct += torch.sum(prediction==target_batch).item()\n",
        "      \n",
        "    train_accuracy = train_correct/total_train*100\n",
        "    train_loss_list.append(train_loss)    \n",
        "    train_accuracy_list.append(train_accuracy)\n",
        "\n",
        "    with torch.no_grad():\n",
        "      for input_batch, target_batch in test_loader:\n",
        "\n",
        "        opt.zero_grad() #zero the gradients\n",
        "        predict_batch = model(input_batch) #fwd\n",
        "        loss_batch = loss_fn(predict_batch,target_batch) #loss\n",
        "\n",
        "        test_loss += loss_batch.item()\n",
        "\n",
        "        _, prediction = torch.max(predict_batch, dim=1)\n",
        "        test_correct += torch.sum(prediction==target_batch).item()\n",
        "\n",
        "      test_accuracy = test_correct/total_test*100\n",
        "      test_loss_list.append(test_loss)    \n",
        "      test_accuracy_list.append(test_accuracy)\n",
        "\n",
        "    print(f'Epoch: {epoch+1}  train loss: {train_loss}  train accuracy: {train_accuracy}    test loss: {test_loss} test accuracy: {test_accuracy}')\n",
        "  \n",
        "  return train_loss_list, test_loss_list, train_accuracy_list, test_accuracy_list"
      ],
      "execution_count": 14,
      "outputs": []
    },
    {
      "cell_type": "code",
      "metadata": {
        "colab": {
          "base_uri": "https://localhost:8080/"
        },
        "id": "0Qk5_k2O2XQM",
        "outputId": "13979199-71e6-4190-d63c-9b6ffdefca88"
      },
      "source": [
        "model5 = MLP4(784, 512, 512, 512 ,256, 47)\n",
        "\n",
        "print(\"4 layer model - model 5\\n\" )\n",
        "print(summary(model5, torch.zeros((1, 784)), show_input=False)+'\\n')\n"
      ],
      "execution_count": 27,
      "outputs": [
        {
          "output_type": "stream",
          "text": [
            "4 layer model - model 5\n",
            "\n",
            "-----------------------------------------------------------------------\n",
            "      Layer (type)        Output Shape         Param #     Tr. Param #\n",
            "=======================================================================\n",
            "          Linear-1            [1, 512]         401,920         401,920\n",
            "          Linear-2            [1, 512]         262,656         262,656\n",
            "          Linear-3            [1, 512]         262,656         262,656\n",
            "          Linear-4            [1, 256]         131,328         131,328\n",
            "          Linear-5             [1, 47]          12,079          12,079\n",
            "=======================================================================\n",
            "Total params: 1,070,639\n",
            "Trainable params: 1,070,639\n",
            "Non-trainable params: 0\n",
            "-----------------------------------------------------------------------\n",
            "\n"
          ],
          "name": "stdout"
        }
      ]
    },
    {
      "cell_type": "code",
      "metadata": {
        "colab": {
          "base_uri": "https://localhost:8080/"
        },
        "id": "UPCsLXmK8izP",
        "outputId": "a2c1ed05-2e90-4352-85d4-89b401cfb6a4"
      },
      "source": [
        "#train complex model\n",
        "train_loss_list, test_loss_list, train_accuracy_list, test_accuracy_list = train_overfit(model5,train_loader,test_loader)\n",
        "overfit_result = [train_loss_list, test_loss_list, train_accuracy_list, test_accuracy_list]"
      ],
      "execution_count": 28,
      "outputs": [
        {
          "output_type": "stream",
          "text": [
            "Epoch: 1  train loss: 4153.905267000198  train accuracy: 76.47206318094027    test loss: 401.6609491109848 test accuracy: 84.97975464869373\n",
            "Epoch: 2  train loss: 2154.216828495264  train accuracy: 86.32932721239318    test loss: 338.41128635406494 test accuracy: 86.94067381343329\n",
            "Epoch: 3  train loss: 1874.948687016964  train accuracy: 87.76628668695517    test loss: 314.44961212575436 test accuracy: 87.71438150666678\n",
            "Epoch: 4  train loss: 1721.6688443124294  train accuracy: 88.54917097940773    test loss: 296.24692064523697 test accuracy: 88.2955219518066\n",
            "Epoch: 5  train loss: 1618.3137329146266  train accuracy: 89.076586257687    test loss: 292.54583210498095 test accuracy: 88.44252641352097\n",
            "Epoch: 6  train loss: 1539.0521349310875  train accuracy: 89.51000957113301    test loss: 298.13249569386244 test accuracy: 88.27488974665371\n",
            "Epoch: 7  train loss: 1475.5075745284557  train accuracy: 89.83153086547114    test loss: 282.3028597086668 test accuracy: 88.83281896099653\n",
            "Epoch: 8  train loss: 1416.8648155853152  train accuracy: 90.13299289902167    test loss: 284.7880807518959 test accuracy: 88.83367863621125\n",
            "Epoch: 9  train loss: 1369.850776322186  train accuracy: 90.39362000882608    test loss: 288.9472246915102 test accuracy: 88.75888689253199\n",
            "Epoch: 10  train loss: 1325.1776311472058  train accuracy: 90.60008711450399    test loss: 281.90016286820173 test accuracy: 88.94199771326393\n",
            "Epoch: 11  train loss: 1283.706725820899  train accuracy: 90.86200374821615    test loss: 284.45369286090136 test accuracy: 89.0236668586608\n",
            "Epoch: 12  train loss: 1248.4061912484467  train accuracy: 91.03551635402876    test loss: 284.2202356234193 test accuracy: 89.08642314933418\n",
            "Epoch: 13  train loss: 1215.4341267421842  train accuracy: 91.21604970111702    test loss: 289.74747109413147 test accuracy: 88.94973479019626\n",
            "Epoch: 14  train loss: 1185.1416338011622  train accuracy: 91.39271447648196    test loss: 287.0851127579808 test accuracy: 89.16465359387223\n",
            "Epoch: 15  train loss: 1156.6762099638581  train accuracy: 91.5633614736106    test loss: 296.8707270771265 test accuracy: 88.935979986761\n",
            "Epoch: 16  train loss: 1127.1058390140533  train accuracy: 91.72139979252994    test loss: 300.01180170476437 test accuracy: 88.8680656447994\n",
            "Epoch: 17  train loss: 1104.3912923634052  train accuracy: 91.8768590636337    test loss: 297.94922483712435 test accuracy: 89.05289581596072\n",
            "Epoch: 18  train loss: 1078.3620291501284  train accuracy: 92.02343494781726    test loss: 303.25055684894323 test accuracy: 88.99873627743439\n",
            "Epoch: 19  train loss: 1054.3037775158882  train accuracy: 92.14493675601635    test loss: 307.27105228602886 test accuracy: 89.04000068774018\n",
            "Epoch: 20  train loss: 1031.5126001760364  train accuracy: 92.29867666190975    test loss: 309.1285091340542 test accuracy: 89.13112626049879\n",
            "Epoch: 21  train loss: 1012.1982412673533  train accuracy: 92.43092450267362    test loss: 317.2995208799839 test accuracy: 88.9789637474962\n",
            "Epoch: 22  train loss: 991.4769680090249  train accuracy: 92.54827117828098    test loss: 318.39313788712025 test accuracy: 88.99959595264909\n",
            "Epoch: 23  train loss: 972.1770014315844  train accuracy: 92.67378483863757    test loss: 328.2302296459675 test accuracy: 88.97982342271091\n",
            "Epoch: 24  train loss: 953.4143283814192  train accuracy: 92.7644813534843    test loss: 331.30649887770414 test accuracy: 88.9144881063934\n",
            "Epoch: 25  train loss: 935.9418687149882  train accuracy: 92.91306316374661    test loss: 340.7988009303808 test accuracy: 88.8912768755964\n",
            "Epoch: 26  train loss: 922.6287033297122  train accuracy: 93.00562232423789    test loss: 343.36054634302855 test accuracy: 88.86634629436999\n",
            "Epoch: 27  train loss: 904.1284637637436  train accuracy: 93.11895714768774    test loss: 355.81719782948494 test accuracy: 88.68839352492628\n",
            "Epoch: 28  train loss: 887.0714235790074  train accuracy: 93.19991059300906    test loss: 354.00066377967596 test accuracy: 88.86634629436999\n",
            "Epoch: 29  train loss: 872.4768355824053  train accuracy: 93.32270192511591    test loss: 370.6012607887387 test accuracy: 88.52849393499136\n",
            "Epoch: 30  train loss: 859.7230640500784  train accuracy: 93.39706447046417    test loss: 372.93749399483204 test accuracy: 88.52247620848843\n"
          ],
          "name": "stdout"
        }
      ]
    },
    {
      "cell_type": "code",
      "metadata": {
        "colab": {
          "base_uri": "https://localhost:8080/",
          "height": 591
        },
        "id": "fjggT-Uh8-_K",
        "outputId": "9b6a7f7e-bff5-4455-ddcc-bcc9e6755898"
      },
      "source": [
        "#plot\n",
        "plt.figure(0)\n",
        "\n",
        "plt.plot(range(0,30), train_loss_list, label='train' ,color = 'b')\n",
        "plt.plot(range(0,30), test_loss_list, label='test', color='r')\n",
        "plt.legend(('train','test'))\n",
        "plt.title(\"Model Loss\")\n",
        "plt.xlabel(\"Epoch\")\n",
        "plt.ylabel(\"Cross Entropy Loss\")\n",
        "# plt.savefig(\"./model_loss.jpg\")\n",
        "# files.download('model_loss.jpg')\n",
        "\n",
        "plt.figure(1)\n",
        "\n",
        "plt.plot(range(0,30), test_loss_list, label='test', color='r')\n",
        "plt.title(\"Model Loss validation\")\n",
        "plt.xlabel(\"Epoch\")\n",
        "plt.ylabel(\"Cross Entropy Loss\")\n"
      ],
      "execution_count": 57,
      "outputs": [
        {
          "output_type": "execute_result",
          "data": {
            "text/plain": [
              "Text(0, 0.5, 'Cross Entropy Loss')"
            ]
          },
          "metadata": {
            "tags": []
          },
          "execution_count": 57
        },
        {
          "output_type": "display_data",
          "data": {
            "image/png": "[encoded data removed]",
            "text/plain": [
              "<Figure size 432x288 with 1 Axes>"
            ]
          },
          "metadata": {
            "tags": [],
            "needs_background": "light"
          }
        },
        {
          "output_type": "display_data",
          "data": {
            "image/png": "[encoded data removed]",
            "text/plain": [
              "<Figure size 432x288 with 1 Axes>"
            ]
          },
          "metadata": {
            "tags": [],
            "needs_background": "light"
          }
        }
      ]
    },
    {
      "cell_type": "code",
      "metadata": {
        "colab": {
          "base_uri": "https://localhost:8080/",
          "height": 591
        },
        "id": "y4gG8AC9ubS-",
        "outputId": "a3ce568a-46dd-4348-b33a-a9a4254a905f"
      },
      "source": [
        "plt.figure(0)\n",
        "\n",
        "plt.plot(range(0,30), train_accuracy_list, label='train', color='b')\n",
        "plt.plot(range(0,30), test_accuracy_list, label='test', color='r')\n",
        "plt.legend(('train','test'))\n",
        "plt.title(\"Model Accuracy\")\n",
        "plt.xlabel(\"Epoch\")\n",
        "plt.ylabel(\"Cross Entropy Loss\")\n",
        "\n",
        "# plt.savefig(\"./model_accuracy.jpg\")\n",
        "# files.download('model_accuracy.jpg')\n",
        "\n",
        "plt.figure(1)\n",
        "\n",
        "plt.plot(range(0,30), test_accuracy_list, label='test', color='r')\n",
        "plt.title(\"Model Accuracy validation\")\n",
        "plt.xlabel(\"Epoch\")\n",
        "plt.ylabel(\"Cross Entropy Loss\")"
      ],
      "execution_count": 60,
      "outputs": [
        {
          "output_type": "execute_result",
          "data": {
            "text/plain": [
              "Text(0, 0.5, 'Cross Entropy Loss')"
            ]
          },
          "metadata": {
            "tags": []
          },
          "execution_count": 60
        },
        {
          "output_type": "display_data",
          "data": {
            "image/png": "[encoded data removed]",
            "text/plain": [
              "<Figure size 432x288 with 1 Axes>"
            ]
          },
          "metadata": {
            "tags": [],
            "needs_background": "light"
          }
        },
        {
          "output_type": "display_data",
          "data": {
            "image/png": "[encoded data removed]",
            "text/plain": [
              "<Figure size 432x288 with 1 Axes>"
            ]
          },
          "metadata": {
            "tags": [],
            "needs_background": "light"
          }
        }
      ]
    },
    {
      "cell_type": "markdown",
      "metadata": {
        "id": "r6RRkHaFqI66"
      },
      "source": [
        "## Explaination on experiment:\n",
        "- new model - model5 - MLP4(784, 512, 512, 512 ,256, 47) is created\n",
        "- it has added one hidden layer to the complexity and more params (1,070,639)\n",
        "- 30 epochs have done to see how well the model goes\n",
        "- both of the graph shows that the model has become overfitting when the training goes on after n number of epochs.\n",
        "- training loss are dropping while the testing validation are remains or with small increase after some epoch after n number of epoch\n",
        "- training accuracy are increasing well but the testing validation accuracy  drops after n number of epochs\n",
        "- this shows that the model overfitting to the training dataset and unable to generalize and predict the testing dataset well and hence the testing dataset are unable to have better predictions."
      ]
    }
  ]
}