{
  "nbformat": 4,
  "nbformat_minor": 0,
  "metadata": {
    "colab": {
      "name": "LinearRegressionML.ipynb",
      "provenance": [],
      "authorship_tag": "ABX9TyMgAZXr/PicuNXGWbAIpnZx",
      "include_colab_link": true
    },
    "kernelspec": {
      "name": "python3",
      "display_name": "Python 3"
    },
    "accelerator": "GPU"
  },
  "cells": [
    {
      "cell_type": "markdown",
      "metadata": {
        "id": "view-in-github",
        "colab_type": "text"
      },
      "source": [
        "<a href=\"https://colab.research.google.com/github/TANKIANAUN/Machine-Learning/blob/master/LinearRegressionML.ipynb\" target=\"_parent\"><img src=\"https://colab.research.google.com/assets/colab-badge.svg\" alt=\"Open In Colab\"/></a>"
      ]
    },
    {
      "cell_type": "code",
      "metadata": {
        "id": "ozgIzIZn8D5N",
        "colab_type": "code",
        "colab": {
          "base_uri": "https://localhost:8080/",
          "height": 156
        },
        "outputId": "34e04dc8-d708-4731-ab0e-204aa81942ab"
      },
      "source": [
        "import pandas as pd\n",
        "import numpy as np\n",
        "import sklearn\n",
        "from sklearn import linear_model\n",
        "from sklearn.utils import shuffle\n",
        "data = pd.read_csv(\"student-mat.csv\", sep=\";\")\n",
        "# Since our data is seperated by semicolons we need to do sep=\";\"\n",
        "print(data.head())\n",
        "data = data[[\"G1\", \"G2\", \"G3\", \"studytime\", \"failures\", \"absences\"]]\n",
        "predict = \"G3\"\n",
        "\n",
        "X = np.array(data.drop([predict], 1)) # Features\n",
        "y = np.array(data[predict]) # Labels\n",
        "x_train, x_test, y_train, y_test = sklearn.model_selection.train_test_split(X, y, test_size = 0.1)\n",
        "\n"
      ],
      "execution_count": 3,
      "outputs": [
        {
          "output_type": "stream",
          "text": [
            "  school sex  age address famsize Pstatus  ...  Walc  health absences  G1  G2  G3\n",
            "0     GP   F   18       U     GT3       A  ...     1       3        6   5   6   6\n",
            "1     GP   F   17       U     GT3       T  ...     1       3        4   5   5   6\n",
            "2     GP   F   15       U     LE3       T  ...     3       3       10   7   8  10\n",
            "3     GP   F   15       U     GT3       T  ...     1       5        2  15  14  15\n",
            "4     GP   F   16       U     GT3       T  ...     2       5        4   6  10  10\n",
            "\n",
            "[5 rows x 33 columns]\n"
          ],
          "name": "stdout"
        }
      ]
    },
    {
      "cell_type": "code",
      "metadata": {
        "id": "hgswzqhp8aLl",
        "colab_type": "code",
        "colab": {
          "base_uri": "https://localhost:8080/",
          "height": 797
        },
        "outputId": "ea388fbd-61f3-4d87-957c-d2bccc84d2c3"
      },
      "source": [
        "linear = linear_model.LinearRegression()\n",
        "\n",
        "linear.fit(x_train, y_train)\n",
        "acc = linear.score(x_test, y_test)\n",
        "print(acc)\n",
        "\n",
        "print('Coefficient: \\n', linear.coef_)\n",
        "print('Intercept: \\n', linear.intercept_)\n",
        "\n",
        "predictions = linear.predict(x_test)\n",
        "\n",
        "for x in range(len(predictions)):\n",
        "    print(predictions[x], x_test[x], y_test[x])"
      ],
      "execution_count": 5,
      "outputs": [
        {
          "output_type": "stream",
          "text": [
            "0.7881949349739564\n",
            "Coefficient: \n",
            " [ 0.16397577  0.96472399 -0.19216944 -0.42443124  0.03505907]\n",
            "Intercept: \n",
            " -1.3906660623622198\n",
            "10.448522891461648 [11 11  3  0  0] 10\n",
            "6.547798974300127 [9 8 1 3 6] 10\n",
            "15.295727616656935 [15 15  2  0  4] 15\n",
            "15.061633713286374 [14 15  2  0  2] 15\n",
            "5.8874417250636695 [7 8 2 3 2] 9\n",
            "7.769159521417539 [ 9  8  2  0 10] 8\n",
            "8.996325781571986 [ 6 10  2  0  4] 10\n",
            "9.471378981359683 [ 9 10  3  0  9] 9\n",
            "14.99151557762911 [14 15  2  0  0] 15\n",
            "11.953384925426244 [14 12  2  1  8] 12\n",
            "8.663765370893335 [9 9 2 0 8] 9\n",
            "6.289869090284868 [8 7 2 0 0] 8\n",
            "4.172705855906686 [6 5 2 0 4] 6\n",
            "8.060316366828273 [ 9  9  2  2 15] 9\n",
            "4.24282399156395 [6 5 2 0 6] 6\n",
            "14.289079170648659 [14 14  1  0  2] 13\n",
            "18.21363906845488 [16 18  2  0  0] 19\n",
            "6.167914267692723 [ 7  8  2  3 10] 10\n",
            "5.51176001572483 [ 7  6  2  0 10] 6\n",
            "10.64069233395699 [11 11  2  0  0] 10\n",
            "9.319299841101591 [ 8  9  1  1 38] 8\n",
            "7.893197631557559 [7 9 1 1 2] 8\n",
            "11.038762005040843 [13 11  2  0  2] 11\n",
            "12.24203407192774 [12 12  1  0  8] 12\n",
            "13.019042792948738 [10 13  1  0 12] 12\n",
            "9.472110734253802 [ 7 10  2  1 25] 11\n",
            "6.063372332855012 [ 6  7  2  1 15] 8\n",
            "16.448166865902053 [17 16  2  0  0] 17\n",
            "8.912321813251177 [10  9  3  1 28] 9\n",
            "11.836888150510484 [15 12  2  1  0] 12\n",
            "8.055341292837694 [7 9 2 0 0] 8\n",
            "13.202303878677519 [14 13  2  0  4] 13\n",
            "11.190317847785233 [12 11  2  0 11] 11\n",
            "7.254593075417928 [8 8 2 0 0] 0\n",
            "9.516446759493917 [ 8 10  1  0  4] 10\n",
            "16.173459362780548 [15 16  3  0  7] 15\n",
            "18.944114453348604 [18 18  1  0  6] 18\n",
            "3.5798446703773683 [7 5 3 1 0] 0\n",
            "9.12765369611995 [10 10  4  0  0] 10\n",
            "13.534709592487387 [14 13  1  0  8] 13\n"
          ],
          "name": "stdout"
        }
      ]
    },
    {
      "cell_type": "code",
      "metadata": {
        "id": "JFbbDKUH9iPk",
        "colab_type": "code",
        "colab": {
          "base_uri": "https://localhost:8080/",
          "height": 1000
        },
        "outputId": "19f61ba9-b108-4e1b-d2d4-19da621123e1"
      },
      "source": [
        "#Import Library\n",
        "import numpy as np\n",
        "import pandas as pd\n",
        "from sklearn import linear_model\n",
        "import sklearn\n",
        "from sklearn.utils import shuffle\n",
        "import matplotlib.pyplot as plt\n",
        "from matplotlib import style\n",
        "import pickle\n",
        "\n",
        "style.use(\"ggplot\")\n",
        "\n",
        "data = pd.read_csv(\"student-mat.csv\", sep=\";\")\n",
        "\n",
        "predict = \"G3\"\n",
        "\n",
        "data = data[[\"G1\", \"G2\", \"absences\",\"failures\", \"studytime\",\"G3\"]]\n",
        "data = shuffle(data) # Optional - shuffle the data\n",
        "\n",
        "x = np.array(data.drop([predict], 1))\n",
        "y =np.array(data[predict])\n",
        "x_train, x_test, y_train, y_test = sklearn.model_selection.train_test_split(x, y, test_size=0.1)\n",
        "\n",
        "\n",
        "# TRAIN MODEL MULTIPLE TIMES FOR BEST SCORE\n",
        "best = 0\n",
        "for _ in range(20):\n",
        "    x_train, x_test, y_train, y_test = sklearn.model_selection.train_test_split(x, y, test_size=0.1)\n",
        "\n",
        "    linear = linear_model.LinearRegression()\n",
        "\n",
        "    linear.fit(x_train, y_train)\n",
        "    acc = linear.score(x_test, y_test)\n",
        "    print(\"Accuracy: \" + str(acc))\n",
        "\n",
        "    if acc > best:\n",
        "        best = acc\n",
        "        with open(\"studentgrades.pickle\", \"wb\") as f:\n",
        "            pickle.dump(linear, f)\n",
        "\n",
        "# LOAD MODEL\n",
        "pickle_in = open(\"studentgrades.pickle\", \"rb\")\n",
        "linear = pickle.load(pickle_in)\n",
        "\n",
        "\n",
        "print(\"-------------------------\")\n",
        "print('Coefficient: \\n', linear.coef_)\n",
        "print('Intercept: \\n', linear.intercept_)\n",
        "print(\"-------------------------\")\n",
        "\n",
        "predicted= linear.predict(x_test)\n",
        "for x in range(len(predicted)):\n",
        "    print(predicted[x], x_test[x], y_test[x])\n",
        "\n",
        "\n",
        "# Drawing and plotting model\n",
        "plot = \"failures\"\n",
        "plt.scatter(data[plot], data[\"G3\"])\n",
        "plt.legend(loc=4)\n",
        "plt.xlabel(plot)\n",
        "plt.ylabel(\"Final Grade\")\n",
        "plt.show()"
      ],
      "execution_count": 6,
      "outputs": [
        {
          "output_type": "stream",
          "text": [
            "No handles with labels found to put in legend.\n"
          ],
          "name": "stderr"
        },
        {
          "output_type": "stream",
          "text": [
            "Accuracy: 0.8303434899942519\n",
            "Accuracy: 0.9086466393431217\n",
            "Accuracy: 0.8590299812039957\n",
            "Accuracy: 0.6407723248344057\n",
            "Accuracy: 0.8525166648999696\n",
            "Accuracy: 0.8090095674384759\n",
            "Accuracy: 0.8536269973547773\n",
            "Accuracy: 0.6933296421859714\n",
            "Accuracy: 0.7300329610010134\n",
            "Accuracy: 0.8931513730222388\n",
            "Accuracy: 0.6945736115110485\n",
            "Accuracy: 0.8074717299145491\n",
            "Accuracy: 0.8745464644103402\n",
            "Accuracy: 0.9015260997278284\n",
            "Accuracy: 0.7969961277461228\n",
            "Accuracy: 0.9051433540088731\n",
            "Accuracy: 0.8632280509471763\n",
            "Accuracy: 0.7976045380873872\n",
            "Accuracy: 0.8290034471423202\n",
            "Accuracy: 0.7660872601082125\n",
            "-------------------------\n",
            "Coefficient: \n",
            " [ 0.15990686  0.97096052  0.03750309 -0.31449541 -0.1832309 ]\n",
            "Intercept: \n",
            " -1.505714801088459\n",
            "-------------------------\n",
            "-0.9360594941753964 [7 0 0 0 3] 0\n",
            "10.567364549730973 [11 11  0  0  2] 10\n",
            "10.727271406264528 [12 11  0  0  2] 12\n",
            "11.83377353451151 [12 12 12  1  2] 13\n",
            "4.627174591713737 [7 6 0 2 1] 0\n",
            "15.718656823738701 [14 16  0  0  3] 16\n",
            "11.956468992982794 [12 12  2  0  1] 14\n",
            "20.012658454370033 [18 19 10  0  1] 19\n",
            "14.218203746322306 [14 14  2  0  1] 14\n",
            "8.615548993541267 [10  9  4  0  2] 11\n",
            "7.262030053705669 [5 9 6 2 2] 7\n",
            "4.232197311561196 [ 5  5 12  0  2] 5\n",
            "9.075480531307326 [11  9 12  0  2] 9\n",
            "11.369273219006914 [12 12  1  0  4] 12\n",
            "9.439575658248263 [ 8  9 38  1  1] 8\n",
            "9.150486701615453 [11  9 14  0  2] 9\n",
            "8.357311926959202 [10  9  2  0  3] 9\n",
            "7.729489159630496 [11  8  2  0  2] 8\n",
            "7.709700127795891 [ 9  8 10  0  2] 8\n",
            "7.020173862517284 [9 8 0 1 2] 0\n",
            "16.35828424987292 [18 16  0  0  3] 16\n",
            "8.840567504465646 [10  9 10  0  2] 10\n",
            "12.76294643999727 [12 13  6  1  1] 14\n",
            "9.093359420253721 [ 9 10  0  0  3] 0\n",
            "3.810802628781957 [6 5 0 1 1] 0\n",
            "10.6423707200391 [11 11  2  0  2] 10\n",
            "12.584291760311501 [11 13  2  0  2] 13\n",
            "15.465864907950625 [15 15 10  0  2] 15\n",
            "11.510551665003476 [12 11 16  0  1] 11\n",
            "7.844657049943013 [6 9 4 1 1] 8\n",
            "11.590007200434915 [12 12  2  0  3] 11\n",
            "8.29573528047416 [8 9 4 0 2] 10\n",
            "12.68262197036001 [10 13  4  0  1] 14\n",
            "13.983290719480625 [13 14  0  0  1] 13\n",
            "7.464892585036909 [ 7  8 12  0  2] 8\n",
            "11.1960562512655 [12 11 16  1  1] 12\n",
            "12.223275118557611 [12 12 14  0  2] 12\n",
            "4.650341234676815 [ 6  5 14  0  1] 5\n",
            "5.907896912222439 [ 8  6 18  0  2] 7\n",
            "12.645868406796543 [13 13  0  0  3] 13\n"
          ],
          "name": "stdout"
        },
        {
          "output_type": "display_data",
          "data": {
            "image/png": "[encoded data removed]",
            "text/plain": [
              "<Figure size 432x288 with 1 Axes>"
            ]
          },
          "metadata": {
            "tags": []
          }
        }
      ]
    }
  ]
}